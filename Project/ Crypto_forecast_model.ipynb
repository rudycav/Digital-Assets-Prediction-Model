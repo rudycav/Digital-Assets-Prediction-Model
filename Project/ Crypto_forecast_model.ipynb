{
  "nbformat": 4,
  "nbformat_minor": 0,
  "metadata": {
    "colab": {
      "name": "Crypto_forecast_model.ipynb",
      "provenance": [],
      "authorship_tag": "ABX9TyNK0u9MmtutqxVu7B56Hrrb",
      "include_colab_link": true
    },
    "kernelspec": {
      "name": "python3",
      "display_name": "Python 3"
    },
    "language_info": {
      "name": "python"
    }
  },
  "cells": [
    {
      "cell_type": "markdown",
      "metadata": {
        "id": "view-in-github",
        "colab_type": "text"
      },
      "source": [
        "<a href=\"https://colab.research.google.com/github/rudycav/Digital-Assets-Prediction-Model/blob/main/Project/%20Crypto_forecast_model.ipynb\" target=\"_parent\"><img src=\"https://colab.research.google.com/assets/colab-badge.svg\" alt=\"Open In Colab\"/></a>"
      ]
    },
    {
      "cell_type": "code",
      "execution_count": 37,
      "metadata": {
        "id": "1wtfXUYtpAhS"
      },
      "outputs": [],
      "source": [
        "import numpy as np\n",
        "import math\n",
        "import requests\n",
        "import pandas as pd\n",
        "import matplotlib.pylab as plt\n",
        "from datetime import datetime\n",
        "from datetime import datetime, timedelta\n",
        "plt.style.use('fivethirtyeight')\n",
        "from sklearn.preprocessing import MinMaxScaler\n",
        "from sklearn.model_selection import train_test_split\n",
        "from sklearn import datasets\n",
        "from sklearn.neighbors import KNeighborsClassifier\n",
        "from sklearn import metrics\n",
        "from sklearn.svm import SVC\n",
        "from sklearn import svm\n",
        "from sklearn.linear_model import LinearRegression\n",
        "from sklearn.model_selection import GridSearchCV\n",
        "from sklearn.model_selection import RandomizedSearchCV\n",
        "from sklearn.model_selection import cross_val_score\n",
        "from sklearn.model_selection import StratifiedKFold\n",
        "from imblearn.under_sampling import RandomUnderSampler\n",
        "from scipy.stats import sem"
      ]
    },
    {
      "cell_type": "code",
      "source": [
        "symbol = 'ETH'\n",
        "\n",
        "def get_crypto_price(symbol, exchange, start_date = None):\n",
        "    api_key = ' E7KN41UXPEIKWXIK'\n",
        "    api_url = f'https://www.alphavantage.co/query?function=DIGITAL_CURRENCY_DAILY&symbol={symbol}&market={exchange}&apikey={api_key}'\n",
        "    raw_df = requests.get(api_url).json()\n",
        "    df = pd.DataFrame(raw_df['Time Series (Digital Currency Daily)']).T\n",
        "    df = df.rename(columns = {'1a. open (USD)': 'open', '2a. high (USD)': 'high', '3a. low (USD)': 'low', '4a. close (USD)': 'close', '5. volume': 'volume'})\n",
        "    df.index.names = ['Date']\n",
        " \n",
        "\n",
        "    for i in df.columns:\n",
        "        df[i] = df[i].astype(float)\n",
        "    df.index = pd.to_datetime(df.index)\n",
        "    df = df.iloc[::-1].drop(['1b. open (USD)', '2b. high (USD)', '3b. low (USD)', '4b. close (USD)', '6. market cap (USD)'], axis = 1)\n",
        "\n",
        "    if start_date:\n",
        "        df = df[df.index >= start_date]\n",
        "    return df\n",
        "\n",
        "crypto_df = get_crypto_price(symbol = symbol, exchange = 'USD', start_date = '2020-05-01')\n",
        "crypto_df.head()"
      ],
      "metadata": {
        "colab": {
          "base_uri": "https://localhost:8080/",
          "height": 238
        },
        "id": "g0Ku2ab-pG2U",
        "outputId": "b5d438d7-b32f-4f3b-d391-1a2d623ac924"
      },
      "execution_count": 38,
      "outputs": [
        {
          "output_type": "execute_result",
          "data": {
            "text/plain": [
              "              open    high     low   close        volume\n",
              "Date                                                    \n",
              "2020-05-01  206.07  217.14  205.91  212.02  7.949140e+05\n",
              "2020-05-02  212.01  215.37  210.36  213.90  4.434947e+05\n",
              "2020-05-03  213.89  219.30  203.92  209.86  7.483839e+05\n",
              "2020-05-04  209.86  210.65  194.88  206.48  1.114249e+06\n",
              "2020-05-05  206.47  211.68  201.00  205.29  6.406447e+05"
            ],
            "text/html": [
              "\n",
              "  <div id=\"df-71cdb066-424a-4513-9911-905db03e4998\">\n",
              "    <div class=\"colab-df-container\">\n",
              "      <div>\n",
              "<style scoped>\n",
              "    .dataframe tbody tr th:only-of-type {\n",
              "        vertical-align: middle;\n",
              "    }\n",
              "\n",
              "    .dataframe tbody tr th {\n",
              "        vertical-align: top;\n",
              "    }\n",
              "\n",
              "    .dataframe thead th {\n",
              "        text-align: right;\n",
              "    }\n",
              "</style>\n",
              "<table border=\"1\" class=\"dataframe\">\n",
              "  <thead>\n",
              "    <tr style=\"text-align: right;\">\n",
              "      <th></th>\n",
              "      <th>open</th>\n",
              "      <th>high</th>\n",
              "      <th>low</th>\n",
              "      <th>close</th>\n",
              "      <th>volume</th>\n",
              "    </tr>\n",
              "    <tr>\n",
              "      <th>Date</th>\n",
              "      <th></th>\n",
              "      <th></th>\n",
              "      <th></th>\n",
              "      <th></th>\n",
              "      <th></th>\n",
              "    </tr>\n",
              "  </thead>\n",
              "  <tbody>\n",
              "    <tr>\n",
              "      <th>2020-05-01</th>\n",
              "      <td>206.07</td>\n",
              "      <td>217.14</td>\n",
              "      <td>205.91</td>\n",
              "      <td>212.02</td>\n",
              "      <td>7.949140e+05</td>\n",
              "    </tr>\n",
              "    <tr>\n",
              "      <th>2020-05-02</th>\n",
              "      <td>212.01</td>\n",
              "      <td>215.37</td>\n",
              "      <td>210.36</td>\n",
              "      <td>213.90</td>\n",
              "      <td>4.434947e+05</td>\n",
              "    </tr>\n",
              "    <tr>\n",
              "      <th>2020-05-03</th>\n",
              "      <td>213.89</td>\n",
              "      <td>219.30</td>\n",
              "      <td>203.92</td>\n",
              "      <td>209.86</td>\n",
              "      <td>7.483839e+05</td>\n",
              "    </tr>\n",
              "    <tr>\n",
              "      <th>2020-05-04</th>\n",
              "      <td>209.86</td>\n",
              "      <td>210.65</td>\n",
              "      <td>194.88</td>\n",
              "      <td>206.48</td>\n",
              "      <td>1.114249e+06</td>\n",
              "    </tr>\n",
              "    <tr>\n",
              "      <th>2020-05-05</th>\n",
              "      <td>206.47</td>\n",
              "      <td>211.68</td>\n",
              "      <td>201.00</td>\n",
              "      <td>205.29</td>\n",
              "      <td>6.406447e+05</td>\n",
              "    </tr>\n",
              "  </tbody>\n",
              "</table>\n",
              "</div>\n",
              "      <button class=\"colab-df-convert\" onclick=\"convertToInteractive('df-71cdb066-424a-4513-9911-905db03e4998')\"\n",
              "              title=\"Convert this dataframe to an interactive table.\"\n",
              "              style=\"display:none;\">\n",
              "        \n",
              "  <svg xmlns=\"http://www.w3.org/2000/svg\" height=\"24px\"viewBox=\"0 0 24 24\"\n",
              "       width=\"24px\">\n",
              "    <path d=\"M0 0h24v24H0V0z\" fill=\"none\"/>\n",
              "    <path d=\"M18.56 5.44l.94 2.06.94-2.06 2.06-.94-2.06-.94-.94-2.06-.94 2.06-2.06.94zm-11 1L8.5 8.5l.94-2.06 2.06-.94-2.06-.94L8.5 2.5l-.94 2.06-2.06.94zm10 10l.94 2.06.94-2.06 2.06-.94-2.06-.94-.94-2.06-.94 2.06-2.06.94z\"/><path d=\"M17.41 7.96l-1.37-1.37c-.4-.4-.92-.59-1.43-.59-.52 0-1.04.2-1.43.59L10.3 9.45l-7.72 7.72c-.78.78-.78 2.05 0 2.83L4 21.41c.39.39.9.59 1.41.59.51 0 1.02-.2 1.41-.59l7.78-7.78 2.81-2.81c.8-.78.8-2.07 0-2.86zM5.41 20L4 18.59l7.72-7.72 1.47 1.35L5.41 20z\"/>\n",
              "  </svg>\n",
              "      </button>\n",
              "      \n",
              "  <style>\n",
              "    .colab-df-container {\n",
              "      display:flex;\n",
              "      flex-wrap:wrap;\n",
              "      gap: 12px;\n",
              "    }\n",
              "\n",
              "    .colab-df-convert {\n",
              "      background-color: #E8F0FE;\n",
              "      border: none;\n",
              "      border-radius: 50%;\n",
              "      cursor: pointer;\n",
              "      display: none;\n",
              "      fill: #1967D2;\n",
              "      height: 32px;\n",
              "      padding: 0 0 0 0;\n",
              "      width: 32px;\n",
              "    }\n",
              "\n",
              "    .colab-df-convert:hover {\n",
              "      background-color: #E2EBFA;\n",
              "      box-shadow: 0px 1px 2px rgba(60, 64, 67, 0.3), 0px 1px 3px 1px rgba(60, 64, 67, 0.15);\n",
              "      fill: #174EA6;\n",
              "    }\n",
              "\n",
              "    [theme=dark] .colab-df-convert {\n",
              "      background-color: #3B4455;\n",
              "      fill: #D2E3FC;\n",
              "    }\n",
              "\n",
              "    [theme=dark] .colab-df-convert:hover {\n",
              "      background-color: #434B5C;\n",
              "      box-shadow: 0px 1px 3px 1px rgba(0, 0, 0, 0.15);\n",
              "      filter: drop-shadow(0px 1px 2px rgba(0, 0, 0, 0.3));\n",
              "      fill: #FFFFFF;\n",
              "    }\n",
              "  </style>\n",
              "\n",
              "      <script>\n",
              "        const buttonEl =\n",
              "          document.querySelector('#df-71cdb066-424a-4513-9911-905db03e4998 button.colab-df-convert');\n",
              "        buttonEl.style.display =\n",
              "          google.colab.kernel.accessAllowed ? 'block' : 'none';\n",
              "\n",
              "        async function convertToInteractive(key) {\n",
              "          const element = document.querySelector('#df-71cdb066-424a-4513-9911-905db03e4998');\n",
              "          const dataTable =\n",
              "            await google.colab.kernel.invokeFunction('convertToInteractive',\n",
              "                                                     [key], {});\n",
              "          if (!dataTable) return;\n",
              "\n",
              "          const docLinkHtml = 'Like what you see? Visit the ' +\n",
              "            '<a target=\"_blank\" href=https://colab.research.google.com/notebooks/data_table.ipynb>data table notebook</a>'\n",
              "            + ' to learn more about interactive tables.';\n",
              "          element.innerHTML = '';\n",
              "          dataTable['output_type'] = 'display_data';\n",
              "          await google.colab.output.renderOutput(dataTable, element);\n",
              "          const docLink = document.createElement('div');\n",
              "          docLink.innerHTML = docLinkHtml;\n",
              "          element.appendChild(docLink);\n",
              "        }\n",
              "      </script>\n",
              "    </div>\n",
              "  </div>\n",
              "  "
            ]
          },
          "metadata": {},
          "execution_count": 38
        }
      ]
    },
    {
      "cell_type": "code",
      "source": [
        "forecast_days = 30\n",
        "\n",
        "def create_prediction_column(df):\n",
        "  crypto_df['forecast'] = crypto_df[['close']].shift(-forecast_days)\n",
        "\n",
        "  return crypto_df\n",
        "\n",
        "prediction_column = create_prediction_column(crypto_df)\n",
        "prediction_column.tail()"
      ],
      "metadata": {
        "colab": {
          "base_uri": "https://localhost:8080/",
          "height": 238
        },
        "id": "7F27gVJ3pMPD",
        "outputId": "effd3b25-90b1-4f4c-90e1-d7fa181afe2f"
      },
      "execution_count": 39,
      "outputs": [
        {
          "output_type": "execute_result",
          "data": {
            "text/plain": [
              "               open     high      low    close        volume  forecast\n",
              "Date                                                                  \n",
              "2022-07-11  1168.37  1171.29  1091.71  1096.40  1.201652e+06       NaN\n",
              "2022-07-12  1096.37  1098.26  1033.46  1038.58  1.261350e+06       NaN\n",
              "2022-07-13  1038.58  1119.18  1006.32  1115.00  2.035606e+06       NaN\n",
              "2022-07-14  1115.01  1214.65  1072.11  1193.42  1.605102e+06       NaN\n",
              "2022-07-15  1193.42  1194.25  1182.35  1185.05  2.362006e+04       NaN"
            ],
            "text/html": [
              "\n",
              "  <div id=\"df-c34eebbf-42a1-4168-a7ef-1ddf8b2a9897\">\n",
              "    <div class=\"colab-df-container\">\n",
              "      <div>\n",
              "<style scoped>\n",
              "    .dataframe tbody tr th:only-of-type {\n",
              "        vertical-align: middle;\n",
              "    }\n",
              "\n",
              "    .dataframe tbody tr th {\n",
              "        vertical-align: top;\n",
              "    }\n",
              "\n",
              "    .dataframe thead th {\n",
              "        text-align: right;\n",
              "    }\n",
              "</style>\n",
              "<table border=\"1\" class=\"dataframe\">\n",
              "  <thead>\n",
              "    <tr style=\"text-align: right;\">\n",
              "      <th></th>\n",
              "      <th>open</th>\n",
              "      <th>high</th>\n",
              "      <th>low</th>\n",
              "      <th>close</th>\n",
              "      <th>volume</th>\n",
              "      <th>forecast</th>\n",
              "    </tr>\n",
              "    <tr>\n",
              "      <th>Date</th>\n",
              "      <th></th>\n",
              "      <th></th>\n",
              "      <th></th>\n",
              "      <th></th>\n",
              "      <th></th>\n",
              "      <th></th>\n",
              "    </tr>\n",
              "  </thead>\n",
              "  <tbody>\n",
              "    <tr>\n",
              "      <th>2022-07-11</th>\n",
              "      <td>1168.37</td>\n",
              "      <td>1171.29</td>\n",
              "      <td>1091.71</td>\n",
              "      <td>1096.40</td>\n",
              "      <td>1.201652e+06</td>\n",
              "      <td>NaN</td>\n",
              "    </tr>\n",
              "    <tr>\n",
              "      <th>2022-07-12</th>\n",
              "      <td>1096.37</td>\n",
              "      <td>1098.26</td>\n",
              "      <td>1033.46</td>\n",
              "      <td>1038.58</td>\n",
              "      <td>1.261350e+06</td>\n",
              "      <td>NaN</td>\n",
              "    </tr>\n",
              "    <tr>\n",
              "      <th>2022-07-13</th>\n",
              "      <td>1038.58</td>\n",
              "      <td>1119.18</td>\n",
              "      <td>1006.32</td>\n",
              "      <td>1115.00</td>\n",
              "      <td>2.035606e+06</td>\n",
              "      <td>NaN</td>\n",
              "    </tr>\n",
              "    <tr>\n",
              "      <th>2022-07-14</th>\n",
              "      <td>1115.01</td>\n",
              "      <td>1214.65</td>\n",
              "      <td>1072.11</td>\n",
              "      <td>1193.42</td>\n",
              "      <td>1.605102e+06</td>\n",
              "      <td>NaN</td>\n",
              "    </tr>\n",
              "    <tr>\n",
              "      <th>2022-07-15</th>\n",
              "      <td>1193.42</td>\n",
              "      <td>1194.25</td>\n",
              "      <td>1182.35</td>\n",
              "      <td>1185.05</td>\n",
              "      <td>2.362006e+04</td>\n",
              "      <td>NaN</td>\n",
              "    </tr>\n",
              "  </tbody>\n",
              "</table>\n",
              "</div>\n",
              "      <button class=\"colab-df-convert\" onclick=\"convertToInteractive('df-c34eebbf-42a1-4168-a7ef-1ddf8b2a9897')\"\n",
              "              title=\"Convert this dataframe to an interactive table.\"\n",
              "              style=\"display:none;\">\n",
              "        \n",
              "  <svg xmlns=\"http://www.w3.org/2000/svg\" height=\"24px\"viewBox=\"0 0 24 24\"\n",
              "       width=\"24px\">\n",
              "    <path d=\"M0 0h24v24H0V0z\" fill=\"none\"/>\n",
              "    <path d=\"M18.56 5.44l.94 2.06.94-2.06 2.06-.94-2.06-.94-.94-2.06-.94 2.06-2.06.94zm-11 1L8.5 8.5l.94-2.06 2.06-.94-2.06-.94L8.5 2.5l-.94 2.06-2.06.94zm10 10l.94 2.06.94-2.06 2.06-.94-2.06-.94-.94-2.06-.94 2.06-2.06.94z\"/><path d=\"M17.41 7.96l-1.37-1.37c-.4-.4-.92-.59-1.43-.59-.52 0-1.04.2-1.43.59L10.3 9.45l-7.72 7.72c-.78.78-.78 2.05 0 2.83L4 21.41c.39.39.9.59 1.41.59.51 0 1.02-.2 1.41-.59l7.78-7.78 2.81-2.81c.8-.78.8-2.07 0-2.86zM5.41 20L4 18.59l7.72-7.72 1.47 1.35L5.41 20z\"/>\n",
              "  </svg>\n",
              "      </button>\n",
              "      \n",
              "  <style>\n",
              "    .colab-df-container {\n",
              "      display:flex;\n",
              "      flex-wrap:wrap;\n",
              "      gap: 12px;\n",
              "    }\n",
              "\n",
              "    .colab-df-convert {\n",
              "      background-color: #E8F0FE;\n",
              "      border: none;\n",
              "      border-radius: 50%;\n",
              "      cursor: pointer;\n",
              "      display: none;\n",
              "      fill: #1967D2;\n",
              "      height: 32px;\n",
              "      padding: 0 0 0 0;\n",
              "      width: 32px;\n",
              "    }\n",
              "\n",
              "    .colab-df-convert:hover {\n",
              "      background-color: #E2EBFA;\n",
              "      box-shadow: 0px 1px 2px rgba(60, 64, 67, 0.3), 0px 1px 3px 1px rgba(60, 64, 67, 0.15);\n",
              "      fill: #174EA6;\n",
              "    }\n",
              "\n",
              "    [theme=dark] .colab-df-convert {\n",
              "      background-color: #3B4455;\n",
              "      fill: #D2E3FC;\n",
              "    }\n",
              "\n",
              "    [theme=dark] .colab-df-convert:hover {\n",
              "      background-color: #434B5C;\n",
              "      box-shadow: 0px 1px 3px 1px rgba(0, 0, 0, 0.15);\n",
              "      filter: drop-shadow(0px 1px 2px rgba(0, 0, 0, 0.3));\n",
              "      fill: #FFFFFF;\n",
              "    }\n",
              "  </style>\n",
              "\n",
              "      <script>\n",
              "        const buttonEl =\n",
              "          document.querySelector('#df-c34eebbf-42a1-4168-a7ef-1ddf8b2a9897 button.colab-df-convert');\n",
              "        buttonEl.style.display =\n",
              "          google.colab.kernel.accessAllowed ? 'block' : 'none';\n",
              "\n",
              "        async function convertToInteractive(key) {\n",
              "          const element = document.querySelector('#df-c34eebbf-42a1-4168-a7ef-1ddf8b2a9897');\n",
              "          const dataTable =\n",
              "            await google.colab.kernel.invokeFunction('convertToInteractive',\n",
              "                                                     [key], {});\n",
              "          if (!dataTable) return;\n",
              "\n",
              "          const docLinkHtml = 'Like what you see? Visit the ' +\n",
              "            '<a target=\"_blank\" href=https://colab.research.google.com/notebooks/data_table.ipynb>data table notebook</a>'\n",
              "            + ' to learn more about interactive tables.';\n",
              "          element.innerHTML = '';\n",
              "          dataTable['output_type'] = 'display_data';\n",
              "          await google.colab.output.renderOutput(dataTable, element);\n",
              "          const docLink = document.createElement('div');\n",
              "          docLink.innerHTML = docLinkHtml;\n",
              "          element.appendChild(docLink);\n",
              "        }\n",
              "      </script>\n",
              "    </div>\n",
              "  </div>\n",
              "  "
            ]
          },
          "metadata": {},
          "execution_count": 39
        }
      ]
    },
    {
      "cell_type": "code",
      "source": [
        "def smooth_data(data, alpha):\n",
        "\n",
        "    return data.ewm(alpha=alpha).mean()\n",
        "\n",
        "expo_smooth = smooth_data(prediction_column, 0.65)\n"
      ],
      "metadata": {
        "id": "4H3XOZKhpu24"
      },
      "execution_count": 40,
      "outputs": []
    },
    {
      "cell_type": "code",
      "source": [
        "def independent_dataset(df):\n",
        "  X = np.array(prediction_column.close)\n",
        "  X = X[:-forecast_days]\n",
        "\n",
        "  return X\n",
        "\n",
        "x_dataset = independent_dataset(expo_smooth)"
      ],
      "metadata": {
        "id": "WE9Ly12aqN7t"
      },
      "execution_count": 41,
      "outputs": []
    },
    {
      "cell_type": "code",
      "source": [
        "x_dataset.shape"
      ],
      "metadata": {
        "colab": {
          "base_uri": "https://localhost:8080/"
        },
        "id": "wADRq_jdyFaR",
        "outputId": "fa5c0d31-7021-40d5-a607-711727bde141"
      },
      "execution_count": 42,
      "outputs": [
        {
          "output_type": "execute_result",
          "data": {
            "text/plain": [
              "(776,)"
            ]
          },
          "metadata": {},
          "execution_count": 42
        }
      ]
    },
    {
      "cell_type": "code",
      "source": [
        "def dependent_dataset(df):\n",
        "  y = prediction_column.forecast.values\n",
        "  y = y[:-forecast_days]\n",
        "\n",
        "  return y\n",
        "\n",
        "y_dataset = dependent_dataset(expo_smooth)"
      ],
      "metadata": {
        "id": "VbksKxUTq_nj"
      },
      "execution_count": 43,
      "outputs": []
    },
    {
      "cell_type": "code",
      "source": [
        "y_dataset.shape"
      ],
      "metadata": {
        "colab": {
          "base_uri": "https://localhost:8080/"
        },
        "id": "f21n0ktSyHcZ",
        "outputId": "0406b07d-7433-4552-c6a0-fe264f5493dd"
      },
      "execution_count": 44,
      "outputs": [
        {
          "output_type": "execute_result",
          "data": {
            "text/plain": [
              "(776,)"
            ]
          },
          "metadata": {},
          "execution_count": 44
        }
      ]
    },
    {
      "cell_type": "code",
      "source": [
        "def split_data(X_data, y_data, test_size):\n",
        "  X_train, X_test, y_train, y_test = train_test_split(x_dataset, y_dataset, test_size = 0.3)\n",
        "\n",
        "  return X_train.reshape(-1, 1), X_test.reshape(-1, 1), y_train, y_test\n",
        "\n",
        "X_train, X_test, y_train, y_test = split_data(x_dataset, y_dataset, test_size=0.3)"
      ],
      "metadata": {
        "id": "o1a3t0ukrb6T"
      },
      "execution_count": 45,
      "outputs": []
    },
    {
      "cell_type": "code",
      "source": [
        "X_train.shape, X_test.shape, y_train.shape, y_test.shape"
      ],
      "metadata": {
        "colab": {
          "base_uri": "https://localhost:8080/"
        },
        "id": "oC8Slwxmx-3y",
        "outputId": "ffc150b6-5dab-4ff5-f61d-7695e563b09a"
      },
      "execution_count": 46,
      "outputs": [
        {
          "output_type": "execute_result",
          "data": {
            "text/plain": [
              "((543, 1), (233, 1), (543,), (233,))"
            ]
          },
          "metadata": {},
          "execution_count": 46
        }
      ]
    },
    {
      "cell_type": "code",
      "source": [
        "def regression_model(X_train, y_train, X_test, y_test):\n",
        "  lin_reg_model = LinearRegression()\n",
        "  lin_reg_model.fit(X_train, y_train)\n",
        "\n",
        "  score_acc = lin_reg_model.score(X_test, y_test)\n",
        "  score_acc = round(score_acc,2)\n",
        "  score_acc\n",
        "\n",
        "  return lin_reg_model, score_acc\n",
        "\n",
        "linear_regression_model, accuracy_score = regression_model(X_train, y_train, X_test, y_test)"
      ],
      "metadata": {
        "id": "6vh5ASc9ulvF"
      },
      "execution_count": 47,
      "outputs": []
    },
    {
      "cell_type": "code",
      "source": [
        "print(f'Model accuracy score: {accuracy_score}')"
      ],
      "metadata": {
        "colab": {
          "base_uri": "https://localhost:8080/"
        },
        "id": "5CsGnlsjxWzq",
        "outputId": "af630859-3cb2-4b2a-839a-ed975afe7118"
      },
      "execution_count": 48,
      "outputs": [
        {
          "output_type": "stream",
          "name": "stdout",
          "text": [
            "Model accuracy score: 0.77\n"
          ]
        }
      ]
    },
    {
      "cell_type": "code",
      "source": [
        "def create_prediction(df):\n",
        "  actual_price = np.array(crypto_df[['close']])[-forecast_days:]\n",
        "  forecast_prediction = linear_regression_model.predict(actual_price)\n",
        "\n",
        "  return forecast_prediction\n",
        "\n",
        "forecast_prediction = (create_prediction(crypto_df))"
      ],
      "metadata": {
        "id": "kr0HSHAYxmQF"
      },
      "execution_count": 49,
      "outputs": []
    },
    {
      "cell_type": "code",
      "source": [
        "forecast_prediction"
      ],
      "metadata": {
        "colab": {
          "base_uri": "https://localhost:8080/"
        },
        "id": "5FEYCgAEPiem",
        "outputId": "c95943ab-d48b-4f5d-b69c-2c771100d266"
      },
      "execution_count": 50,
      "outputs": [
        {
          "output_type": "execute_result",
          "data": {
            "text/plain": [
              "array([1221.97436557, 1238.13796173, 1157.66183573, 1274.59370816,\n",
              "       1274.33950844, 1272.24455211, 1205.92472101, 1288.7850651 ,\n",
              "       1359.17209175, 1374.37148207, 1335.30361435, 1330.67542629,\n",
              "       1288.19777608, 1249.76979042, 1224.174508  , 1214.28701534,\n",
              "       1220.66830493, 1227.02329799, 1294.28980392, 1278.07361471,\n",
              "       1325.46871473, 1370.10267983, 1349.54756432, 1352.15968561,\n",
              "       1309.50672525, 1246.43013199, 1195.7479666 , 1262.73397627,\n",
              "       1331.47308749, 1324.13635756])"
            ]
          },
          "metadata": {},
          "execution_count": 50
        }
      ]
    },
    {
      "cell_type": "code",
      "source": [
        "def get_future_dates(datetime):\n",
        "  future_dates = []\n",
        "\n",
        "  datetime = datetime\n",
        "\n",
        "  for i in range(forecast_days): \n",
        "    datetime += timedelta(days=1)\n",
        "    future_dates.append(datetime.strftime('%Y-%m-%d'))\n",
        "\n",
        "  return future_dates\n",
        "\n",
        "future_dates = get_future_dates(datetime.now())"
      ],
      "metadata": {
        "id": "7YW-MbUWPuSe"
      },
      "execution_count": 51,
      "outputs": []
    },
    {
      "cell_type": "code",
      "source": [
        "def datetime_index(forecast_df, crypto_df):\n",
        "\n",
        "  forecast_df = pd.DataFrame(forecast_prediction, columns=['forecast'])\n",
        "  forecast_df['Date'] = future_dates\n",
        "  forecast_df.set_index('Date', inplace=True)\n",
        "  forecast_df.index = pd.to_datetime(forecast_df.index)\n",
        "  crypto_df.index = pd.to_datetime(crypto_df.index)\n",
        "\n",
        "  return forecast_df, crypto_df\n",
        "\n",
        "forecast_df, crypto_df = datetime_index(future_dates, crypto_df)"
      ],
      "metadata": {
        "id": "qltcKzv60_6P"
      },
      "execution_count": 52,
      "outputs": []
    },
    {
      "cell_type": "code",
      "source": [
        "print(forecast_df.head())"
      ],
      "metadata": {
        "colab": {
          "base_uri": "https://localhost:8080/"
        },
        "id": "tA9oYU45yNXR",
        "outputId": "5b7cd203-edc4-48ae-9d94-52b0a3febe04"
      },
      "execution_count": 53,
      "outputs": [
        {
          "output_type": "stream",
          "name": "stdout",
          "text": [
            "               forecast\n",
            "Date                   \n",
            "2022-07-16  1221.974366\n",
            "2022-07-17  1238.137962\n",
            "2022-07-18  1157.661836\n",
            "2022-07-19  1274.593708\n",
            "2022-07-20  1274.339508\n"
          ]
        }
      ]
    },
    {
      "cell_type": "code",
      "source": [
        "import matplotlib.dates as mdates\n",
        "\n",
        "def plot_model():\n",
        "  plt.figure(figsize=(16,8))\n",
        "  plt.plot(forecast_df.forecast, color='orange', label = f'Prediction {accuracy_score}%')\n",
        "  plt.plot(crypto_df.close, color='cornflowerblue', label = f'{symbol} Actual Prices')\n",
        "  plt.title(f'{symbol} Price Prediction Model', fontsize=18)\n",
        "  plt.xlabel(f' Predicting {forecast_days} Days', fontsize=15)\n",
        "  plt.ylabel('Price (USD)', fontsize=18)\n",
        "  plt.legend(loc='upper right')\n",
        "  plt.gcf().autofmt_xdate()\n",
        "\n",
        "  plt.show()\n",
        "\n",
        "  return plt\n",
        "\n",
        "plot_model()"
      ],
      "metadata": {
        "colab": {
          "base_uri": "https://localhost:8080/",
          "height": 523
        },
        "id": "gmJIx3o_2VrX",
        "outputId": "1119a1cc-246b-47ac-ea1f-d4137207dfab"
      },
      "execution_count": 54,
      "outputs": [
        {
          "output_type": "display_data",
          "data": {
            "text/plain": [
              "<Figure size 1152x576 with 1 Axes>"
            ],
            "image/png": "[encoded data removed]"
          },
          "metadata": {}
        },
        {
          "output_type": "execute_result",
          "data": {
            "text/plain": [
              "<module 'matplotlib.pylab' from '/usr/local/lib/python3.7/dist-packages/matplotlib/pylab.py'>"
            ]
          },
          "metadata": {},
          "execution_count": 54
        }
      ]
    }
  ]
}