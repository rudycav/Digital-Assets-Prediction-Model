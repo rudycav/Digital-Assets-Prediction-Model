{
  "nbformat": 4,
  "nbformat_minor": 0,
  "metadata": {
    "colab": {
      "name": "Crypto_forecast_model.ipynb",
      "provenance": [],
      "authorship_tag": "ABX9TyO85c8zRMEROnQO/xBUm8Ri",
      "include_colab_link": true
    },
    "kernelspec": {
      "name": "python3",
      "display_name": "Python 3"
    },
    "language_info": {
      "name": "python"
    }
  },
  "cells": [
    {
      "cell_type": "markdown",
      "metadata": {
        "id": "view-in-github",
        "colab_type": "text"
      },
      "source": [
        "<a href=\"https://colab.research.google.com/github/rudycav/Digital-Assets-Prediction-Model/blob/main/Project/%20Crypto_forecast_model.ipynb\" target=\"_parent\"><img src=\"https://colab.research.google.com/assets/colab-badge.svg\" alt=\"Open In Colab\"/></a>"
      ]
    },
    {
      "cell_type": "code",
      "execution_count": 1,
      "metadata": {
        "id": "1wtfXUYtpAhS"
      },
      "outputs": [],
      "source": [
        "import numpy as np\n",
        "import math\n",
        "import requests\n",
        "import pandas as pd\n",
        "import matplotlib.pylab as plt\n",
        "from datetime import datetime\n",
        "from datetime import datetime, timedelta\n",
        "plt.style.use('fivethirtyeight')\n",
        "from sklearn.preprocessing import MinMaxScaler\n",
        "from sklearn.model_selection import train_test_split\n",
        "from sklearn import datasets\n",
        "from sklearn.neighbors import KNeighborsClassifier\n",
        "from sklearn import metrics\n",
        "from sklearn.svm import SVC\n",
        "from sklearn import svm\n",
        "from sklearn.linear_model import LinearRegression\n",
        "from sklearn.model_selection import GridSearchCV\n",
        "from sklearn.model_selection import RandomizedSearchCV\n",
        "from sklearn.model_selection import cross_val_score\n",
        "from sklearn.model_selection import StratifiedKFold\n",
        "from imblearn.under_sampling import RandomUnderSampler\n",
        "from scipy.stats import sem"
      ]
    },
    {
      "cell_type": "code",
      "source": [
        "symbol = 'ETH'\n",
        "\n",
        "def get_crypto_price(symbol, exchange, start_date = None):\n",
        "    api_key = ' E7KN41UXPEIKWXIK'\n",
        "    api_url = f'https://www.alphavantage.co/query?function=DIGITAL_CURRENCY_DAILY&symbol={symbol}&market={exchange}&apikey={api_key}'\n",
        "    raw_df = requests.get(api_url).json()\n",
        "    df = pd.DataFrame(raw_df['Time Series (Digital Currency Daily)']).T\n",
        "    df = df.rename(columns = {'1a. open (USD)': 'open', '2a. high (USD)': 'high', '3a. low (USD)': 'low', '4a. close (USD)': 'close', '5. volume': 'volume'})\n",
        "    df.index.names = ['Date']\n",
        " \n",
        "\n",
        "    for i in df.columns:\n",
        "        df[i] = df[i].astype(float)\n",
        "    df.index = pd.to_datetime(df.index)\n",
        "    df = df.iloc[::-1].drop(['1b. open (USD)', '2b. high (USD)', '3b. low (USD)', '4b. close (USD)', '6. market cap (USD)'], axis = 1)\n",
        "\n",
        "    if start_date:\n",
        "        df = df[df.index >= start_date]\n",
        "    return df\n",
        "\n",
        "crypto_df = get_crypto_price(symbol = symbol, exchange = 'USD', start_date = '2019-05-01')\n",
        "crypto_df.head()"
      ],
      "metadata": {
        "colab": {
          "base_uri": "https://localhost:8080/",
          "height": 238
        },
        "id": "g0Ku2ab-pG2U",
        "outputId": "33eaee3c-058f-40e0-e1b5-73a6e23d2669"
      },
      "execution_count": 2,
      "outputs": [
        {
          "output_type": "execute_result",
          "data": {
            "text/plain": [
              "              open    high     low   close        volume\n",
              "Date                                                    \n",
              "2019-10-21  175.18  177.90  171.59  173.98  270608.51385\n",
              "2019-10-22  174.00  175.04  170.30  171.20  255429.41624\n",
              "2019-10-23  171.19  171.49  153.45  162.35  746955.09806\n",
              "2019-10-24  162.35  163.72  158.72  160.38  387310.83766\n",
              "2019-10-25  160.39  187.78  160.25  181.50  904832.86059"
            ],
            "text/html": [
              "\n",
              "  <div id=\"df-85d47ada-45df-46f3-8796-1c7d70b261d3\">\n",
              "    <div class=\"colab-df-container\">\n",
              "      <div>\n",
              "<style scoped>\n",
              "    .dataframe tbody tr th:only-of-type {\n",
              "        vertical-align: middle;\n",
              "    }\n",
              "\n",
              "    .dataframe tbody tr th {\n",
              "        vertical-align: top;\n",
              "    }\n",
              "\n",
              "    .dataframe thead th {\n",
              "        text-align: right;\n",
              "    }\n",
              "</style>\n",
              "<table border=\"1\" class=\"dataframe\">\n",
              "  <thead>\n",
              "    <tr style=\"text-align: right;\">\n",
              "      <th></th>\n",
              "      <th>open</th>\n",
              "      <th>high</th>\n",
              "      <th>low</th>\n",
              "      <th>close</th>\n",
              "      <th>volume</th>\n",
              "    </tr>\n",
              "    <tr>\n",
              "      <th>Date</th>\n",
              "      <th></th>\n",
              "      <th></th>\n",
              "      <th></th>\n",
              "      <th></th>\n",
              "      <th></th>\n",
              "    </tr>\n",
              "  </thead>\n",
              "  <tbody>\n",
              "    <tr>\n",
              "      <th>2019-10-21</th>\n",
              "      <td>175.18</td>\n",
              "      <td>177.90</td>\n",
              "      <td>171.59</td>\n",
              "      <td>173.98</td>\n",
              "      <td>270608.51385</td>\n",
              "    </tr>\n",
              "    <tr>\n",
              "      <th>2019-10-22</th>\n",
              "      <td>174.00</td>\n",
              "      <td>175.04</td>\n",
              "      <td>170.30</td>\n",
              "      <td>171.20</td>\n",
              "      <td>255429.41624</td>\n",
              "    </tr>\n",
              "    <tr>\n",
              "      <th>2019-10-23</th>\n",
              "      <td>171.19</td>\n",
              "      <td>171.49</td>\n",
              "      <td>153.45</td>\n",
              "      <td>162.35</td>\n",
              "      <td>746955.09806</td>\n",
              "    </tr>\n",
              "    <tr>\n",
              "      <th>2019-10-24</th>\n",
              "      <td>162.35</td>\n",
              "      <td>163.72</td>\n",
              "      <td>158.72</td>\n",
              "      <td>160.38</td>\n",
              "      <td>387310.83766</td>\n",
              "    </tr>\n",
              "    <tr>\n",
              "      <th>2019-10-25</th>\n",
              "      <td>160.39</td>\n",
              "      <td>187.78</td>\n",
              "      <td>160.25</td>\n",
              "      <td>181.50</td>\n",
              "      <td>904832.86059</td>\n",
              "    </tr>\n",
              "  </tbody>\n",
              "</table>\n",
              "</div>\n",
              "      <button class=\"colab-df-convert\" onclick=\"convertToInteractive('df-85d47ada-45df-46f3-8796-1c7d70b261d3')\"\n",
              "              title=\"Convert this dataframe to an interactive table.\"\n",
              "              style=\"display:none;\">\n",
              "        \n",
              "  <svg xmlns=\"http://www.w3.org/2000/svg\" height=\"24px\"viewBox=\"0 0 24 24\"\n",
              "       width=\"24px\">\n",
              "    <path d=\"M0 0h24v24H0V0z\" fill=\"none\"/>\n",
              "    <path d=\"M18.56 5.44l.94 2.06.94-2.06 2.06-.94-2.06-.94-.94-2.06-.94 2.06-2.06.94zm-11 1L8.5 8.5l.94-2.06 2.06-.94-2.06-.94L8.5 2.5l-.94 2.06-2.06.94zm10 10l.94 2.06.94-2.06 2.06-.94-2.06-.94-.94-2.06-.94 2.06-2.06.94z\"/><path d=\"M17.41 7.96l-1.37-1.37c-.4-.4-.92-.59-1.43-.59-.52 0-1.04.2-1.43.59L10.3 9.45l-7.72 7.72c-.78.78-.78 2.05 0 2.83L4 21.41c.39.39.9.59 1.41.59.51 0 1.02-.2 1.41-.59l7.78-7.78 2.81-2.81c.8-.78.8-2.07 0-2.86zM5.41 20L4 18.59l7.72-7.72 1.47 1.35L5.41 20z\"/>\n",
              "  </svg>\n",
              "      </button>\n",
              "      \n",
              "  <style>\n",
              "    .colab-df-container {\n",
              "      display:flex;\n",
              "      flex-wrap:wrap;\n",
              "      gap: 12px;\n",
              "    }\n",
              "\n",
              "    .colab-df-convert {\n",
              "      background-color: #E8F0FE;\n",
              "      border: none;\n",
              "      border-radius: 50%;\n",
              "      cursor: pointer;\n",
              "      display: none;\n",
              "      fill: #1967D2;\n",
              "      height: 32px;\n",
              "      padding: 0 0 0 0;\n",
              "      width: 32px;\n",
              "    }\n",
              "\n",
              "    .colab-df-convert:hover {\n",
              "      background-color: #E2EBFA;\n",
              "      box-shadow: 0px 1px 2px rgba(60, 64, 67, 0.3), 0px 1px 3px 1px rgba(60, 64, 67, 0.15);\n",
              "      fill: #174EA6;\n",
              "    }\n",
              "\n",
              "    [theme=dark] .colab-df-convert {\n",
              "      background-color: #3B4455;\n",
              "      fill: #D2E3FC;\n",
              "    }\n",
              "\n",
              "    [theme=dark] .colab-df-convert:hover {\n",
              "      background-color: #434B5C;\n",
              "      box-shadow: 0px 1px 3px 1px rgba(0, 0, 0, 0.15);\n",
              "      filter: drop-shadow(0px 1px 2px rgba(0, 0, 0, 0.3));\n",
              "      fill: #FFFFFF;\n",
              "    }\n",
              "  </style>\n",
              "\n",
              "      <script>\n",
              "        const buttonEl =\n",
              "          document.querySelector('#df-85d47ada-45df-46f3-8796-1c7d70b261d3 button.colab-df-convert');\n",
              "        buttonEl.style.display =\n",
              "          google.colab.kernel.accessAllowed ? 'block' : 'none';\n",
              "\n",
              "        async function convertToInteractive(key) {\n",
              "          const element = document.querySelector('#df-85d47ada-45df-46f3-8796-1c7d70b261d3');\n",
              "          const dataTable =\n",
              "            await google.colab.kernel.invokeFunction('convertToInteractive',\n",
              "                                                     [key], {});\n",
              "          if (!dataTable) return;\n",
              "\n",
              "          const docLinkHtml = 'Like what you see? Visit the ' +\n",
              "            '<a target=\"_blank\" href=https://colab.research.google.com/notebooks/data_table.ipynb>data table notebook</a>'\n",
              "            + ' to learn more about interactive tables.';\n",
              "          element.innerHTML = '';\n",
              "          dataTable['output_type'] = 'display_data';\n",
              "          await google.colab.output.renderOutput(dataTable, element);\n",
              "          const docLink = document.createElement('div');\n",
              "          docLink.innerHTML = docLinkHtml;\n",
              "          element.appendChild(docLink);\n",
              "        }\n",
              "      </script>\n",
              "    </div>\n",
              "  </div>\n",
              "  "
            ]
          },
          "metadata": {},
          "execution_count": 2
        }
      ]
    },
    {
      "cell_type": "code",
      "source": [
        "forecast_days = 30\n",
        "\n",
        "def create_prediction_column(df):\n",
        "  crypto_df['forecast'] = crypto_df[['close']].shift(-forecast_days)\n",
        "\n",
        "  return crypto_df\n",
        "\n",
        "prediction_column = create_prediction_column(crypto_df)\n",
        "prediction_column.tail()"
      ],
      "metadata": {
        "colab": {
          "base_uri": "https://localhost:8080/",
          "height": 238
        },
        "id": "7F27gVJ3pMPD",
        "outputId": "e7c401aa-e457-498c-cf0b-6bb49db09462"
      },
      "execution_count": 3,
      "outputs": [
        {
          "output_type": "execute_result",
          "data": {
            "text/plain": [
              "               open     high      low    close        volume  forecast\n",
              "Date                                                                  \n",
              "2022-07-12  1096.37  1098.26  1033.46  1038.58  1.261350e+06       NaN\n",
              "2022-07-13  1038.58  1119.18  1006.32  1115.00  2.035606e+06       NaN\n",
              "2022-07-14  1115.01  1214.65  1072.11  1193.42  1.605102e+06       NaN\n",
              "2022-07-15  1193.42  1287.82  1181.05  1231.25  1.466037e+06       NaN\n",
              "2022-07-16  1231.25  1235.24  1215.32  1219.21  2.334597e+04       NaN"
            ],
            "text/html": [
              "\n",
              "  <div id=\"df-3137f060-b4c4-4e71-934a-16a807f0d18d\">\n",
              "    <div class=\"colab-df-container\">\n",
              "      <div>\n",
              "<style scoped>\n",
              "    .dataframe tbody tr th:only-of-type {\n",
              "        vertical-align: middle;\n",
              "    }\n",
              "\n",
              "    .dataframe tbody tr th {\n",
              "        vertical-align: top;\n",
              "    }\n",
              "\n",
              "    .dataframe thead th {\n",
              "        text-align: right;\n",
              "    }\n",
              "</style>\n",
              "<table border=\"1\" class=\"dataframe\">\n",
              "  <thead>\n",
              "    <tr style=\"text-align: right;\">\n",
              "      <th></th>\n",
              "      <th>open</th>\n",
              "      <th>high</th>\n",
              "      <th>low</th>\n",
              "      <th>close</th>\n",
              "      <th>volume</th>\n",
              "      <th>forecast</th>\n",
              "    </tr>\n",
              "    <tr>\n",
              "      <th>Date</th>\n",
              "      <th></th>\n",
              "      <th></th>\n",
              "      <th></th>\n",
              "      <th></th>\n",
              "      <th></th>\n",
              "      <th></th>\n",
              "    </tr>\n",
              "  </thead>\n",
              "  <tbody>\n",
              "    <tr>\n",
              "      <th>2022-07-12</th>\n",
              "      <td>1096.37</td>\n",
              "      <td>1098.26</td>\n",
              "      <td>1033.46</td>\n",
              "      <td>1038.58</td>\n",
              "      <td>1.261350e+06</td>\n",
              "      <td>NaN</td>\n",
              "    </tr>\n",
              "    <tr>\n",
              "      <th>2022-07-13</th>\n",
              "      <td>1038.58</td>\n",
              "      <td>1119.18</td>\n",
              "      <td>1006.32</td>\n",
              "      <td>1115.00</td>\n",
              "      <td>2.035606e+06</td>\n",
              "      <td>NaN</td>\n",
              "    </tr>\n",
              "    <tr>\n",
              "      <th>2022-07-14</th>\n",
              "      <td>1115.01</td>\n",
              "      <td>1214.65</td>\n",
              "      <td>1072.11</td>\n",
              "      <td>1193.42</td>\n",
              "      <td>1.605102e+06</td>\n",
              "      <td>NaN</td>\n",
              "    </tr>\n",
              "    <tr>\n",
              "      <th>2022-07-15</th>\n",
              "      <td>1193.42</td>\n",
              "      <td>1287.82</td>\n",
              "      <td>1181.05</td>\n",
              "      <td>1231.25</td>\n",
              "      <td>1.466037e+06</td>\n",
              "      <td>NaN</td>\n",
              "    </tr>\n",
              "    <tr>\n",
              "      <th>2022-07-16</th>\n",
              "      <td>1231.25</td>\n",
              "      <td>1235.24</td>\n",
              "      <td>1215.32</td>\n",
              "      <td>1219.21</td>\n",
              "      <td>2.334597e+04</td>\n",
              "      <td>NaN</td>\n",
              "    </tr>\n",
              "  </tbody>\n",
              "</table>\n",
              "</div>\n",
              "      <button class=\"colab-df-convert\" onclick=\"convertToInteractive('df-3137f060-b4c4-4e71-934a-16a807f0d18d')\"\n",
              "              title=\"Convert this dataframe to an interactive table.\"\n",
              "              style=\"display:none;\">\n",
              "        \n",
              "  <svg xmlns=\"http://www.w3.org/2000/svg\" height=\"24px\"viewBox=\"0 0 24 24\"\n",
              "       width=\"24px\">\n",
              "    <path d=\"M0 0h24v24H0V0z\" fill=\"none\"/>\n",
              "    <path d=\"M18.56 5.44l.94 2.06.94-2.06 2.06-.94-2.06-.94-.94-2.06-.94 2.06-2.06.94zm-11 1L8.5 8.5l.94-2.06 2.06-.94-2.06-.94L8.5 2.5l-.94 2.06-2.06.94zm10 10l.94 2.06.94-2.06 2.06-.94-2.06-.94-.94-2.06-.94 2.06-2.06.94z\"/><path d=\"M17.41 7.96l-1.37-1.37c-.4-.4-.92-.59-1.43-.59-.52 0-1.04.2-1.43.59L10.3 9.45l-7.72 7.72c-.78.78-.78 2.05 0 2.83L4 21.41c.39.39.9.59 1.41.59.51 0 1.02-.2 1.41-.59l7.78-7.78 2.81-2.81c.8-.78.8-2.07 0-2.86zM5.41 20L4 18.59l7.72-7.72 1.47 1.35L5.41 20z\"/>\n",
              "  </svg>\n",
              "      </button>\n",
              "      \n",
              "  <style>\n",
              "    .colab-df-container {\n",
              "      display:flex;\n",
              "      flex-wrap:wrap;\n",
              "      gap: 12px;\n",
              "    }\n",
              "\n",
              "    .colab-df-convert {\n",
              "      background-color: #E8F0FE;\n",
              "      border: none;\n",
              "      border-radius: 50%;\n",
              "      cursor: pointer;\n",
              "      display: none;\n",
              "      fill: #1967D2;\n",
              "      height: 32px;\n",
              "      padding: 0 0 0 0;\n",
              "      width: 32px;\n",
              "    }\n",
              "\n",
              "    .colab-df-convert:hover {\n",
              "      background-color: #E2EBFA;\n",
              "      box-shadow: 0px 1px 2px rgba(60, 64, 67, 0.3), 0px 1px 3px 1px rgba(60, 64, 67, 0.15);\n",
              "      fill: #174EA6;\n",
              "    }\n",
              "\n",
              "    [theme=dark] .colab-df-convert {\n",
              "      background-color: #3B4455;\n",
              "      fill: #D2E3FC;\n",
              "    }\n",
              "\n",
              "    [theme=dark] .colab-df-convert:hover {\n",
              "      background-color: #434B5C;\n",
              "      box-shadow: 0px 1px 3px 1px rgba(0, 0, 0, 0.15);\n",
              "      filter: drop-shadow(0px 1px 2px rgba(0, 0, 0, 0.3));\n",
              "      fill: #FFFFFF;\n",
              "    }\n",
              "  </style>\n",
              "\n",
              "      <script>\n",
              "        const buttonEl =\n",
              "          document.querySelector('#df-3137f060-b4c4-4e71-934a-16a807f0d18d button.colab-df-convert');\n",
              "        buttonEl.style.display =\n",
              "          google.colab.kernel.accessAllowed ? 'block' : 'none';\n",
              "\n",
              "        async function convertToInteractive(key) {\n",
              "          const element = document.querySelector('#df-3137f060-b4c4-4e71-934a-16a807f0d18d');\n",
              "          const dataTable =\n",
              "            await google.colab.kernel.invokeFunction('convertToInteractive',\n",
              "                                                     [key], {});\n",
              "          if (!dataTable) return;\n",
              "\n",
              "          const docLinkHtml = 'Like what you see? Visit the ' +\n",
              "            '<a target=\"_blank\" href=https://colab.research.google.com/notebooks/data_table.ipynb>data table notebook</a>'\n",
              "            + ' to learn more about interactive tables.';\n",
              "          element.innerHTML = '';\n",
              "          dataTable['output_type'] = 'display_data';\n",
              "          await google.colab.output.renderOutput(dataTable, element);\n",
              "          const docLink = document.createElement('div');\n",
              "          docLink.innerHTML = docLinkHtml;\n",
              "          element.appendChild(docLink);\n",
              "        }\n",
              "      </script>\n",
              "    </div>\n",
              "  </div>\n",
              "  "
            ]
          },
          "metadata": {},
          "execution_count": 3
        }
      ]
    },
    {
      "cell_type": "code",
      "source": [
        "def smooth_data(data, alpha):\n",
        "\n",
        "    return data.ewm(alpha=alpha).mean()\n",
        "\n",
        "expo_smooth = smooth_data(prediction_column, 0.65)\n"
      ],
      "metadata": {
        "id": "4H3XOZKhpu24"
      },
      "execution_count": 4,
      "outputs": []
    },
    {
      "cell_type": "code",
      "source": [
        "def independent_dataset(df):\n",
        "  X = np.array(prediction_column.close)\n",
        "  X = X[:-forecast_days]\n",
        "\n",
        "  return X\n",
        "\n",
        "x_dataset = independent_dataset(expo_smooth)"
      ],
      "metadata": {
        "id": "WE9Ly12aqN7t"
      },
      "execution_count": 5,
      "outputs": []
    },
    {
      "cell_type": "code",
      "source": [
        "x_dataset.shape"
      ],
      "metadata": {
        "colab": {
          "base_uri": "https://localhost:8080/"
        },
        "id": "wADRq_jdyFaR",
        "outputId": "2b5a1a68-9b8b-409c-bcae-16529866d2ab"
      },
      "execution_count": 6,
      "outputs": [
        {
          "output_type": "execute_result",
          "data": {
            "text/plain": [
              "(970,)"
            ]
          },
          "metadata": {},
          "execution_count": 6
        }
      ]
    },
    {
      "cell_type": "code",
      "source": [
        "def dependent_dataset(df):\n",
        "  y = prediction_column.forecast.values\n",
        "  y = y[:-forecast_days]\n",
        "\n",
        "  return y\n",
        "\n",
        "y_dataset = dependent_dataset(expo_smooth)"
      ],
      "metadata": {
        "id": "VbksKxUTq_nj"
      },
      "execution_count": 7,
      "outputs": []
    },
    {
      "cell_type": "code",
      "source": [
        "y_dataset.shape"
      ],
      "metadata": {
        "colab": {
          "base_uri": "https://localhost:8080/"
        },
        "id": "f21n0ktSyHcZ",
        "outputId": "08c4569b-ca9b-470c-ac7e-db605375cd04"
      },
      "execution_count": 8,
      "outputs": [
        {
          "output_type": "execute_result",
          "data": {
            "text/plain": [
              "(970,)"
            ]
          },
          "metadata": {},
          "execution_count": 8
        }
      ]
    },
    {
      "cell_type": "code",
      "source": [
        "def split_data(X_data, y_data, test_size):\n",
        "  X_train, X_test, y_train, y_test = train_test_split(x_dataset, y_dataset, test_size = 0.3)\n",
        "\n",
        "  return X_train.reshape(-1, 1), X_test.reshape(-1, 1), y_train, y_test\n",
        "\n",
        "X_train, X_test, y_train, y_test = split_data(x_dataset, y_dataset, test_size=0.3)"
      ],
      "metadata": {
        "id": "o1a3t0ukrb6T"
      },
      "execution_count": 9,
      "outputs": []
    },
    {
      "cell_type": "code",
      "source": [
        "X_train.shape, X_test.shape, y_train.shape, y_test.shape"
      ],
      "metadata": {
        "colab": {
          "base_uri": "https://localhost:8080/"
        },
        "id": "oC8Slwxmx-3y",
        "outputId": "a1e5fe01-342a-4844-cd5c-70d9b634126c"
      },
      "execution_count": 10,
      "outputs": [
        {
          "output_type": "execute_result",
          "data": {
            "text/plain": [
              "((679, 1), (291, 1), (679,), (291,))"
            ]
          },
          "metadata": {},
          "execution_count": 10
        }
      ]
    },
    {
      "cell_type": "code",
      "source": [
        "def regression_model(X_train, y_train, X_test, y_test):\n",
        "  lin_reg_model = LinearRegression()\n",
        "  lin_reg_model.fit(X_train, y_train)\n",
        "\n",
        "  score_acc = lin_reg_model.score(X_test, y_test)\n",
        "  score_acc = round(score_acc,2)\n",
        "  score_acc\n",
        "\n",
        "  return lin_reg_model, score_acc\n",
        "\n",
        "linear_regression_model, accuracy_score = regression_model(X_train, y_train, X_test, y_test)"
      ],
      "metadata": {
        "id": "6vh5ASc9ulvF"
      },
      "execution_count": 11,
      "outputs": []
    },
    {
      "cell_type": "code",
      "source": [
        "print(f'Model accuracy score: {accuracy_score}')"
      ],
      "metadata": {
        "colab": {
          "base_uri": "https://localhost:8080/"
        },
        "id": "5CsGnlsjxWzq",
        "outputId": "317cb9f7-8f14-406b-e26d-7860e2e4ef7f"
      },
      "execution_count": 12,
      "outputs": [
        {
          "output_type": "stream",
          "name": "stdout",
          "text": [
            "Model accuracy score: 0.85\n"
          ]
        }
      ]
    },
    {
      "cell_type": "code",
      "source": [
        "def create_prediction(df):\n",
        "  actual_price = np.array(crypto_df[['close']])[-forecast_days:]\n",
        "  forecast_prediction = linear_regression_model.predict(actual_price)\n",
        "\n",
        "  return forecast_prediction\n",
        "\n",
        "forecast_prediction = (create_prediction(crypto_df))"
      ],
      "metadata": {
        "id": "kr0HSHAYxmQF"
      },
      "execution_count": 13,
      "outputs": []
    },
    {
      "cell_type": "code",
      "source": [
        "forecast_prediction"
      ],
      "metadata": {
        "colab": {
          "base_uri": "https://localhost:8080/"
        },
        "id": "5FEYCgAEPiem",
        "outputId": "6d19f09e-648c-469c-a330-dcc0992cf161"
      },
      "execution_count": 14,
      "outputs": [
        {
          "output_type": "execute_result",
          "data": {
            "text/plain": [
              "array([1156.91186416, 1074.45676923, 1194.26408504, 1194.00363435,\n",
              "       1191.85716145, 1123.90647544, 1208.80441819, 1280.92231519,\n",
              "       1296.49547003, 1256.46689383, 1251.72489512, 1208.2026873 ,\n",
              "       1168.82972834, 1142.60503852, 1132.47440492, 1139.01261526,\n",
              "       1145.52388242, 1214.44452271, 1197.82956512, 1246.39014658,\n",
              "       1292.12169471, 1271.06111333, 1273.73746866, 1230.03563967,\n",
              "       1165.40794518, 1113.47946692, 1182.11271335, 1252.54217141,\n",
              "       1286.51751442, 1275.7043204 ])"
            ]
          },
          "metadata": {},
          "execution_count": 14
        }
      ]
    },
    {
      "cell_type": "code",
      "source": [
        "def get_future_dates(datetime):\n",
        "  future_dates = []\n",
        "\n",
        "  datetime = datetime\n",
        "\n",
        "  for i in range(forecast_days): \n",
        "    datetime += timedelta(days=1)\n",
        "    future_dates.append(datetime.strftime('%Y-%m-%d'))\n",
        "\n",
        "  return future_dates\n",
        "\n",
        "future_dates = get_future_dates(datetime.now())"
      ],
      "metadata": {
        "id": "7YW-MbUWPuSe"
      },
      "execution_count": 15,
      "outputs": []
    },
    {
      "cell_type": "code",
      "source": [
        "def datetime_index(forecast_df, crypto_df):\n",
        "\n",
        "  forecast_df = pd.DataFrame(forecast_prediction, columns=['forecast'])\n",
        "  forecast_df['Date'] = future_dates\n",
        "  forecast_df.set_index('Date', inplace=True)\n",
        "  forecast_df.index = pd.to_datetime(forecast_df.index)\n",
        "  crypto_df.index = pd.to_datetime(crypto_df.index)\n",
        "\n",
        "  return forecast_df, crypto_df\n",
        "\n",
        "forecast_df, crypto_df = datetime_index(future_dates, crypto_df)"
      ],
      "metadata": {
        "id": "qltcKzv60_6P"
      },
      "execution_count": 16,
      "outputs": []
    },
    {
      "cell_type": "code",
      "source": [
        "print(forecast_df.head())"
      ],
      "metadata": {
        "colab": {
          "base_uri": "https://localhost:8080/"
        },
        "id": "tA9oYU45yNXR",
        "outputId": "a7b231bf-8391-4d30-e8e4-4509fe5f2a72"
      },
      "execution_count": 17,
      "outputs": [
        {
          "output_type": "stream",
          "name": "stdout",
          "text": [
            "               forecast\n",
            "Date                   \n",
            "2022-07-17  1156.911864\n",
            "2022-07-18  1074.456769\n",
            "2022-07-19  1194.264085\n",
            "2022-07-20  1194.003634\n",
            "2022-07-21  1191.857161\n"
          ]
        }
      ]
    },
    {
      "cell_type": "code",
      "source": [
        "import matplotlib.dates as mdates\n",
        "\n",
        "def plot_model():\n",
        "  plt.figure(figsize=(16,8))\n",
        "  plt.plot(forecast_df.forecast, color='orange', label = f'Prediction {accuracy_score}%')\n",
        "  plt.plot(crypto_df.close, color='cornflowerblue', label = f'{symbol} Actual Prices')\n",
        "  plt.title(f'{symbol} Price Prediction Model', fontsize=18)\n",
        "  plt.xlabel(f' Predicting {forecast_days} Days', fontsize=15)\n",
        "  plt.ylabel('Price (USD)', fontsize=18)\n",
        "  plt.legend(loc='upper right')\n",
        "  plt.gcf().autofmt_xdate()\n",
        "\n",
        "  plt.show()\n",
        "\n",
        "  return plt\n",
        "\n",
        "plot_model()"
      ],
      "metadata": {
        "colab": {
          "base_uri": "https://localhost:8080/",
          "height": 512
        },
        "id": "gmJIx3o_2VrX",
        "outputId": "f219da02-b669-4a08-b734-b595e7400aab"
      },
      "execution_count": 20,
      "outputs": [
        {
          "output_type": "display_data",
          "data": {
            "text/plain": [
              "<Figure size 1152x576 with 1 Axes>"
            ],
            "image/png": "[encoded data removed]"
          },
          "metadata": {
            "needs_background": "light"
          }
        },
        {
          "output_type": "execute_result",
          "data": {
            "text/plain": [
              "<module 'matplotlib.pylab' from '/usr/local/lib/python3.7/dist-packages/matplotlib/pylab.py'>"
            ]
          },
          "metadata": {},
          "execution_count": 20
        }
      ]
    },
    {
      "cell_type": "code",
      "source": [
        "forecast_df.style.background_gradient(axis=None, low=0.75, high=2)"
      ],
      "metadata": {
        "id": "yTgL8tfzGC1f",
        "outputId": "d8d4973c-136f-4c5e-feed-4c8f8d0b7e6f",
        "colab": {
          "base_uri": "https://localhost:8080/",
          "height": 1000
        }
      },
      "execution_count": 32,
      "outputs": [
        {
          "output_type": "execute_result",
          "data": {
            "text/plain": [
              "<pandas.io.formats.style.Styler at 0x7f59555bbb10>"
            ],
            "text/html": [
              "<style type=\"text/css\">\n",
              "#T_d7ea0_row0_col0 {\n",
              "  background-color: #c0c9e2;\n",
              "  color: #000000;\n",
              "}\n",
              "#T_d7ea0_row1_col0 {\n",
              "  background-color: #dbdaeb;\n",
              "  color: #000000;\n",
              "}\n",
              "#T_d7ea0_row2_col0 {\n",
              "  background-color: #b0c2de;\n",
              "  color: #000000;\n",
              "}\n",
              "#T_d7ea0_row3_col0, #T_d7ea0_row4_col0 {\n",
              "  background-color: #b1c2de;\n",
              "  color: #000000;\n",
              "}\n",
              "#T_d7ea0_row5_col0 {\n",
              "  background-color: #cdd0e5;\n",
              "  color: #000000;\n",
              "}\n",
              "#T_d7ea0_row6_col0, #T_d7ea0_row11_col0 {\n",
              "  background-color: #abbfdc;\n",
              "  color: #000000;\n",
              "}\n",
              "#T_d7ea0_row7_col0 {\n",
              "  background-color: #89b1d4;\n",
              "  color: #000000;\n",
              "}\n",
              "#T_d7ea0_row8_col0 {\n",
              "  background-color: #81aed2;\n",
              "  color: #f1f1f1;\n",
              "}\n",
              "#T_d7ea0_row9_col0 {\n",
              "  background-color: #94b6d7;\n",
              "  color: #000000;\n",
              "}\n",
              "#T_d7ea0_row10_col0, #T_d7ea0_row27_col0 {\n",
              "  background-color: #97b7d7;\n",
              "  color: #000000;\n",
              "}\n",
              "#T_d7ea0_row12_col0 {\n",
              "  background-color: #bbc7e0;\n",
              "  color: #000000;\n",
              "}\n",
              "#T_d7ea0_row13_col0 {\n",
              "  background-color: #c5cce3;\n",
              "  color: #000000;\n",
              "}\n",
              "#T_d7ea0_row14_col0 {\n",
              "  background-color: #c9cee4;\n",
              "  color: #000000;\n",
              "}\n",
              "#T_d7ea0_row15_col0 {\n",
              "  background-color: #c6cce3;\n",
              "  color: #000000;\n",
              "}\n",
              "#T_d7ea0_row16_col0 {\n",
              "  background-color: #c4cbe3;\n",
              "  color: #000000;\n",
              "}\n",
              "#T_d7ea0_row17_col0 {\n",
              "  background-color: #a8bedc;\n",
              "  color: #000000;\n",
              "}\n",
              "#T_d7ea0_row18_col0 {\n",
              "  background-color: #afc1dd;\n",
              "  color: #000000;\n",
              "}\n",
              "#T_d7ea0_row19_col0 {\n",
              "  background-color: #99b8d8;\n",
              "  color: #000000;\n",
              "}\n",
              "#T_d7ea0_row20_col0 {\n",
              "  background-color: #83afd3;\n",
              "  color: #f1f1f1;\n",
              "}\n",
              "#T_d7ea0_row21_col0 {\n",
              "  background-color: #8eb3d5;\n",
              "  color: #000000;\n",
              "}\n",
              "#T_d7ea0_row22_col0 {\n",
              "  background-color: #8cb3d5;\n",
              "  color: #000000;\n",
              "}\n",
              "#T_d7ea0_row23_col0 {\n",
              "  background-color: #a1bbda;\n",
              "  color: #000000;\n",
              "}\n",
              "#T_d7ea0_row24_col0 {\n",
              "  background-color: #bcc7e1;\n",
              "  color: #000000;\n",
              "}\n",
              "#T_d7ea0_row25_col0 {\n",
              "  background-color: #d1d2e6;\n",
              "  color: #000000;\n",
              "}\n",
              "#T_d7ea0_row26_col0 {\n",
              "  background-color: #b5c4df;\n",
              "  color: #000000;\n",
              "}\n",
              "#T_d7ea0_row28_col0 {\n",
              "  background-color: #86b0d3;\n",
              "  color: #000000;\n",
              "}\n",
              "#T_d7ea0_row29_col0 {\n",
              "  background-color: #8bb2d4;\n",
              "  color: #000000;\n",
              "}\n",
              "</style>\n",
              "<table id=\"T_d7ea0_\" class=\"dataframe\">\n",
              "  <thead>\n",
              "    <tr>\n",
              "      <th class=\"blank level0\" >&nbsp;</th>\n",
              "      <th class=\"col_heading level0 col0\" >forecast</th>\n",
              "    </tr>\n",
              "    <tr>\n",
              "      <th class=\"index_name level0\" >Date</th>\n",
              "      <th class=\"blank col0\" >&nbsp;</th>\n",
              "    </tr>\n",
              "  </thead>\n",
              "  <tbody>\n",
              "    <tr>\n",
              "      <th id=\"T_d7ea0_level0_row0\" class=\"row_heading level0 row0\" >2022-07-17 00:00:00</th>\n",
              "      <td id=\"T_d7ea0_row0_col0\" class=\"data row0 col0\" >1156.911864</td>\n",
              "    </tr>\n",
              "    <tr>\n",
              "      <th id=\"T_d7ea0_level0_row1\" class=\"row_heading level0 row1\" >2022-07-18 00:00:00</th>\n",
              "      <td id=\"T_d7ea0_row1_col0\" class=\"data row1 col0\" >1074.456769</td>\n",
              "    </tr>\n",
              "    <tr>\n",
              "      <th id=\"T_d7ea0_level0_row2\" class=\"row_heading level0 row2\" >2022-07-19 00:00:00</th>\n",
              "      <td id=\"T_d7ea0_row2_col0\" class=\"data row2 col0\" >1194.264085</td>\n",
              "    </tr>\n",
              "    <tr>\n",
              "      <th id=\"T_d7ea0_level0_row3\" class=\"row_heading level0 row3\" >2022-07-20 00:00:00</th>\n",
              "      <td id=\"T_d7ea0_row3_col0\" class=\"data row3 col0\" >1194.003634</td>\n",
              "    </tr>\n",
              "    <tr>\n",
              "      <th id=\"T_d7ea0_level0_row4\" class=\"row_heading level0 row4\" >2022-07-21 00:00:00</th>\n",
              "      <td id=\"T_d7ea0_row4_col0\" class=\"data row4 col0\" >1191.857161</td>\n",
              "    </tr>\n",
              "    <tr>\n",
              "      <th id=\"T_d7ea0_level0_row5\" class=\"row_heading level0 row5\" >2022-07-22 00:00:00</th>\n",
              "      <td id=\"T_d7ea0_row5_col0\" class=\"data row5 col0\" >1123.906475</td>\n",
              "    </tr>\n",
              "    <tr>\n",
              "      <th id=\"T_d7ea0_level0_row6\" class=\"row_heading level0 row6\" >2022-07-23 00:00:00</th>\n",
              "      <td id=\"T_d7ea0_row6_col0\" class=\"data row6 col0\" >1208.804418</td>\n",
              "    </tr>\n",
              "    <tr>\n",
              "      <th id=\"T_d7ea0_level0_row7\" class=\"row_heading level0 row7\" >2022-07-24 00:00:00</th>\n",
              "      <td id=\"T_d7ea0_row7_col0\" class=\"data row7 col0\" >1280.922315</td>\n",
              "    </tr>\n",
              "    <tr>\n",
              "      <th id=\"T_d7ea0_level0_row8\" class=\"row_heading level0 row8\" >2022-07-25 00:00:00</th>\n",
              "      <td id=\"T_d7ea0_row8_col0\" class=\"data row8 col0\" >1296.495470</td>\n",
              "    </tr>\n",
              "    <tr>\n",
              "      <th id=\"T_d7ea0_level0_row9\" class=\"row_heading level0 row9\" >2022-07-26 00:00:00</th>\n",
              "      <td id=\"T_d7ea0_row9_col0\" class=\"data row9 col0\" >1256.466894</td>\n",
              "    </tr>\n",
              "    <tr>\n",
              "      <th id=\"T_d7ea0_level0_row10\" class=\"row_heading level0 row10\" >2022-07-27 00:00:00</th>\n",
              "      <td id=\"T_d7ea0_row10_col0\" class=\"data row10 col0\" >1251.724895</td>\n",
              "    </tr>\n",
              "    <tr>\n",
              "      <th id=\"T_d7ea0_level0_row11\" class=\"row_heading level0 row11\" >2022-07-28 00:00:00</th>\n",
              "      <td id=\"T_d7ea0_row11_col0\" class=\"data row11 col0\" >1208.202687</td>\n",
              "    </tr>\n",
              "    <tr>\n",
              "      <th id=\"T_d7ea0_level0_row12\" class=\"row_heading level0 row12\" >2022-07-29 00:00:00</th>\n",
              "      <td id=\"T_d7ea0_row12_col0\" class=\"data row12 col0\" >1168.829728</td>\n",
              "    </tr>\n",
              "    <tr>\n",
              "      <th id=\"T_d7ea0_level0_row13\" class=\"row_heading level0 row13\" >2022-07-30 00:00:00</th>\n",
              "      <td id=\"T_d7ea0_row13_col0\" class=\"data row13 col0\" >1142.605039</td>\n",
              "    </tr>\n",
              "    <tr>\n",
              "      <th id=\"T_d7ea0_level0_row14\" class=\"row_heading level0 row14\" >2022-07-31 00:00:00</th>\n",
              "      <td id=\"T_d7ea0_row14_col0\" class=\"data row14 col0\" >1132.474405</td>\n",
              "    </tr>\n",
              "    <tr>\n",
              "      <th id=\"T_d7ea0_level0_row15\" class=\"row_heading level0 row15\" >2022-08-01 00:00:00</th>\n",
              "      <td id=\"T_d7ea0_row15_col0\" class=\"data row15 col0\" >1139.012615</td>\n",
              "    </tr>\n",
              "    <tr>\n",
              "      <th id=\"T_d7ea0_level0_row16\" class=\"row_heading level0 row16\" >2022-08-02 00:00:00</th>\n",
              "      <td id=\"T_d7ea0_row16_col0\" class=\"data row16 col0\" >1145.523882</td>\n",
              "    </tr>\n",
              "    <tr>\n",
              "      <th id=\"T_d7ea0_level0_row17\" class=\"row_heading level0 row17\" >2022-08-03 00:00:00</th>\n",
              "      <td id=\"T_d7ea0_row17_col0\" class=\"data row17 col0\" >1214.444523</td>\n",
              "    </tr>\n",
              "    <tr>\n",
              "      <th id=\"T_d7ea0_level0_row18\" class=\"row_heading level0 row18\" >2022-08-04 00:00:00</th>\n",
              "      <td id=\"T_d7ea0_row18_col0\" class=\"data row18 col0\" >1197.829565</td>\n",
              "    </tr>\n",
              "    <tr>\n",
              "      <th id=\"T_d7ea0_level0_row19\" class=\"row_heading level0 row19\" >2022-08-05 00:00:00</th>\n",
              "      <td id=\"T_d7ea0_row19_col0\" class=\"data row19 col0\" >1246.390147</td>\n",
              "    </tr>\n",
              "    <tr>\n",
              "      <th id=\"T_d7ea0_level0_row20\" class=\"row_heading level0 row20\" >2022-08-06 00:00:00</th>\n",
              "      <td id=\"T_d7ea0_row20_col0\" class=\"data row20 col0\" >1292.121695</td>\n",
              "    </tr>\n",
              "    <tr>\n",
              "      <th id=\"T_d7ea0_level0_row21\" class=\"row_heading level0 row21\" >2022-08-07 00:00:00</th>\n",
              "      <td id=\"T_d7ea0_row21_col0\" class=\"data row21 col0\" >1271.061113</td>\n",
              "    </tr>\n",
              "    <tr>\n",
              "      <th id=\"T_d7ea0_level0_row22\" class=\"row_heading level0 row22\" >2022-08-08 00:00:00</th>\n",
              "      <td id=\"T_d7ea0_row22_col0\" class=\"data row22 col0\" >1273.737469</td>\n",
              "    </tr>\n",
              "    <tr>\n",
              "      <th id=\"T_d7ea0_level0_row23\" class=\"row_heading level0 row23\" >2022-08-09 00:00:00</th>\n",
              "      <td id=\"T_d7ea0_row23_col0\" class=\"data row23 col0\" >1230.035640</td>\n",
              "    </tr>\n",
              "    <tr>\n",
              "      <th id=\"T_d7ea0_level0_row24\" class=\"row_heading level0 row24\" >2022-08-10 00:00:00</th>\n",
              "      <td id=\"T_d7ea0_row24_col0\" class=\"data row24 col0\" >1165.407945</td>\n",
              "    </tr>\n",
              "    <tr>\n",
              "      <th id=\"T_d7ea0_level0_row25\" class=\"row_heading level0 row25\" >2022-08-11 00:00:00</th>\n",
              "      <td id=\"T_d7ea0_row25_col0\" class=\"data row25 col0\" >1113.479467</td>\n",
              "    </tr>\n",
              "    <tr>\n",
              "      <th id=\"T_d7ea0_level0_row26\" class=\"row_heading level0 row26\" >2022-08-12 00:00:00</th>\n",
              "      <td id=\"T_d7ea0_row26_col0\" class=\"data row26 col0\" >1182.112713</td>\n",
              "    </tr>\n",
              "    <tr>\n",
              "      <th id=\"T_d7ea0_level0_row27\" class=\"row_heading level0 row27\" >2022-08-13 00:00:00</th>\n",
              "      <td id=\"T_d7ea0_row27_col0\" class=\"data row27 col0\" >1252.542171</td>\n",
              "    </tr>\n",
              "    <tr>\n",
              "      <th id=\"T_d7ea0_level0_row28\" class=\"row_heading level0 row28\" >2022-08-14 00:00:00</th>\n",
              "      <td id=\"T_d7ea0_row28_col0\" class=\"data row28 col0\" >1286.517514</td>\n",
              "    </tr>\n",
              "    <tr>\n",
              "      <th id=\"T_d7ea0_level0_row29\" class=\"row_heading level0 row29\" >2022-08-15 00:00:00</th>\n",
              "      <td id=\"T_d7ea0_row29_col0\" class=\"data row29 col0\" >1275.704320</td>\n",
              "    </tr>\n",
              "  </tbody>\n",
              "</table>\n"
            ]
          },
          "metadata": {},
          "execution_count": 32
        }
      ]
    }
  ]
}