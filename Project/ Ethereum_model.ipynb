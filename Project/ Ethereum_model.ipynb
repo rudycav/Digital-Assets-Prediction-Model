{
  "nbformat": 4,
  "nbformat_minor": 0,
  "metadata": {
    "colab": {
      "name": "Ethereum_model.ipynb",
      "provenance": [],
      "authorship_tag": "ABX9TyPP5RpaOKBN69fWTJrfIuWv",
      "include_colab_link": true
    },
    "kernelspec": {
      "name": "python3",
      "display_name": "Python 3"
    },
    "language_info": {
      "name": "python"
    }
  },
  "cells": [
    {
      "cell_type": "markdown",
      "metadata": {
        "id": "view-in-github",
        "colab_type": "text"
      },
      "source": [
        "<a href=\"https://colab.research.google.com/github/rudycav/Equities-Digital-Assets-Prediction-Model/blob/main/Project/%20Ethereum_model.ipynb\" target=\"_parent\"><img src=\"https://colab.research.google.com/assets/colab-badge.svg\" alt=\"Open In Colab\"/></a>"
      ]
    },
    {
      "cell_type": "code",
      "source": [
        "import numpy as np\n",
        "import math\n",
        "import tensorflow\n",
        "import requests\n",
        "import pandas as pd\n",
        "import matplotlib.pylab as plt\n",
        "from tensorflow.keras.layers import Dense, Dropout, LSTM\n",
        "from tensorflow.keras.models import Sequential\n",
        "from sklearn.preprocessing import MinMaxScaler\n",
        "from sklearn.model_selection import train_test_split\n",
        "from sklearn import datasets\n",
        "from sklearn.neighbors import KNeighborsClassifier\n",
        "from sklearn import metrics\n",
        "from sklearn.svm import SVC\n",
        "from sklearn import svm\n",
        "from sklearn.model_selection import GridSearchCV\n",
        "from sklearn.model_selection import RandomizedSearchCV\n",
        "from sklearn.model_selection import cross_val_score\n",
        "from sklearn.model_selection import StratifiedKFold\n",
        "from imblearn.under_sampling import RandomUnderSampler"
      ],
      "metadata": {
        "id": "INw2BzquZ5AG"
      },
      "execution_count": 171,
      "outputs": []
    },
    {
      "cell_type": "code",
      "execution_count": 172,
      "metadata": {
        "colab": {
          "base_uri": "https://localhost:8080/",
          "height": 206
        },
        "id": "okHYQ15UVKGx",
        "outputId": "0e4230f6-2fd7-4d67-c069-847bcc9fd42b"
      },
      "outputs": [
        {
          "output_type": "execute_result",
          "data": {
            "text/plain": [
              "             close\n",
              "2019-10-16  174.47\n",
              "2019-10-17  177.16\n",
              "2019-10-18  172.74\n",
              "2019-10-19  171.79\n",
              "2019-10-20  175.22"
            ],
            "text/html": [
              "\n",
              "  <div id=\"df-8a1821e5-87ab-45a9-ab54-78ba797a0929\">\n",
              "    <div class=\"colab-df-container\">\n",
              "      <div>\n",
              "<style scoped>\n",
              "    .dataframe tbody tr th:only-of-type {\n",
              "        vertical-align: middle;\n",
              "    }\n",
              "\n",
              "    .dataframe tbody tr th {\n",
              "        vertical-align: top;\n",
              "    }\n",
              "\n",
              "    .dataframe thead th {\n",
              "        text-align: right;\n",
              "    }\n",
              "</style>\n",
              "<table border=\"1\" class=\"dataframe\">\n",
              "  <thead>\n",
              "    <tr style=\"text-align: right;\">\n",
              "      <th></th>\n",
              "      <th>close</th>\n",
              "    </tr>\n",
              "  </thead>\n",
              "  <tbody>\n",
              "    <tr>\n",
              "      <th>2019-10-16</th>\n",
              "      <td>174.47</td>\n",
              "    </tr>\n",
              "    <tr>\n",
              "      <th>2019-10-17</th>\n",
              "      <td>177.16</td>\n",
              "    </tr>\n",
              "    <tr>\n",
              "      <th>2019-10-18</th>\n",
              "      <td>172.74</td>\n",
              "    </tr>\n",
              "    <tr>\n",
              "      <th>2019-10-19</th>\n",
              "      <td>171.79</td>\n",
              "    </tr>\n",
              "    <tr>\n",
              "      <th>2019-10-20</th>\n",
              "      <td>175.22</td>\n",
              "    </tr>\n",
              "  </tbody>\n",
              "</table>\n",
              "</div>\n",
              "      <button class=\"colab-df-convert\" onclick=\"convertToInteractive('df-8a1821e5-87ab-45a9-ab54-78ba797a0929')\"\n",
              "              title=\"Convert this dataframe to an interactive table.\"\n",
              "              style=\"display:none;\">\n",
              "        \n",
              "  <svg xmlns=\"http://www.w3.org/2000/svg\" height=\"24px\"viewBox=\"0 0 24 24\"\n",
              "       width=\"24px\">\n",
              "    <path d=\"M0 0h24v24H0V0z\" fill=\"none\"/>\n",
              "    <path d=\"M18.56 5.44l.94 2.06.94-2.06 2.06-.94-2.06-.94-.94-2.06-.94 2.06-2.06.94zm-11 1L8.5 8.5l.94-2.06 2.06-.94-2.06-.94L8.5 2.5l-.94 2.06-2.06.94zm10 10l.94 2.06.94-2.06 2.06-.94-2.06-.94-.94-2.06-.94 2.06-2.06.94z\"/><path d=\"M17.41 7.96l-1.37-1.37c-.4-.4-.92-.59-1.43-.59-.52 0-1.04.2-1.43.59L10.3 9.45l-7.72 7.72c-.78.78-.78 2.05 0 2.83L4 21.41c.39.39.9.59 1.41.59.51 0 1.02-.2 1.41-.59l7.78-7.78 2.81-2.81c.8-.78.8-2.07 0-2.86zM5.41 20L4 18.59l7.72-7.72 1.47 1.35L5.41 20z\"/>\n",
              "  </svg>\n",
              "      </button>\n",
              "      \n",
              "  <style>\n",
              "    .colab-df-container {\n",
              "      display:flex;\n",
              "      flex-wrap:wrap;\n",
              "      gap: 12px;\n",
              "    }\n",
              "\n",
              "    .colab-df-convert {\n",
              "      background-color: #E8F0FE;\n",
              "      border: none;\n",
              "      border-radius: 50%;\n",
              "      cursor: pointer;\n",
              "      display: none;\n",
              "      fill: #1967D2;\n",
              "      height: 32px;\n",
              "      padding: 0 0 0 0;\n",
              "      width: 32px;\n",
              "    }\n",
              "\n",
              "    .colab-df-convert:hover {\n",
              "      background-color: #E2EBFA;\n",
              "      box-shadow: 0px 1px 2px rgba(60, 64, 67, 0.3), 0px 1px 3px 1px rgba(60, 64, 67, 0.15);\n",
              "      fill: #174EA6;\n",
              "    }\n",
              "\n",
              "    [theme=dark] .colab-df-convert {\n",
              "      background-color: #3B4455;\n",
              "      fill: #D2E3FC;\n",
              "    }\n",
              "\n",
              "    [theme=dark] .colab-df-convert:hover {\n",
              "      background-color: #434B5C;\n",
              "      box-shadow: 0px 1px 3px 1px rgba(0, 0, 0, 0.15);\n",
              "      filter: drop-shadow(0px 1px 2px rgba(0, 0, 0, 0.3));\n",
              "      fill: #FFFFFF;\n",
              "    }\n",
              "  </style>\n",
              "\n",
              "      <script>\n",
              "        const buttonEl =\n",
              "          document.querySelector('#df-8a1821e5-87ab-45a9-ab54-78ba797a0929 button.colab-df-convert');\n",
              "        buttonEl.style.display =\n",
              "          google.colab.kernel.accessAllowed ? 'block' : 'none';\n",
              "\n",
              "        async function convertToInteractive(key) {\n",
              "          const element = document.querySelector('#df-8a1821e5-87ab-45a9-ab54-78ba797a0929');\n",
              "          const dataTable =\n",
              "            await google.colab.kernel.invokeFunction('convertToInteractive',\n",
              "                                                     [key], {});\n",
              "          if (!dataTable) return;\n",
              "\n",
              "          const docLinkHtml = 'Like what you see? Visit the ' +\n",
              "            '<a target=\"_blank\" href=https://colab.research.google.com/notebooks/data_table.ipynb>data table notebook</a>'\n",
              "            + ' to learn more about interactive tables.';\n",
              "          element.innerHTML = '';\n",
              "          dataTable['output_type'] = 'display_data';\n",
              "          await google.colab.output.renderOutput(dataTable, element);\n",
              "          const docLink = document.createElement('div');\n",
              "          docLink.innerHTML = docLinkHtml;\n",
              "          element.appendChild(docLink);\n",
              "        }\n",
              "      </script>\n",
              "    </div>\n",
              "  </div>\n",
              "  "
            ]
          },
          "metadata": {},
          "execution_count": 172
        }
      ],
      "source": [
        "def get_crypto_price(symbol, exchange, start_date = None):\n",
        "    api_key = ' E7KN41UXPEIKWXIK'\n",
        "    api_url = f'https://www.alphavantage.co/query?function=DIGITAL_CURRENCY_DAILY&symbol={symbol}&market={exchange}&apikey={api_key}'\n",
        "    raw_df = requests.get(api_url).json()\n",
        "    df = pd.DataFrame(raw_df['Time Series (Digital Currency Daily)']).T\n",
        "    df = df.rename(columns = {'1a. open (USD)': 'open', '2a. high (USD)': 'high', '3a. low (USD)': 'low', '4a. close (USD)': 'close', '5. volume': 'volume'})\n",
        "\n",
        "    for i in df.columns:\n",
        "        df[i] = df[i].astype(float)\n",
        "    df.index = pd.to_datetime(df.index)\n",
        "    df = df.iloc[::-1].drop(['1b. open (USD)', '2b. high (USD)', '3b. low (USD)', '4b. close (USD)', '6. market cap (USD)', 'open', 'high', 'low', 'volume'], axis = 1)\n",
        "\n",
        "    if start_date:\n",
        "        df = df[df.index >= start_date]\n",
        "    return df\n",
        "\n",
        "eth_df = get_crypto_price(symbol = 'ETH', exchange = 'USD', start_date = '2016-01-01')\n",
        "eth_df.head()"
      ]
    },
    {
      "cell_type": "code",
      "source": [
        "eth_df.shape"
      ],
      "metadata": {
        "colab": {
          "base_uri": "https://localhost:8080/"
        },
        "id": "6Mnza9nKaRBV",
        "outputId": "0510f30a-2709-48d3-8bec-c2d9a4e03c51"
      },
      "execution_count": 173,
      "outputs": [
        {
          "output_type": "execute_result",
          "data": {
            "text/plain": [
              "(1000, 1)"
            ]
          },
          "metadata": {},
          "execution_count": 173
        }
      ]
    },
    {
      "cell_type": "code",
      "source": [
        "dataset_length = math.ceil(len(eth_df) * 0.7)\n"
      ],
      "metadata": {
        "id": "7VQd3CEWcsuU"
      },
      "execution_count": 174,
      "outputs": []
    },
    {
      "cell_type": "code",
      "source": [
        "def scale_data(scaler):\n",
        "  scaler = MinMaxScaler(feature_range=(0,1))\n",
        "  scaled_data = scaler.fit_transform(eth_df)\n",
        "\n",
        "  return scaled_data, scaler\n",
        "\n",
        "scaled_data, scaler = scale_data(eth_df)\n"
      ],
      "metadata": {
        "id": "VQC5qEvpeEPL"
      },
      "execution_count": 175,
      "outputs": []
    },
    {
      "cell_type": "code",
      "source": [
        "training_data = scaled_data[0: dataset_length, :]\n",
        "testing_data = scaled_data[dataset_length -30: ,:]"
      ],
      "metadata": {
        "id": "fOGKIRCX9neH"
      },
      "execution_count": 176,
      "outputs": []
    },
    {
      "cell_type": "code",
      "source": [
        "def training_set(training_data):\n",
        "  \n",
        "  x_train, y_train = [], []\n",
        "\n",
        "  for days in range(30, len(training_data)):\n",
        "    x_train.append(training_data[days-30: days, 0])\n",
        "    y_train.append(training_data[days,0])\n",
        "\n",
        "  x_train, y_train = np.array(x_train), np.array(y_train)\n",
        "  x_train = np.reshape(x_train, (x_train.shape[0], x_train.shape[1], 1))\n",
        "\n",
        "  return x_train, y_train\n",
        "\n",
        "x_train, y_train = training_set(training_data)\n"
      ],
      "metadata": {
        "id": "EYlXGflWxEws"
      },
      "execution_count": 177,
      "outputs": []
    },
    {
      "cell_type": "code",
      "source": [
        "x_train.shape"
      ],
      "metadata": {
        "id": "Yo2gIFR5CF9v",
        "outputId": "17fecfe1-9fd9-41d5-ab23-a75cf4f4d446",
        "colab": {
          "base_uri": "https://localhost:8080/"
        }
      },
      "execution_count": 178,
      "outputs": [
        {
          "output_type": "execute_result",
          "data": {
            "text/plain": [
              "(670, 30, 1)"
            ]
          },
          "metadata": {},
          "execution_count": 178
        }
      ]
    },
    {
      "cell_type": "code",
      "source": [
        "def neural_network(x_train, y_train, epochs, batch_size):\n",
        "\n",
        "  model = Sequential()\n",
        "\n",
        "  model.add(LSTM(units=50, return_sequences=True, input_shape=(x_train.shape[1], 1)))\n",
        "  model.add(Dropout(0.2))\n",
        "  model.add(LSTM(units=50, return_sequences=True))\n",
        "  model.add(Dropout(0.2))\n",
        "  model.add(LSTM(units=50))\n",
        "  model.add(Dropout(0.2))\n",
        "  model.add(Dense(units=1))\n",
        "\n",
        "  model.compile(optimizer='adam', loss='mean_squared_error')\n",
        "  model.fit(x_train, y_train, epochs, batch_size)\n",
        " \n",
        "  return model\n",
        "\n",
        "neural_network = neural_network(x_train, y_train, epochs=25, batch_size=32)"
      ],
      "metadata": {
        "id": "QGlZBxX2zOhs",
        "outputId": "f4a71ac1-779a-4300-8281-17b6a2445e5a",
        "colab": {
          "base_uri": "https://localhost:8080/"
        }
      },
      "execution_count": 179,
      "outputs": [
        {
          "output_type": "stream",
          "name": "stdout",
          "text": [
            "Epoch 1/32\n",
            "27/27 [==============================] - 8s 44ms/step - loss: 0.0185\n",
            "Epoch 2/32\n",
            "27/27 [==============================] - 1s 47ms/step - loss: 0.0043\n",
            "Epoch 3/32\n",
            "27/27 [==============================] - 1s 54ms/step - loss: 0.0040\n",
            "Epoch 4/32\n",
            "27/27 [==============================] - 1s 46ms/step - loss: 0.0037\n",
            "Epoch 5/32\n",
            "27/27 [==============================] - 1s 51ms/step - loss: 0.0032\n",
            "Epoch 6/32\n",
            "27/27 [==============================] - 1s 54ms/step - loss: 0.0030\n",
            "Epoch 7/32\n",
            "27/27 [==============================] - 1s 46ms/step - loss: 0.0030\n",
            "Epoch 8/32\n",
            "27/27 [==============================] - 1s 51ms/step - loss: 0.0032\n",
            "Epoch 9/32\n",
            "27/27 [==============================] - 1s 45ms/step - loss: 0.0033\n",
            "Epoch 10/32\n",
            "27/27 [==============================] - 1s 44ms/step - loss: 0.0032\n",
            "Epoch 11/32\n",
            "27/27 [==============================] - 1s 51ms/step - loss: 0.0024\n",
            "Epoch 12/32\n",
            "27/27 [==============================] - 1s 51ms/step - loss: 0.0026\n",
            "Epoch 13/32\n",
            "27/27 [==============================] - 1s 44ms/step - loss: 0.0026\n",
            "Epoch 14/32\n",
            "27/27 [==============================] - 1s 50ms/step - loss: 0.0025\n",
            "Epoch 15/32\n",
            "27/27 [==============================] - 1s 52ms/step - loss: 0.0022\n",
            "Epoch 16/32\n",
            "27/27 [==============================] - 1s 44ms/step - loss: 0.0027\n",
            "Epoch 17/32\n",
            "27/27 [==============================] - 1s 44ms/step - loss: 0.0021\n",
            "Epoch 18/32\n",
            "27/27 [==============================] - 1s 43ms/step - loss: 0.0022\n",
            "Epoch 19/32\n",
            "27/27 [==============================] - 1s 44ms/step - loss: 0.0021\n",
            "Epoch 20/32\n",
            "27/27 [==============================] - 1s 44ms/step - loss: 0.0019\n",
            "Epoch 21/32\n",
            "27/27 [==============================] - 1s 43ms/step - loss: 0.0018\n",
            "Epoch 22/32\n",
            "27/27 [==============================] - 1s 43ms/step - loss: 0.0017\n",
            "Epoch 23/32\n",
            "27/27 [==============================] - 1s 44ms/step - loss: 0.0021\n",
            "Epoch 24/32\n",
            "27/27 [==============================] - 1s 44ms/step - loss: 0.0019\n",
            "Epoch 25/32\n",
            "27/27 [==============================] - 1s 44ms/step - loss: 0.0018\n",
            "Epoch 26/32\n",
            "27/27 [==============================] - 1s 44ms/step - loss: 0.0015\n",
            "Epoch 27/32\n",
            "27/27 [==============================] - 1s 45ms/step - loss: 0.0021\n",
            "Epoch 28/32\n",
            "27/27 [==============================] - 1s 43ms/step - loss: 0.0016\n",
            "Epoch 29/32\n",
            "27/27 [==============================] - 1s 43ms/step - loss: 0.0017\n",
            "Epoch 30/32\n",
            "27/27 [==============================] - 1s 44ms/step - loss: 0.0018\n",
            "Epoch 31/32\n",
            "27/27 [==============================] - 1s 44ms/step - loss: 0.0016\n",
            "Epoch 32/32\n",
            "27/27 [==============================] - 1s 44ms/step - loss: 0.0017\n"
          ]
        }
      ]
    },
    {
      "cell_type": "code",
      "source": [
        "def testing_set(testing_data):\n",
        "  \n",
        "  x_test = []\n",
        "  y_test = eth_df.values[dataset_length:, :]\n",
        "\n",
        "  for days in range(30, len(testing_data)):\n",
        "    x_test.append(testing_data[days-30: days, 0])\n",
        " \n",
        "  x_test = np.array(x_test)\n",
        "  x_test = np.reshape(x_test, (x_test.shape[0], x_test.shape[1], 1))\n",
        "\n",
        "  return x_test, y_test\n",
        "\n",
        "x_test, y_test = testing_set(testing_data)"
      ],
      "metadata": {
        "id": "eW7WZey_C2o3"
      },
      "execution_count": 182,
      "outputs": []
    },
    {
      "cell_type": "code",
      "source": [
        "predict = model.predict(x_test)\n",
        "predict = scaler.inverse_transform(predict)\n"
      ],
      "metadata": {
        "id": "Bs4ujzOVHAof"
      },
      "execution_count": 184,
      "outputs": []
    },
    {
      "cell_type": "code",
      "source": [
        "rmse =np.sqrt(np.mean(((predict- y_test)**2)))\n",
        "rmse"
      ],
      "metadata": {
        "id": "W6Vym7mhOWSi",
        "outputId": "51701113-df1d-4e50-ef42-72b2002072f6",
        "colab": {
          "base_uri": "https://localhost:8080/"
        }
      },
      "execution_count": 185,
      "outputs": [
        {
          "output_type": "execute_result",
          "data": {
            "text/plain": [
              "306.5694465867666"
            ]
          },
          "metadata": {},
          "execution_count": 185
        }
      ]
    }
  ]
}