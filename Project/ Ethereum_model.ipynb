{
  "nbformat": 4,
  "nbformat_minor": 0,
  "metadata": {
    "colab": {
      "name": "Ethereum_model.ipynb",
      "provenance": [],
      "authorship_tag": "ABX9TyMlEeJEzjQ9BbY9g+MfA6I9",
      "include_colab_link": true
    },
    "kernelspec": {
      "name": "python3",
      "display_name": "Python 3"
    },
    "language_info": {
      "name": "python"
    }
  },
  "cells": [
    {
      "cell_type": "markdown",
      "metadata": {
        "id": "view-in-github",
        "colab_type": "text"
      },
      "source": [
        "<a href=\"https://colab.research.google.com/github/rudycav/Equities-Digital-Assets-Prediction-Model/blob/main/Project/%20Ethereum_model.ipynb\" target=\"_parent\"><img src=\"https://colab.research.google.com/assets/colab-badge.svg\" alt=\"Open In Colab\"/></a>"
      ]
    },
    {
      "cell_type": "code",
      "source": [
        "import numpy as np\n",
        "import math\n",
        "import tensorflow\n",
        "import requests\n",
        "import pandas as pd\n",
        "import matplotlib.pylab as plt\n",
        "plt.style.use('fivethirtyeight')\n",
        "from tensorflow.keras.layers import Dense, Dropout, LSTM\n",
        "from tensorflow.keras.models import Sequential\n",
        "from sklearn.preprocessing import MinMaxScaler\n",
        "from sklearn.model_selection import train_test_split\n",
        "from sklearn import datasets\n",
        "from sklearn.neighbors import KNeighborsClassifier\n",
        "from sklearn import metrics\n",
        "from sklearn.svm import SVC\n",
        "from sklearn import svm\n",
        "from sklearn.model_selection import GridSearchCV\n",
        "from sklearn.model_selection import RandomizedSearchCV\n",
        "from sklearn.model_selection import cross_val_score\n",
        "from sklearn.model_selection import StratifiedKFold\n",
        "from imblearn.under_sampling import RandomUnderSampler"
      ],
      "metadata": {
        "id": "INw2BzquZ5AG"
      },
      "execution_count": 473,
      "outputs": []
    },
    {
      "cell_type": "code",
      "execution_count": 474,
      "metadata": {
        "colab": {
          "base_uri": "https://localhost:8080/",
          "height": 238
        },
        "id": "okHYQ15UVKGx",
        "outputId": "b424e1b9-36d4-498c-dfbf-3a75ccc5eda0"
      },
      "outputs": [
        {
          "output_type": "execute_result",
          "data": {
            "text/plain": [
              "             close\n",
              "Date              \n",
              "2019-10-16  174.47\n",
              "2019-10-17  177.16\n",
              "2019-10-18  172.74\n",
              "2019-10-19  171.79\n",
              "2019-10-20  175.22"
            ],
            "text/html": [
              "\n",
              "  <div id=\"df-99db7479-c044-4816-ae32-7837b4fe1bbb\">\n",
              "    <div class=\"colab-df-container\">\n",
              "      <div>\n",
              "<style scoped>\n",
              "    .dataframe tbody tr th:only-of-type {\n",
              "        vertical-align: middle;\n",
              "    }\n",
              "\n",
              "    .dataframe tbody tr th {\n",
              "        vertical-align: top;\n",
              "    }\n",
              "\n",
              "    .dataframe thead th {\n",
              "        text-align: right;\n",
              "    }\n",
              "</style>\n",
              "<table border=\"1\" class=\"dataframe\">\n",
              "  <thead>\n",
              "    <tr style=\"text-align: right;\">\n",
              "      <th></th>\n",
              "      <th>close</th>\n",
              "    </tr>\n",
              "    <tr>\n",
              "      <th>Date</th>\n",
              "      <th></th>\n",
              "    </tr>\n",
              "  </thead>\n",
              "  <tbody>\n",
              "    <tr>\n",
              "      <th>2019-10-16</th>\n",
              "      <td>174.47</td>\n",
              "    </tr>\n",
              "    <tr>\n",
              "      <th>2019-10-17</th>\n",
              "      <td>177.16</td>\n",
              "    </tr>\n",
              "    <tr>\n",
              "      <th>2019-10-18</th>\n",
              "      <td>172.74</td>\n",
              "    </tr>\n",
              "    <tr>\n",
              "      <th>2019-10-19</th>\n",
              "      <td>171.79</td>\n",
              "    </tr>\n",
              "    <tr>\n",
              "      <th>2019-10-20</th>\n",
              "      <td>175.22</td>\n",
              "    </tr>\n",
              "  </tbody>\n",
              "</table>\n",
              "</div>\n",
              "      <button class=\"colab-df-convert\" onclick=\"convertToInteractive('df-99db7479-c044-4816-ae32-7837b4fe1bbb')\"\n",
              "              title=\"Convert this dataframe to an interactive table.\"\n",
              "              style=\"display:none;\">\n",
              "        \n",
              "  <svg xmlns=\"http://www.w3.org/2000/svg\" height=\"24px\"viewBox=\"0 0 24 24\"\n",
              "       width=\"24px\">\n",
              "    <path d=\"M0 0h24v24H0V0z\" fill=\"none\"/>\n",
              "    <path d=\"M18.56 5.44l.94 2.06.94-2.06 2.06-.94-2.06-.94-.94-2.06-.94 2.06-2.06.94zm-11 1L8.5 8.5l.94-2.06 2.06-.94-2.06-.94L8.5 2.5l-.94 2.06-2.06.94zm10 10l.94 2.06.94-2.06 2.06-.94-2.06-.94-.94-2.06-.94 2.06-2.06.94z\"/><path d=\"M17.41 7.96l-1.37-1.37c-.4-.4-.92-.59-1.43-.59-.52 0-1.04.2-1.43.59L10.3 9.45l-7.72 7.72c-.78.78-.78 2.05 0 2.83L4 21.41c.39.39.9.59 1.41.59.51 0 1.02-.2 1.41-.59l7.78-7.78 2.81-2.81c.8-.78.8-2.07 0-2.86zM5.41 20L4 18.59l7.72-7.72 1.47 1.35L5.41 20z\"/>\n",
              "  </svg>\n",
              "      </button>\n",
              "      \n",
              "  <style>\n",
              "    .colab-df-container {\n",
              "      display:flex;\n",
              "      flex-wrap:wrap;\n",
              "      gap: 12px;\n",
              "    }\n",
              "\n",
              "    .colab-df-convert {\n",
              "      background-color: #E8F0FE;\n",
              "      border: none;\n",
              "      border-radius: 50%;\n",
              "      cursor: pointer;\n",
              "      display: none;\n",
              "      fill: #1967D2;\n",
              "      height: 32px;\n",
              "      padding: 0 0 0 0;\n",
              "      width: 32px;\n",
              "    }\n",
              "\n",
              "    .colab-df-convert:hover {\n",
              "      background-color: #E2EBFA;\n",
              "      box-shadow: 0px 1px 2px rgba(60, 64, 67, 0.3), 0px 1px 3px 1px rgba(60, 64, 67, 0.15);\n",
              "      fill: #174EA6;\n",
              "    }\n",
              "\n",
              "    [theme=dark] .colab-df-convert {\n",
              "      background-color: #3B4455;\n",
              "      fill: #D2E3FC;\n",
              "    }\n",
              "\n",
              "    [theme=dark] .colab-df-convert:hover {\n",
              "      background-color: #434B5C;\n",
              "      box-shadow: 0px 1px 3px 1px rgba(0, 0, 0, 0.15);\n",
              "      filter: drop-shadow(0px 1px 2px rgba(0, 0, 0, 0.3));\n",
              "      fill: #FFFFFF;\n",
              "    }\n",
              "  </style>\n",
              "\n",
              "      <script>\n",
              "        const buttonEl =\n",
              "          document.querySelector('#df-99db7479-c044-4816-ae32-7837b4fe1bbb button.colab-df-convert');\n",
              "        buttonEl.style.display =\n",
              "          google.colab.kernel.accessAllowed ? 'block' : 'none';\n",
              "\n",
              "        async function convertToInteractive(key) {\n",
              "          const element = document.querySelector('#df-99db7479-c044-4816-ae32-7837b4fe1bbb');\n",
              "          const dataTable =\n",
              "            await google.colab.kernel.invokeFunction('convertToInteractive',\n",
              "                                                     [key], {});\n",
              "          if (!dataTable) return;\n",
              "\n",
              "          const docLinkHtml = 'Like what you see? Visit the ' +\n",
              "            '<a target=\"_blank\" href=https://colab.research.google.com/notebooks/data_table.ipynb>data table notebook</a>'\n",
              "            + ' to learn more about interactive tables.';\n",
              "          element.innerHTML = '';\n",
              "          dataTable['output_type'] = 'display_data';\n",
              "          await google.colab.output.renderOutput(dataTable, element);\n",
              "          const docLink = document.createElement('div');\n",
              "          docLink.innerHTML = docLinkHtml;\n",
              "          element.appendChild(docLink);\n",
              "        }\n",
              "      </script>\n",
              "    </div>\n",
              "  </div>\n",
              "  "
            ]
          },
          "metadata": {},
          "execution_count": 474
        }
      ],
      "source": [
        "def get_crypto_price(symbol, exchange, start_date = None):\n",
        "    api_key = ' E7KN41UXPEIKWXIK'\n",
        "    api_url = f'https://www.alphavantage.co/query?function=DIGITAL_CURRENCY_DAILY&symbol={symbol}&market={exchange}&apikey={api_key}'\n",
        "    raw_df = requests.get(api_url).json()\n",
        "    df = pd.DataFrame(raw_df['Time Series (Digital Currency Daily)']).T\n",
        "    df = df.rename(columns = {'1a. open (USD)': 'open', '2a. high (USD)': 'high', '3a. low (USD)': 'low', '4a. close (USD)': 'close', '5. volume': 'volume'})\n",
        "    df.index.names = ['Date']\n",
        " \n",
        "\n",
        "    for i in df.columns:\n",
        "        df[i] = df[i].astype(float)\n",
        "    df.index = pd.to_datetime(df.index)\n",
        "    df = df.iloc[::-1].drop(['1b. open (USD)', '2b. high (USD)', '3b. low (USD)', '4b. close (USD)', '6. market cap (USD)', 'open', 'high', 'low', 'volume'], axis = 1)\n",
        "\n",
        "    if start_date:\n",
        "        df = df[df.index >= start_date]\n",
        "    return df\n",
        "\n",
        "eth_df = get_crypto_price(symbol = 'ETH', exchange = 'USD', start_date = '2016-01-01')\n",
        "eth_df.head()"
      ]
    },
    {
      "cell_type": "code",
      "source": [
        "eth_df.shape"
      ],
      "metadata": {
        "colab": {
          "base_uri": "https://localhost:8080/"
        },
        "id": "6Mnza9nKaRBV",
        "outputId": "ac3f857f-1eac-4e6e-b5f1-52eba139dc4d"
      },
      "execution_count": 475,
      "outputs": [
        {
          "output_type": "execute_result",
          "data": {
            "text/plain": [
              "(1000, 1)"
            ]
          },
          "metadata": {},
          "execution_count": 475
        }
      ]
    },
    {
      "cell_type": "code",
      "source": [
        "def scale_data(scaler):\n",
        "  scaler = MinMaxScaler(feature_range=(0,1))\n",
        "  scaled_data = scaler.fit_transform(eth_df.close.values.reshape(-1,1))\n",
        "\n",
        "  return scaled_data, scaler\n",
        "\n",
        "scaled_data, scaler = scale_data(eth_df)"
      ],
      "metadata": {
        "id": "VQC5qEvpeEPL"
      },
      "execution_count": 476,
      "outputs": []
    },
    {
      "cell_type": "code",
      "source": [
        "def prediction(scaled_data):\n",
        "  \n",
        "  x_train, y_train = [], []\n",
        "\n",
        "  for days in range(30, len(scaled_data)-28):\n",
        "    x_train.append(scaled_data[days-30: days, 0])\n",
        "    y_train.append(scaled_data[days+28, 0])\n",
        "\n",
        "  x_train, y_train = np.array(x_train), np.array(y_train)\n",
        "  x_train = np.reshape(x_train, (x_train.shape[0], x_train.shape[1], 1))\n",
        "\n",
        "  return x_train, y_train\n",
        "\n",
        "x_train, y_train = prediction(scaled_data)\n"
      ],
      "metadata": {
        "id": "EYlXGflWxEws"
      },
      "execution_count": 477,
      "outputs": []
    },
    {
      "cell_type": "code",
      "source": [
        "x_train.shape"
      ],
      "metadata": {
        "id": "Yo2gIFR5CF9v",
        "outputId": "7a62626a-0243-42a0-ed8d-dd42dfbf56c3",
        "colab": {
          "base_uri": "https://localhost:8080/"
        }
      },
      "execution_count": 478,
      "outputs": [
        {
          "output_type": "execute_result",
          "data": {
            "text/plain": [
              "(942, 30, 1)"
            ]
          },
          "metadata": {},
          "execution_count": 478
        }
      ]
    },
    {
      "cell_type": "code",
      "source": [
        "def neural_network(x_train, y_train, epochs, batch_size):\n",
        "\n",
        "  model = Sequential()\n",
        "\n",
        "  model.add(LSTM(units=50, return_sequences=True, input_shape=(x_train.shape[1], 1)))\n",
        "  model.add(Dropout(0.2))\n",
        "  model.add(LSTM(units=50, return_sequences=True))\n",
        "  model.add(Dropout(0.2))\n",
        "  model.add(LSTM(units=50))\n",
        "  model.add(Dropout(0.2))\n",
        "  model.add(Dense(units=1))\n",
        "\n",
        "  model.compile(optimizer='adam', loss='mean_squared_error')\n",
        "  model.fit(x_train, y_train, epochs, batch_size)\n",
        " \n",
        "  return model\n",
        "\n",
        "neural_network = neural_network(x_train, y_train, epochs=25, batch_size=32)"
      ],
      "metadata": {
        "id": "QGlZBxX2zOhs",
        "outputId": "fd3b07da-2b2b-40cd-f050-be37e0b4b4af",
        "colab": {
          "base_uri": "https://localhost:8080/"
        }
      },
      "execution_count": 479,
      "outputs": [
        {
          "output_type": "stream",
          "name": "stdout",
          "text": [
            "Epoch 1/32\n",
            "38/38 [==============================] - 8s 51ms/step - loss: 0.0331\n",
            "Epoch 2/32\n",
            "38/38 [==============================] - 2s 47ms/step - loss: 0.0184\n",
            "Epoch 3/32\n",
            "38/38 [==============================] - 2s 50ms/step - loss: 0.0165\n",
            "Epoch 4/32\n",
            "38/38 [==============================] - 2s 51ms/step - loss: 0.0162\n",
            "Epoch 5/32\n",
            "38/38 [==============================] - 2s 50ms/step - loss: 0.0168\n",
            "Epoch 6/32\n",
            "38/38 [==============================] - 2s 46ms/step - loss: 0.0164\n",
            "Epoch 7/32\n",
            "38/38 [==============================] - 2s 50ms/step - loss: 0.0156\n",
            "Epoch 8/32\n",
            "38/38 [==============================] - 2s 48ms/step - loss: 0.0153\n",
            "Epoch 9/32\n",
            "38/38 [==============================] - 2s 52ms/step - loss: 0.0157\n",
            "Epoch 10/32\n",
            "38/38 [==============================] - 2s 46ms/step - loss: 0.0148\n",
            "Epoch 11/32\n",
            "38/38 [==============================] - 2s 50ms/step - loss: 0.0149\n",
            "Epoch 12/32\n",
            "38/38 [==============================] - 2s 45ms/step - loss: 0.0149\n",
            "Epoch 13/32\n",
            "38/38 [==============================] - 2s 52ms/step - loss: 0.0146\n",
            "Epoch 14/32\n",
            "38/38 [==============================] - 2s 49ms/step - loss: 0.0142\n",
            "Epoch 15/32\n",
            "38/38 [==============================] - 2s 46ms/step - loss: 0.0141\n",
            "Epoch 16/32\n",
            "38/38 [==============================] - 2s 46ms/step - loss: 0.0134\n",
            "Epoch 17/32\n",
            "38/38 [==============================] - 2s 51ms/step - loss: 0.0138\n",
            "Epoch 18/32\n",
            "38/38 [==============================] - 2s 57ms/step - loss: 0.0143\n",
            "Epoch 19/32\n",
            "38/38 [==============================] - 2s 47ms/step - loss: 0.0138\n",
            "Epoch 20/32\n",
            "38/38 [==============================] - 2s 47ms/step - loss: 0.0134\n",
            "Epoch 21/32\n",
            "38/38 [==============================] - 2s 45ms/step - loss: 0.0135\n",
            "Epoch 22/32\n",
            "38/38 [==============================] - 2s 46ms/step - loss: 0.0138\n",
            "Epoch 23/32\n",
            "38/38 [==============================] - 2s 50ms/step - loss: 0.0134\n",
            "Epoch 24/32\n",
            "38/38 [==============================] - 2s 51ms/step - loss: 0.0131\n",
            "Epoch 25/32\n",
            "38/38 [==============================] - 2s 50ms/step - loss: 0.0135\n",
            "Epoch 26/32\n",
            "38/38 [==============================] - 2s 52ms/step - loss: 0.0134\n",
            "Epoch 27/32\n",
            "38/38 [==============================] - 3s 65ms/step - loss: 0.0130\n",
            "Epoch 28/32\n",
            "38/38 [==============================] - 2s 48ms/step - loss: 0.0131\n",
            "Epoch 29/32\n",
            "38/38 [==============================] - 2s 50ms/step - loss: 0.0131\n",
            "Epoch 30/32\n",
            "38/38 [==============================] - 2s 52ms/step - loss: 0.0133\n",
            "Epoch 31/32\n",
            "38/38 [==============================] - 2s 54ms/step - loss: 0.0129\n",
            "Epoch 32/32\n",
            "38/38 [==============================] - 2s 48ms/step - loss: 0.0134\n"
          ]
        }
      ]
    },
    {
      "cell_type": "code",
      "source": [
        "\n",
        "test_data = get_crypto_price(symbol='ETH', exchange='USD', start_date = '2021-07-10')\n",
        "closing_prices = test_data.close.values\n",
        "merged_dataset = pd.concat((eth_df.close, test_data.close),axis=0)\n"
      ],
      "metadata": {
        "id": "PJ7w81H6_f5D"
      },
      "execution_count": 480,
      "outputs": []
    },
    {
      "cell_type": "code",
      "source": [
        "def create_test_model(merged_dataset):\n",
        "  new_model = merged_dataset[len(merged_dataset) - len(test_data) - 30:].values\n",
        "  new_model = new_model.reshape(-1, 1)\n",
        "  new_model = scaler.fit_transform(new_model)\n",
        "\n",
        "  return new_model\n",
        "\n",
        "test_model = create_test_model(merged_dataset)\n"
      ],
      "metadata": {
        "id": "mhmDTArfcH2p"
      },
      "execution_count": 481,
      "outputs": []
    },
    {
      "cell_type": "code",
      "source": [
        "def create_test_set(new_model):\n",
        "\n",
        "  x_test = []\n",
        "\n",
        "  for days in range(30, len(new_model)):\n",
        "    x_test.append(new_model[days-30: days, 0])\n",
        "\n",
        "  x_test = np.array(x_test)\n",
        "  x_test = np.reshape(x_test, (x_test.shape[0], x_test.shape[1], 1))\n",
        "\n",
        "  return x_test\n",
        "\n",
        "x_test = create_test_set(test_model)"
      ],
      "metadata": {
        "id": "dof1zqgTFWTU"
      },
      "execution_count": 482,
      "outputs": []
    },
    {
      "cell_type": "code",
      "source": [
        "predict = model.predict(x_test)\n",
        "predict = scaler.inverse_transform(predict)"
      ],
      "metadata": {
        "id": "beAxKUFIG1Ds"
      },
      "execution_count": 483,
      "outputs": []
    },
    {
      "cell_type": "code",
      "source": [
        "\n",
        "plt.figure(figsize=(16,8))\n",
        "plt.plot(closing_prices, color='orange', label = 'Actual Prices')\n",
        "plt.plot(predict, color='yellow', label = 'Prediction')\n",
        "plt.title('Ethereum Price Prediction Model', fontsize=18)\n",
        "plt.xlabel('Days', fontsize=18)\n",
        "plt.ylabel('Price', fontsize=18)\n",
        "plt.legend(loc='upper right')\n",
        "\n",
        "plt.show()"
      ],
      "metadata": {
        "colab": {
          "base_uri": "https://localhost:8080/",
          "height": 557
        },
        "id": "z2MIW10IHk4F",
        "outputId": "96580c7d-7a51-46cb-ce22-2f2ebc039aca"
      },
      "execution_count": 488,
      "outputs": [
        {
          "output_type": "display_data",
          "data": {
            "text/plain": [
              "<Figure size 1152x576 with 1 Axes>"
            ],
            "image/png": "[encoded data removed]"
          },
          "metadata": {}
        }
      ]
    },
    {
      "cell_type": "code",
      "source": [
        "predict_df = pd.DataFrame(predict, columns=['Price'])\n",
        "predict_df.index.name = 'Days'\n",
        "             \n",
        "predict_df"
      ],
      "metadata": {
        "id": "Xy7RL04QhTeq",
        "outputId": "a8132a6b-dc7a-44c1-9ddc-67b9405a3f9f",
        "colab": {
          "base_uri": "https://localhost:8080/",
          "height": 2268
        }
      },
      "execution_count": 507,
      "outputs": [
        {
          "output_type": "execute_result",
          "data": {
            "text/plain": [
              "            Price\n",
              "Days             \n",
              "0     1196.066650\n",
              "1     1240.066162\n",
              "2     1327.985352\n",
              "3     1449.219238\n",
              "4     1583.827271\n",
              "...           ...\n",
              "362   1146.111572\n",
              "363   1148.505005\n",
              "364   1157.488037\n",
              "365   1170.833984\n",
              "366   1184.626221\n",
              "\n",
              "[367 rows x 1 columns]"
            ],
            "text/html": [
              "\n",
              "  <div id=\"df-2445b9da-5f0d-4dbe-8ff6-6d76dddd75a0\">\n",
              "    <div class=\"colab-df-container\">\n",
              "      <div>\n",
              "<style scoped>\n",
              "    .dataframe tbody tr th:only-of-type {\n",
              "        vertical-align: middle;\n",
              "    }\n",
              "\n",
              "    .dataframe tbody tr th {\n",
              "        vertical-align: top;\n",
              "    }\n",
              "\n",
              "    .dataframe thead th {\n",
              "        text-align: right;\n",
              "    }\n",
              "</style>\n",
              "<table border=\"1\" class=\"dataframe\">\n",
              "  <thead>\n",
              "    <tr style=\"text-align: right;\">\n",
              "      <th></th>\n",
              "      <th>Price</th>\n",
              "    </tr>\n",
              "    <tr>\n",
              "      <th>Days</th>\n",
              "      <th></th>\n",
              "    </tr>\n",
              "  </thead>\n",
              "  <tbody>\n",
              "    <tr>\n",
              "      <th>0</th>\n",
              "      <td>1196.066650</td>\n",
              "    </tr>\n",
              "    <tr>\n",
              "      <th>1</th>\n",
              "      <td>1240.066162</td>\n",
              "    </tr>\n",
              "    <tr>\n",
              "      <th>2</th>\n",
              "      <td>1327.985352</td>\n",
              "    </tr>\n",
              "    <tr>\n",
              "      <th>3</th>\n",
              "      <td>1449.219238</td>\n",
              "    </tr>\n",
              "    <tr>\n",
              "      <th>4</th>\n",
              "      <td>1583.827271</td>\n",
              "    </tr>\n",
              "    <tr>\n",
              "      <th>...</th>\n",
              "      <td>...</td>\n",
              "    </tr>\n",
              "    <tr>\n",
              "      <th>362</th>\n",
              "      <td>1146.111572</td>\n",
              "    </tr>\n",
              "    <tr>\n",
              "      <th>363</th>\n",
              "      <td>1148.505005</td>\n",
              "    </tr>\n",
              "    <tr>\n",
              "      <th>364</th>\n",
              "      <td>1157.488037</td>\n",
              "    </tr>\n",
              "    <tr>\n",
              "      <th>365</th>\n",
              "      <td>1170.833984</td>\n",
              "    </tr>\n",
              "    <tr>\n",
              "      <th>366</th>\n",
              "      <td>1184.626221</td>\n",
              "    </tr>\n",
              "  </tbody>\n",
              "</table>\n",
              "<p>367 rows × 1 columns</p>\n",
              "</div>\n",
              "      <button class=\"colab-df-convert\" onclick=\"convertToInteractive('df-2445b9da-5f0d-4dbe-8ff6-6d76dddd75a0')\"\n",
              "              title=\"Convert this dataframe to an interactive table.\"\n",
              "              style=\"display:none;\">\n",
              "        \n",
              "  <svg xmlns=\"http://www.w3.org/2000/svg\" height=\"24px\"viewBox=\"0 0 24 24\"\n",
              "       width=\"24px\">\n",
              "    <path d=\"M0 0h24v24H0V0z\" fill=\"none\"/>\n",
              "    <path d=\"M18.56 5.44l.94 2.06.94-2.06 2.06-.94-2.06-.94-.94-2.06-.94 2.06-2.06.94zm-11 1L8.5 8.5l.94-2.06 2.06-.94-2.06-.94L8.5 2.5l-.94 2.06-2.06.94zm10 10l.94 2.06.94-2.06 2.06-.94-2.06-.94-.94-2.06-.94 2.06-2.06.94z\"/><path d=\"M17.41 7.96l-1.37-1.37c-.4-.4-.92-.59-1.43-.59-.52 0-1.04.2-1.43.59L10.3 9.45l-7.72 7.72c-.78.78-.78 2.05 0 2.83L4 21.41c.39.39.9.59 1.41.59.51 0 1.02-.2 1.41-.59l7.78-7.78 2.81-2.81c.8-.78.8-2.07 0-2.86zM5.41 20L4 18.59l7.72-7.72 1.47 1.35L5.41 20z\"/>\n",
              "  </svg>\n",
              "      </button>\n",
              "      \n",
              "  <style>\n",
              "    .colab-df-container {\n",
              "      display:flex;\n",
              "      flex-wrap:wrap;\n",
              "      gap: 12px;\n",
              "    }\n",
              "\n",
              "    .colab-df-convert {\n",
              "      background-color: #E8F0FE;\n",
              "      border: none;\n",
              "      border-radius: 50%;\n",
              "      cursor: pointer;\n",
              "      display: none;\n",
              "      fill: #1967D2;\n",
              "      height: 32px;\n",
              "      padding: 0 0 0 0;\n",
              "      width: 32px;\n",
              "    }\n",
              "\n",
              "    .colab-df-convert:hover {\n",
              "      background-color: #E2EBFA;\n",
              "      box-shadow: 0px 1px 2px rgba(60, 64, 67, 0.3), 0px 1px 3px 1px rgba(60, 64, 67, 0.15);\n",
              "      fill: #174EA6;\n",
              "    }\n",
              "\n",
              "    [theme=dark] .colab-df-convert {\n",
              "      background-color: #3B4455;\n",
              "      fill: #D2E3FC;\n",
              "    }\n",
              "\n",
              "    [theme=dark] .colab-df-convert:hover {\n",
              "      background-color: #434B5C;\n",
              "      box-shadow: 0px 1px 3px 1px rgba(0, 0, 0, 0.15);\n",
              "      filter: drop-shadow(0px 1px 2px rgba(0, 0, 0, 0.3));\n",
              "      fill: #FFFFFF;\n",
              "    }\n",
              "  </style>\n",
              "\n",
              "      <script>\n",
              "        const buttonEl =\n",
              "          document.querySelector('#df-2445b9da-5f0d-4dbe-8ff6-6d76dddd75a0 button.colab-df-convert');\n",
              "        buttonEl.style.display =\n",
              "          google.colab.kernel.accessAllowed ? 'block' : 'none';\n",
              "\n",
              "        async function convertToInteractive(key) {\n",
              "          const element = document.querySelector('#df-2445b9da-5f0d-4dbe-8ff6-6d76dddd75a0');\n",
              "          const dataTable =\n",
              "            await google.colab.kernel.invokeFunction('convertToInteractive',\n",
              "                                                     [key], {});\n",
              "          if (!dataTable) return;\n",
              "\n",
              "          const docLinkHtml = 'Like what you see? Visit the ' +\n",
              "            '<a target=\"_blank\" href=https://colab.research.google.com/notebooks/data_table.ipynb>data table notebook</a>'\n",
              "            + ' to learn more about interactive tables.';\n",
              "          element.innerHTML = '';\n",
              "          dataTable['output_type'] = 'display_data';\n",
              "          await google.colab.output.renderOutput(dataTable, element);\n",
              "          const docLink = document.createElement('div');\n",
              "          docLink.innerHTML = docLinkHtml;\n",
              "          element.appendChild(docLink);\n",
              "        }\n",
              "      </script>\n",
              "    </div>\n",
              "  </div>\n",
              "  "
            ]
          },
          "metadata": {},
          "execution_count": 507
        }
      ]
    }
  ]
}