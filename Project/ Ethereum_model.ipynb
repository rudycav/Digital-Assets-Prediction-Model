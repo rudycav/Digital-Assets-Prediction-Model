{
  "nbformat": 4,
  "nbformat_minor": 0,
  "metadata": {
    "colab": {
      "name": "Ethereum_model.ipynb",
      "provenance": [],
      "authorship_tag": "ABX9TyNAEDtIdH+axkDH9LW6KQTr",
      "include_colab_link": true
    },
    "kernelspec": {
      "name": "python3",
      "display_name": "Python 3"
    },
    "language_info": {
      "name": "python"
    }
  },
  "cells": [
    {
      "cell_type": "markdown",
      "metadata": {
        "id": "view-in-github",
        "colab_type": "text"
      },
      "source": [
        "<a href=\"https://colab.research.google.com/github/rudycav/Equities-Digital-Assets-Prediction-Model/blob/main/Project/%20Ethereum_model.ipynb\" target=\"_parent\"><img src=\"https://colab.research.google.com/assets/colab-badge.svg\" alt=\"Open In Colab\"/></a>"
      ]
    },
    {
      "cell_type": "code",
      "source": [
        "import numpy as np\n",
        "import math\n",
        "import tensorflow\n",
        "import requests\n",
        "import pandas as pd\n",
        "import matplotlib.pylab as plt\n",
        "plt.style.use('fivethirtyeight')\n",
        "from tensorflow.keras.layers import Dense, Dropout, LSTM\n",
        "from tensorflow.keras.models import Sequential\n",
        "from sklearn.preprocessing import MinMaxScaler\n",
        "from sklearn.model_selection import train_test_split\n",
        "from sklearn import datasets\n",
        "from sklearn.neighbors import KNeighborsClassifier\n",
        "from sklearn import metrics\n",
        "from sklearn.svm import SVC\n",
        "from sklearn import svm\n",
        "from sklearn.linear_model import LinearRegression\n",
        "from sklearn.model_selection import GridSearchCV\n",
        "from sklearn.model_selection import RandomizedSearchCV\n",
        "from sklearn.model_selection import cross_val_score\n",
        "from sklearn.model_selection import StratifiedKFold\n",
        "from imblearn.under_sampling import RandomUnderSampler"
      ],
      "metadata": {
        "id": "INw2BzquZ5AG"
      },
      "execution_count": 89,
      "outputs": []
    },
    {
      "cell_type": "code",
      "execution_count": 90,
      "metadata": {
        "colab": {
          "base_uri": "https://localhost:8080/",
          "height": 238
        },
        "id": "okHYQ15UVKGx",
        "outputId": "a32248a0-93ea-4847-e0d1-7d14d1b7aecc"
      },
      "outputs": [
        {
          "output_type": "execute_result",
          "data": {
            "text/plain": [
              "             close\n",
              "Date              \n",
              "2019-10-16  174.47\n",
              "2019-10-17  177.16\n",
              "2019-10-18  172.74\n",
              "2019-10-19  171.79\n",
              "2019-10-20  175.22"
            ],
            "text/html": [
              "\n",
              "  <div id=\"df-b86d59c1-9e8e-4eee-b0ce-b838934793f4\">\n",
              "    <div class=\"colab-df-container\">\n",
              "      <div>\n",
              "<style scoped>\n",
              "    .dataframe tbody tr th:only-of-type {\n",
              "        vertical-align: middle;\n",
              "    }\n",
              "\n",
              "    .dataframe tbody tr th {\n",
              "        vertical-align: top;\n",
              "    }\n",
              "\n",
              "    .dataframe thead th {\n",
              "        text-align: right;\n",
              "    }\n",
              "</style>\n",
              "<table border=\"1\" class=\"dataframe\">\n",
              "  <thead>\n",
              "    <tr style=\"text-align: right;\">\n",
              "      <th></th>\n",
              "      <th>close</th>\n",
              "    </tr>\n",
              "    <tr>\n",
              "      <th>Date</th>\n",
              "      <th></th>\n",
              "    </tr>\n",
              "  </thead>\n",
              "  <tbody>\n",
              "    <tr>\n",
              "      <th>2019-10-16</th>\n",
              "      <td>174.47</td>\n",
              "    </tr>\n",
              "    <tr>\n",
              "      <th>2019-10-17</th>\n",
              "      <td>177.16</td>\n",
              "    </tr>\n",
              "    <tr>\n",
              "      <th>2019-10-18</th>\n",
              "      <td>172.74</td>\n",
              "    </tr>\n",
              "    <tr>\n",
              "      <th>2019-10-19</th>\n",
              "      <td>171.79</td>\n",
              "    </tr>\n",
              "    <tr>\n",
              "      <th>2019-10-20</th>\n",
              "      <td>175.22</td>\n",
              "    </tr>\n",
              "  </tbody>\n",
              "</table>\n",
              "</div>\n",
              "      <button class=\"colab-df-convert\" onclick=\"convertToInteractive('df-b86d59c1-9e8e-4eee-b0ce-b838934793f4')\"\n",
              "              title=\"Convert this dataframe to an interactive table.\"\n",
              "              style=\"display:none;\">\n",
              "        \n",
              "  <svg xmlns=\"http://www.w3.org/2000/svg\" height=\"24px\"viewBox=\"0 0 24 24\"\n",
              "       width=\"24px\">\n",
              "    <path d=\"M0 0h24v24H0V0z\" fill=\"none\"/>\n",
              "    <path d=\"M18.56 5.44l.94 2.06.94-2.06 2.06-.94-2.06-.94-.94-2.06-.94 2.06-2.06.94zm-11 1L8.5 8.5l.94-2.06 2.06-.94-2.06-.94L8.5 2.5l-.94 2.06-2.06.94zm10 10l.94 2.06.94-2.06 2.06-.94-2.06-.94-.94-2.06-.94 2.06-2.06.94z\"/><path d=\"M17.41 7.96l-1.37-1.37c-.4-.4-.92-.59-1.43-.59-.52 0-1.04.2-1.43.59L10.3 9.45l-7.72 7.72c-.78.78-.78 2.05 0 2.83L4 21.41c.39.39.9.59 1.41.59.51 0 1.02-.2 1.41-.59l7.78-7.78 2.81-2.81c.8-.78.8-2.07 0-2.86zM5.41 20L4 18.59l7.72-7.72 1.47 1.35L5.41 20z\"/>\n",
              "  </svg>\n",
              "      </button>\n",
              "      \n",
              "  <style>\n",
              "    .colab-df-container {\n",
              "      display:flex;\n",
              "      flex-wrap:wrap;\n",
              "      gap: 12px;\n",
              "    }\n",
              "\n",
              "    .colab-df-convert {\n",
              "      background-color: #E8F0FE;\n",
              "      border: none;\n",
              "      border-radius: 50%;\n",
              "      cursor: pointer;\n",
              "      display: none;\n",
              "      fill: #1967D2;\n",
              "      height: 32px;\n",
              "      padding: 0 0 0 0;\n",
              "      width: 32px;\n",
              "    }\n",
              "\n",
              "    .colab-df-convert:hover {\n",
              "      background-color: #E2EBFA;\n",
              "      box-shadow: 0px 1px 2px rgba(60, 64, 67, 0.3), 0px 1px 3px 1px rgba(60, 64, 67, 0.15);\n",
              "      fill: #174EA6;\n",
              "    }\n",
              "\n",
              "    [theme=dark] .colab-df-convert {\n",
              "      background-color: #3B4455;\n",
              "      fill: #D2E3FC;\n",
              "    }\n",
              "\n",
              "    [theme=dark] .colab-df-convert:hover {\n",
              "      background-color: #434B5C;\n",
              "      box-shadow: 0px 1px 3px 1px rgba(0, 0, 0, 0.15);\n",
              "      filter: drop-shadow(0px 1px 2px rgba(0, 0, 0, 0.3));\n",
              "      fill: #FFFFFF;\n",
              "    }\n",
              "  </style>\n",
              "\n",
              "      <script>\n",
              "        const buttonEl =\n",
              "          document.querySelector('#df-b86d59c1-9e8e-4eee-b0ce-b838934793f4 button.colab-df-convert');\n",
              "        buttonEl.style.display =\n",
              "          google.colab.kernel.accessAllowed ? 'block' : 'none';\n",
              "\n",
              "        async function convertToInteractive(key) {\n",
              "          const element = document.querySelector('#df-b86d59c1-9e8e-4eee-b0ce-b838934793f4');\n",
              "          const dataTable =\n",
              "            await google.colab.kernel.invokeFunction('convertToInteractive',\n",
              "                                                     [key], {});\n",
              "          if (!dataTable) return;\n",
              "\n",
              "          const docLinkHtml = 'Like what you see? Visit the ' +\n",
              "            '<a target=\"_blank\" href=https://colab.research.google.com/notebooks/data_table.ipynb>data table notebook</a>'\n",
              "            + ' to learn more about interactive tables.';\n",
              "          element.innerHTML = '';\n",
              "          dataTable['output_type'] = 'display_data';\n",
              "          await google.colab.output.renderOutput(dataTable, element);\n",
              "          const docLink = document.createElement('div');\n",
              "          docLink.innerHTML = docLinkHtml;\n",
              "          element.appendChild(docLink);\n",
              "        }\n",
              "      </script>\n",
              "    </div>\n",
              "  </div>\n",
              "  "
            ]
          },
          "metadata": {},
          "execution_count": 90
        }
      ],
      "source": [
        "def get_crypto_price(symbol, exchange, start_date = None):\n",
        "    api_key = ' E7KN41UXPEIKWXIK'\n",
        "    api_url = f'https://www.alphavantage.co/query?function=DIGITAL_CURRENCY_DAILY&symbol={symbol}&market={exchange}&apikey={api_key}'\n",
        "    raw_df = requests.get(api_url).json()\n",
        "    df = pd.DataFrame(raw_df['Time Series (Digital Currency Daily)']).T\n",
        "    df = df.rename(columns = {'1a. open (USD)': 'open', '2a. high (USD)': 'high', '3a. low (USD)': 'low', '4a. close (USD)': 'close', '5. volume': 'volume'})\n",
        "    df.index.names = ['Date']\n",
        " \n",
        "\n",
        "    for i in df.columns:\n",
        "        df[i] = df[i].astype(float)\n",
        "    df.index = pd.to_datetime(df.index)\n",
        "    df = df.iloc[::-1].drop(['1b. open (USD)', '2b. high (USD)', '3b. low (USD)', '4b. close (USD)', '6. market cap (USD)', 'open', 'high', 'low', 'volume'], axis = 1)\n",
        "\n",
        "    if start_date:\n",
        "        df = df[df.index >= start_date]\n",
        "    return df\n",
        "\n",
        "eth_df = get_crypto_price(symbol = 'ETH', exchange = 'USD', start_date = '2016-01-01')\n",
        "eth_df.head()"
      ]
    },
    {
      "cell_type": "code",
      "source": [
        "eth_df.shape"
      ],
      "metadata": {
        "colab": {
          "base_uri": "https://localhost:8080/"
        },
        "id": "6Mnza9nKaRBV",
        "outputId": "f3b8a6c0-68da-47c1-990f-2a280c6442cc"
      },
      "execution_count": 91,
      "outputs": [
        {
          "output_type": "execute_result",
          "data": {
            "text/plain": [
              "(1000, 1)"
            ]
          },
          "metadata": {},
          "execution_count": 91
        }
      ]
    },
    {
      "cell_type": "code",
      "source": [
        "def scale_data(scaler):\n",
        "  scaler = MinMaxScaler(feature_range=(0,1))\n",
        "  scaled_data = scaler.fit_transform(eth_df.close.values.reshape(-1,1))\n",
        "\n",
        "  return scaled_data, scaler\n",
        "\n",
        "scaled_data, scaler = scale_data(eth_df)"
      ],
      "metadata": {
        "id": "VQC5qEvpeEPL"
      },
      "execution_count": 92,
      "outputs": []
    },
    {
      "cell_type": "code",
      "source": [
        "def prediction(scaled_data):\n",
        "  \n",
        "  x_train, y_train = [], []\n",
        "\n",
        "  for days in range(60, len(scaled_data)-28):\n",
        "    x_train.append(scaled_data[days-60: days, 0])\n",
        "    y_train.append(scaled_data[days+28, 0])\n",
        "\n",
        "  x_train, y_train = np.array(x_train), np.array(y_train)\n",
        "\n",
        "  return x_train, y_train\n",
        "\n",
        "x_train, y_train = prediction(scaled_data)\n"
      ],
      "metadata": {
        "id": "EYlXGflWxEws"
      },
      "execution_count": 93,
      "outputs": []
    },
    {
      "cell_type": "code",
      "source": [
        "x_train_reshape = np.reshape(x_train, (x_train.shape[0], x_train.shape[1], 1))"
      ],
      "metadata": {
        "id": "4hwZuEyLx6-w"
      },
      "execution_count": 94,
      "outputs": []
    },
    {
      "cell_type": "code",
      "source": [
        "x_train.shape"
      ],
      "metadata": {
        "id": "Yo2gIFR5CF9v",
        "outputId": "55da514f-2e51-4727-8539-c31521222711",
        "colab": {
          "base_uri": "https://localhost:8080/"
        }
      },
      "execution_count": 95,
      "outputs": [
        {
          "output_type": "execute_result",
          "data": {
            "text/plain": [
              "(912, 60)"
            ]
          },
          "metadata": {},
          "execution_count": 95
        }
      ]
    },
    {
      "cell_type": "code",
      "source": [
        "def neural_network(x_train, y_train, epochs, batch_size):\n",
        "\n",
        "  model = Sequential()\n",
        "\n",
        "  model.add(LSTM(units=50, return_sequences=True, input_shape=(x_train_reshape.shape[1], 1)))\n",
        "  model.add(Dropout(0.2))\n",
        "  model.add(LSTM(units=50, return_sequences=True))\n",
        "  model.add(Dropout(0.2))\n",
        "  model.add(LSTM(units=50))\n",
        "  model.add(Dropout(0.2))\n",
        "  model.add(Dense(units=1))\n",
        "\n",
        "  model.compile(optimizer='adam', loss='mean_squared_error')\n",
        "  model.fit(x_train_reshape, y_train, epochs, batch_size)\n",
        " \n",
        "  return model\n",
        "\n",
        "neural_network = neural_network(x_train_reshape, y_train, epochs=25, batch_size=32)"
      ],
      "metadata": {
        "id": "QGlZBxX2zOhs",
        "outputId": "6620aed2-869e-40e7-b7a1-efae3d811023",
        "colab": {
          "base_uri": "https://localhost:8080/"
        }
      },
      "execution_count": 96,
      "outputs": [
        {
          "output_type": "stream",
          "name": "stdout",
          "text": [
            "Epoch 1/32\n",
            "37/37 [==============================] - 16s 72ms/step - loss: 0.0406\n",
            "Epoch 2/32\n",
            "37/37 [==============================] - 3s 69ms/step - loss: 0.0201\n",
            "Epoch 3/32\n",
            "37/37 [==============================] - 2s 67ms/step - loss: 0.0184\n",
            "Epoch 4/32\n",
            "37/37 [==============================] - 3s 69ms/step - loss: 0.0171\n",
            "Epoch 5/32\n",
            "37/37 [==============================] - 2s 67ms/step - loss: 0.0181\n",
            "Epoch 6/32\n",
            "37/37 [==============================] - 3s 70ms/step - loss: 0.0170\n",
            "Epoch 7/32\n",
            "37/37 [==============================] - 3s 73ms/step - loss: 0.0160\n",
            "Epoch 8/32\n",
            "37/37 [==============================] - 3s 76ms/step - loss: 0.0164\n",
            "Epoch 9/32\n",
            "37/37 [==============================] - 2s 67ms/step - loss: 0.0156\n",
            "Epoch 10/32\n",
            "37/37 [==============================] - 2s 67ms/step - loss: 0.0152\n",
            "Epoch 11/32\n",
            "37/37 [==============================] - 2s 67ms/step - loss: 0.0158\n",
            "Epoch 12/32\n",
            "37/37 [==============================] - 3s 68ms/step - loss: 0.0145\n",
            "Epoch 13/32\n",
            "37/37 [==============================] - 3s 68ms/step - loss: 0.0145\n",
            "Epoch 14/32\n",
            "37/37 [==============================] - 3s 68ms/step - loss: 0.0142\n",
            "Epoch 15/32\n",
            "37/37 [==============================] - 3s 80ms/step - loss: 0.0160\n",
            "Epoch 16/32\n",
            "37/37 [==============================] - 3s 67ms/step - loss: 0.0140\n",
            "Epoch 17/32\n",
            "37/37 [==============================] - 2s 66ms/step - loss: 0.0143\n",
            "Epoch 18/32\n",
            "37/37 [==============================] - 2s 67ms/step - loss: 0.0147\n",
            "Epoch 19/32\n",
            "37/37 [==============================] - 2s 67ms/step - loss: 0.0144\n",
            "Epoch 20/32\n",
            "37/37 [==============================] - 2s 67ms/step - loss: 0.0138\n",
            "Epoch 21/32\n",
            "37/37 [==============================] - 2s 67ms/step - loss: 0.0149\n",
            "Epoch 22/32\n",
            "37/37 [==============================] - 3s 68ms/step - loss: 0.0138\n",
            "Epoch 23/32\n",
            "37/37 [==============================] - 2s 67ms/step - loss: 0.0137\n",
            "Epoch 24/32\n",
            "37/37 [==============================] - 2s 67ms/step - loss: 0.0150\n",
            "Epoch 25/32\n",
            "37/37 [==============================] - 2s 67ms/step - loss: 0.0140\n",
            "Epoch 26/32\n",
            "37/37 [==============================] - 3s 68ms/step - loss: 0.0138\n",
            "Epoch 27/32\n",
            "37/37 [==============================] - 2s 67ms/step - loss: 0.0137\n",
            "Epoch 28/32\n",
            "37/37 [==============================] - 2s 67ms/step - loss: 0.0143\n",
            "Epoch 29/32\n",
            "37/37 [==============================] - 3s 70ms/step - loss: 0.0142\n",
            "Epoch 30/32\n",
            "37/37 [==============================] - 3s 68ms/step - loss: 0.0142\n",
            "Epoch 31/32\n",
            "37/37 [==============================] - 3s 90ms/step - loss: 0.0135\n",
            "Epoch 32/32\n",
            "37/37 [==============================] - 2s 67ms/step - loss: 0.0135\n"
          ]
        }
      ]
    },
    {
      "cell_type": "code",
      "source": [
        "\n",
        "test_data = get_crypto_price(symbol='ETH', exchange='USD', start_date = '2016-07-10')\n",
        "closing_prices = test_data.close.values\n",
        "merged_dataset = pd.concat((eth_df.close, test_data.close),axis=0)\n"
      ],
      "metadata": {
        "id": "PJ7w81H6_f5D"
      },
      "execution_count": 97,
      "outputs": []
    },
    {
      "cell_type": "code",
      "source": [
        "def create_test_model(merged_dataset):\n",
        "  new_model = merged_dataset[len(merged_dataset) - len(test_data) - 60:].values\n",
        "  new_model = new_model.reshape(-1, 1)\n",
        "  new_model = scaler.fit_transform(new_model)\n",
        "\n",
        "  return new_model\n",
        "\n",
        "test_model = create_test_model(merged_dataset)\n"
      ],
      "metadata": {
        "id": "mhmDTArfcH2p"
      },
      "execution_count": 98,
      "outputs": []
    },
    {
      "cell_type": "code",
      "source": [
        "def create_test_set(new_model):\n",
        "\n",
        "  x_test = []\n",
        "\n",
        "  for days in range(60, len(new_model)):\n",
        "    x_test.append(new_model[days-60: days, 0])\n",
        "\n",
        "  x_test = np.array(x_test)\n",
        "\n",
        "  return x_test\n",
        "\n",
        "x_test = create_test_set(test_model)"
      ],
      "metadata": {
        "id": "dof1zqgTFWTU"
      },
      "execution_count": 107,
      "outputs": []
    },
    {
      "cell_type": "code",
      "source": [
        "x_test_reshape = np.reshape(x_test, (x_test.shape[0], x_test.shape[1], 1))"
      ],
      "metadata": {
        "id": "mb-4Ok6qzxNI"
      },
      "execution_count": 108,
      "outputs": []
    },
    {
      "cell_type": "code",
      "source": [
        "predict = neural_network.predict(x_test_reshape)\n",
        "predict = scaler.inverse_transform(predict)"
      ],
      "metadata": {
        "id": "beAxKUFIG1Ds"
      },
      "execution_count": 109,
      "outputs": []
    },
    {
      "cell_type": "code",
      "source": [
        "\n",
        "plt.figure(figsize=(16,8))\n",
        "plt.plot(closing_prices, color='orange', label = 'Actual Prices')\n",
        "plt.plot(predict, color='yellow', label = 'Prediction')\n",
        "plt.title('Ethereum Price Prediction Model', fontsize=18)\n",
        "plt.xlabel('Days', fontsize=18)\n",
        "plt.ylabel('Price', fontsize=18)\n",
        "plt.legend(loc='upper right')\n",
        "\n",
        "plt.show()"
      ],
      "metadata": {
        "colab": {
          "base_uri": "https://localhost:8080/",
          "height": 557
        },
        "id": "z2MIW10IHk4F",
        "outputId": "7a77d8f9-d347-40ce-98f0-91e426c96088"
      },
      "execution_count": 110,
      "outputs": [
        {
          "output_type": "display_data",
          "data": {
            "text/plain": [
              "<Figure size 1152x576 with 1 Axes>"
            ],
            "image/png": "[encoded data removed]"
          },
          "metadata": {}
        }
      ]
    },
    {
      "cell_type": "code",
      "source": [
        "predict_df = pd.DataFrame(predict, columns=['Price'])\n",
        "predict_df.index.name = 'Days'\n",
        "             \n",
        "predict_df"
      ],
      "metadata": {
        "id": "Xy7RL04QhTeq",
        "outputId": "0daf968a-8576-4463-fd9c-773c2ac3b02e",
        "colab": {
          "base_uri": "https://localhost:8080/",
          "height": 455
        }
      },
      "execution_count": 111,
      "outputs": [
        {
          "output_type": "execute_result",
          "data": {
            "text/plain": [
              "            Price\n",
              "Days             \n",
              "0     1543.445190\n",
              "1     1502.576538\n",
              "2     1393.195679\n",
              "3     1227.396484\n",
              "4     1025.097656\n",
              "...           ...\n",
              "995   1455.425903\n",
              "996   1462.484863\n",
              "997   1479.029785\n",
              "998   1501.874390\n",
              "999   1524.743164\n",
              "\n",
              "[1000 rows x 1 columns]"
            ],
            "text/html": [
              "\n",
              "  <div id=\"df-da96b5e3-8f58-4f52-870e-75aef033f74b\">\n",
              "    <div class=\"colab-df-container\">\n",
              "      <div>\n",
              "<style scoped>\n",
              "    .dataframe tbody tr th:only-of-type {\n",
              "        vertical-align: middle;\n",
              "    }\n",
              "\n",
              "    .dataframe tbody tr th {\n",
              "        vertical-align: top;\n",
              "    }\n",
              "\n",
              "    .dataframe thead th {\n",
              "        text-align: right;\n",
              "    }\n",
              "</style>\n",
              "<table border=\"1\" class=\"dataframe\">\n",
              "  <thead>\n",
              "    <tr style=\"text-align: right;\">\n",
              "      <th></th>\n",
              "      <th>Price</th>\n",
              "    </tr>\n",
              "    <tr>\n",
              "      <th>Days</th>\n",
              "      <th></th>\n",
              "    </tr>\n",
              "  </thead>\n",
              "  <tbody>\n",
              "    <tr>\n",
              "      <th>0</th>\n",
              "      <td>1543.445190</td>\n",
              "    </tr>\n",
              "    <tr>\n",
              "      <th>1</th>\n",
              "      <td>1502.576538</td>\n",
              "    </tr>\n",
              "    <tr>\n",
              "      <th>2</th>\n",
              "      <td>1393.195679</td>\n",
              "    </tr>\n",
              "    <tr>\n",
              "      <th>3</th>\n",
              "      <td>1227.396484</td>\n",
              "    </tr>\n",
              "    <tr>\n",
              "      <th>4</th>\n",
              "      <td>1025.097656</td>\n",
              "    </tr>\n",
              "    <tr>\n",
              "      <th>...</th>\n",
              "      <td>...</td>\n",
              "    </tr>\n",
              "    <tr>\n",
              "      <th>995</th>\n",
              "      <td>1455.425903</td>\n",
              "    </tr>\n",
              "    <tr>\n",
              "      <th>996</th>\n",
              "      <td>1462.484863</td>\n",
              "    </tr>\n",
              "    <tr>\n",
              "      <th>997</th>\n",
              "      <td>1479.029785</td>\n",
              "    </tr>\n",
              "    <tr>\n",
              "      <th>998</th>\n",
              "      <td>1501.874390</td>\n",
              "    </tr>\n",
              "    <tr>\n",
              "      <th>999</th>\n",
              "      <td>1524.743164</td>\n",
              "    </tr>\n",
              "  </tbody>\n",
              "</table>\n",
              "<p>1000 rows × 1 columns</p>\n",
              "</div>\n",
              "      <button class=\"colab-df-convert\" onclick=\"convertToInteractive('df-da96b5e3-8f58-4f52-870e-75aef033f74b')\"\n",
              "              title=\"Convert this dataframe to an interactive table.\"\n",
              "              style=\"display:none;\">\n",
              "        \n",
              "  <svg xmlns=\"http://www.w3.org/2000/svg\" height=\"24px\"viewBox=\"0 0 24 24\"\n",
              "       width=\"24px\">\n",
              "    <path d=\"M0 0h24v24H0V0z\" fill=\"none\"/>\n",
              "    <path d=\"M18.56 5.44l.94 2.06.94-2.06 2.06-.94-2.06-.94-.94-2.06-.94 2.06-2.06.94zm-11 1L8.5 8.5l.94-2.06 2.06-.94-2.06-.94L8.5 2.5l-.94 2.06-2.06.94zm10 10l.94 2.06.94-2.06 2.06-.94-2.06-.94-.94-2.06-.94 2.06-2.06.94z\"/><path d=\"M17.41 7.96l-1.37-1.37c-.4-.4-.92-.59-1.43-.59-.52 0-1.04.2-1.43.59L10.3 9.45l-7.72 7.72c-.78.78-.78 2.05 0 2.83L4 21.41c.39.39.9.59 1.41.59.51 0 1.02-.2 1.41-.59l7.78-7.78 2.81-2.81c.8-.78.8-2.07 0-2.86zM5.41 20L4 18.59l7.72-7.72 1.47 1.35L5.41 20z\"/>\n",
              "  </svg>\n",
              "      </button>\n",
              "      \n",
              "  <style>\n",
              "    .colab-df-container {\n",
              "      display:flex;\n",
              "      flex-wrap:wrap;\n",
              "      gap: 12px;\n",
              "    }\n",
              "\n",
              "    .colab-df-convert {\n",
              "      background-color: #E8F0FE;\n",
              "      border: none;\n",
              "      border-radius: 50%;\n",
              "      cursor: pointer;\n",
              "      display: none;\n",
              "      fill: #1967D2;\n",
              "      height: 32px;\n",
              "      padding: 0 0 0 0;\n",
              "      width: 32px;\n",
              "    }\n",
              "\n",
              "    .colab-df-convert:hover {\n",
              "      background-color: #E2EBFA;\n",
              "      box-shadow: 0px 1px 2px rgba(60, 64, 67, 0.3), 0px 1px 3px 1px rgba(60, 64, 67, 0.15);\n",
              "      fill: #174EA6;\n",
              "    }\n",
              "\n",
              "    [theme=dark] .colab-df-convert {\n",
              "      background-color: #3B4455;\n",
              "      fill: #D2E3FC;\n",
              "    }\n",
              "\n",
              "    [theme=dark] .colab-df-convert:hover {\n",
              "      background-color: #434B5C;\n",
              "      box-shadow: 0px 1px 3px 1px rgba(0, 0, 0, 0.15);\n",
              "      filter: drop-shadow(0px 1px 2px rgba(0, 0, 0, 0.3));\n",
              "      fill: #FFFFFF;\n",
              "    }\n",
              "  </style>\n",
              "\n",
              "      <script>\n",
              "        const buttonEl =\n",
              "          document.querySelector('#df-da96b5e3-8f58-4f52-870e-75aef033f74b button.colab-df-convert');\n",
              "        buttonEl.style.display =\n",
              "          google.colab.kernel.accessAllowed ? 'block' : 'none';\n",
              "\n",
              "        async function convertToInteractive(key) {\n",
              "          const element = document.querySelector('#df-da96b5e3-8f58-4f52-870e-75aef033f74b');\n",
              "          const dataTable =\n",
              "            await google.colab.kernel.invokeFunction('convertToInteractive',\n",
              "                                                     [key], {});\n",
              "          if (!dataTable) return;\n",
              "\n",
              "          const docLinkHtml = 'Like what you see? Visit the ' +\n",
              "            '<a target=\"_blank\" href=https://colab.research.google.com/notebooks/data_table.ipynb>data table notebook</a>'\n",
              "            + ' to learn more about interactive tables.';\n",
              "          element.innerHTML = '';\n",
              "          dataTable['output_type'] = 'display_data';\n",
              "          await google.colab.output.renderOutput(dataTable, element);\n",
              "          const docLink = document.createElement('div');\n",
              "          docLink.innerHTML = docLinkHtml;\n",
              "          element.appendChild(docLink);\n",
              "        }\n",
              "      </script>\n",
              "    </div>\n",
              "  </div>\n",
              "  "
            ]
          },
          "metadata": {},
          "execution_count": 111
        }
      ]
    },
    {
      "cell_type": "code",
      "source": [
        "past_days = eth_df[-60:].values\n",
        "pred_scaled_data = scaler.transform(past_days)\n",
        "\n",
        "pred_x_test = []\n",
        "pred_x_test.append(pred_scaled_data)\n",
        "pred_x_test = np.array(pred_x_test)\n",
        "pred_x_test = np.reshape(pred_x_test, (pred_x_test.shape[0], pred_x_test.shape[1], 1))\n",
        "\n",
        "forecast = neural_network.predict(pred_x_test)\n",
        "forecast = scaler.inverse_transform(forecast)\n",
        "forecast"
      ],
      "metadata": {
        "id": "LE-XAtk_vPun",
        "outputId": "a0154e1c-94c9-42ee-d2fe-d2cd4b9e7868",
        "colab": {
          "base_uri": "https://localhost:8080/"
        }
      },
      "execution_count": 127,
      "outputs": [
        {
          "output_type": "execute_result",
          "data": {
            "text/plain": [
              "array([[1543.4451]], dtype=float32)"
            ]
          },
          "metadata": {},
          "execution_count": 127
        }
      ]
    }
  ]
}