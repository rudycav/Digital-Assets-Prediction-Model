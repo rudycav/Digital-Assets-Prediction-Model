{
  "nbformat": 4,
  "nbformat_minor": 0,
  "metadata": {
    "colab": {
      "name": "Crypto_forecast_model.ipynb",
      "provenance": [],
      "authorship_tag": "ABX9TyM+WZPh4ma/judC51L++FDK",
      "include_colab_link": true
    },
    "kernelspec": {
      "name": "python3",
      "display_name": "Python 3"
    },
    "language_info": {
      "name": "python"
    }
  },
  "cells": [
    {
      "cell_type": "markdown",
      "metadata": {
        "id": "view-in-github",
        "colab_type": "text"
      },
      "source": [
        "<a href=\"https://colab.research.google.com/github/rudycav/Digital-Assets-Prediction-Model/blob/main/Project/%20Crypto_forecast_model.ipynb\" target=\"_parent\"><img src=\"https://colab.research.google.com/assets/colab-badge.svg\" alt=\"Open In Colab\"/></a>"
      ]
    },
    {
      "cell_type": "code",
      "execution_count": 157,
      "metadata": {
        "id": "1wtfXUYtpAhS"
      },
      "outputs": [],
      "source": [
        "import numpy as np\n",
        "import math\n",
        "import tensorflow\n",
        "import requests\n",
        "import pandas as pd\n",
        "import matplotlib.pylab as plt\n",
        "from datetime import datetime\n",
        "from datetime import datetime, timedelta\n",
        "plt.style.use('fivethirtyeight')\n",
        "from tensorflow.keras.layers import Dense, Dropout, LSTM\n",
        "from tensorflow.keras.models import Sequential\n",
        "from sklearn.preprocessing import MinMaxScaler\n",
        "from sklearn.model_selection import train_test_split\n",
        "from sklearn import datasets\n",
        "from sklearn.neighbors import KNeighborsClassifier\n",
        "from sklearn import metrics\n",
        "from sklearn.svm import SVC\n",
        "from sklearn import svm\n",
        "from sklearn.linear_model import LinearRegression\n",
        "from sklearn.model_selection import GridSearchCV\n",
        "from sklearn.model_selection import RandomizedSearchCV\n",
        "from sklearn.model_selection import cross_val_score\n",
        "from sklearn.model_selection import StratifiedKFold\n",
        "from imblearn.under_sampling import RandomUnderSampler\n",
        "from scipy.stats import sem"
      ]
    },
    {
      "cell_type": "code",
      "source": [
        "def get_crypto_price(symbol, exchange, start_date = None):\n",
        "    api_key = ' E7KN41UXPEIKWXIK'\n",
        "    api_url = f'https://www.alphavantage.co/query?function=DIGITAL_CURRENCY_DAILY&symbol={symbol}&market={exchange}&apikey={api_key}'\n",
        "    raw_df = requests.get(api_url).json()\n",
        "    df = pd.DataFrame(raw_df['Time Series (Digital Currency Daily)']).T\n",
        "    df = df.rename(columns = {'1a. open (USD)': 'open', '2a. high (USD)': 'high', '3a. low (USD)': 'low', '4a. close (USD)': 'close', '5. volume': 'volume'})\n",
        "    df.index.names = ['Date']\n",
        " \n",
        "\n",
        "    for i in df.columns:\n",
        "        df[i] = df[i].astype(float)\n",
        "    df.index = pd.to_datetime(df.index)\n",
        "    df = df.iloc[::-1].drop(['1b. open (USD)', '2b. high (USD)', '3b. low (USD)', '4b. close (USD)', '6. market cap (USD)'], axis = 1)\n",
        "\n",
        "    if start_date:\n",
        "        df = df[df.index >= start_date]\n",
        "    return df\n",
        "\n",
        "crypto_df = get_crypto_price(symbol = 'ETH', exchange = 'USD', start_date = '2022-04-01')\n",
        "crypto_df.head()"
      ],
      "metadata": {
        "colab": {
          "base_uri": "https://localhost:8080/",
          "height": 238
        },
        "id": "g0Ku2ab-pG2U",
        "outputId": "17d30e69-d3ce-48c9-84e9-a8b6c5cafb67"
      },
      "execution_count": 158,
      "outputs": [
        {
          "output_type": "execute_result",
          "data": {
            "text/plain": [
              "               open     high      low    close       volume\n",
              "Date                                                       \n",
              "2022-04-01  3281.51  3481.29  3210.68  3455.21  532169.2392\n",
              "2022-04-02  3455.20  3532.20  3433.14  3443.77  499893.2900\n",
              "2022-04-03  3443.77  3580.34  3412.11  3521.91  381581.7683\n",
              "2022-04-04  3521.90  3547.00  3405.97  3519.50  449984.1586\n",
              "2022-04-05  3519.50  3555.00  3400.00  3406.99  397782.7437"
            ],
            "text/html": [
              "\n",
              "  <div id=\"df-b8312d18-e68e-45e0-ae43-ddc7ce0e863d\">\n",
              "    <div class=\"colab-df-container\">\n",
              "      <div>\n",
              "<style scoped>\n",
              "    .dataframe tbody tr th:only-of-type {\n",
              "        vertical-align: middle;\n",
              "    }\n",
              "\n",
              "    .dataframe tbody tr th {\n",
              "        vertical-align: top;\n",
              "    }\n",
              "\n",
              "    .dataframe thead th {\n",
              "        text-align: right;\n",
              "    }\n",
              "</style>\n",
              "<table border=\"1\" class=\"dataframe\">\n",
              "  <thead>\n",
              "    <tr style=\"text-align: right;\">\n",
              "      <th></th>\n",
              "      <th>open</th>\n",
              "      <th>high</th>\n",
              "      <th>low</th>\n",
              "      <th>close</th>\n",
              "      <th>volume</th>\n",
              "    </tr>\n",
              "    <tr>\n",
              "      <th>Date</th>\n",
              "      <th></th>\n",
              "      <th></th>\n",
              "      <th></th>\n",
              "      <th></th>\n",
              "      <th></th>\n",
              "    </tr>\n",
              "  </thead>\n",
              "  <tbody>\n",
              "    <tr>\n",
              "      <th>2022-04-01</th>\n",
              "      <td>3281.51</td>\n",
              "      <td>3481.29</td>\n",
              "      <td>3210.68</td>\n",
              "      <td>3455.21</td>\n",
              "      <td>532169.2392</td>\n",
              "    </tr>\n",
              "    <tr>\n",
              "      <th>2022-04-02</th>\n",
              "      <td>3455.20</td>\n",
              "      <td>3532.20</td>\n",
              "      <td>3433.14</td>\n",
              "      <td>3443.77</td>\n",
              "      <td>499893.2900</td>\n",
              "    </tr>\n",
              "    <tr>\n",
              "      <th>2022-04-03</th>\n",
              "      <td>3443.77</td>\n",
              "      <td>3580.34</td>\n",
              "      <td>3412.11</td>\n",
              "      <td>3521.91</td>\n",
              "      <td>381581.7683</td>\n",
              "    </tr>\n",
              "    <tr>\n",
              "      <th>2022-04-04</th>\n",
              "      <td>3521.90</td>\n",
              "      <td>3547.00</td>\n",
              "      <td>3405.97</td>\n",
              "      <td>3519.50</td>\n",
              "      <td>449984.1586</td>\n",
              "    </tr>\n",
              "    <tr>\n",
              "      <th>2022-04-05</th>\n",
              "      <td>3519.50</td>\n",
              "      <td>3555.00</td>\n",
              "      <td>3400.00</td>\n",
              "      <td>3406.99</td>\n",
              "      <td>397782.7437</td>\n",
              "    </tr>\n",
              "  </tbody>\n",
              "</table>\n",
              "</div>\n",
              "      <button class=\"colab-df-convert\" onclick=\"convertToInteractive('df-b8312d18-e68e-45e0-ae43-ddc7ce0e863d')\"\n",
              "              title=\"Convert this dataframe to an interactive table.\"\n",
              "              style=\"display:none;\">\n",
              "        \n",
              "  <svg xmlns=\"http://www.w3.org/2000/svg\" height=\"24px\"viewBox=\"0 0 24 24\"\n",
              "       width=\"24px\">\n",
              "    <path d=\"M0 0h24v24H0V0z\" fill=\"none\"/>\n",
              "    <path d=\"M18.56 5.44l.94 2.06.94-2.06 2.06-.94-2.06-.94-.94-2.06-.94 2.06-2.06.94zm-11 1L8.5 8.5l.94-2.06 2.06-.94-2.06-.94L8.5 2.5l-.94 2.06-2.06.94zm10 10l.94 2.06.94-2.06 2.06-.94-2.06-.94-.94-2.06-.94 2.06-2.06.94z\"/><path d=\"M17.41 7.96l-1.37-1.37c-.4-.4-.92-.59-1.43-.59-.52 0-1.04.2-1.43.59L10.3 9.45l-7.72 7.72c-.78.78-.78 2.05 0 2.83L4 21.41c.39.39.9.59 1.41.59.51 0 1.02-.2 1.41-.59l7.78-7.78 2.81-2.81c.8-.78.8-2.07 0-2.86zM5.41 20L4 18.59l7.72-7.72 1.47 1.35L5.41 20z\"/>\n",
              "  </svg>\n",
              "      </button>\n",
              "      \n",
              "  <style>\n",
              "    .colab-df-container {\n",
              "      display:flex;\n",
              "      flex-wrap:wrap;\n",
              "      gap: 12px;\n",
              "    }\n",
              "\n",
              "    .colab-df-convert {\n",
              "      background-color: #E8F0FE;\n",
              "      border: none;\n",
              "      border-radius: 50%;\n",
              "      cursor: pointer;\n",
              "      display: none;\n",
              "      fill: #1967D2;\n",
              "      height: 32px;\n",
              "      padding: 0 0 0 0;\n",
              "      width: 32px;\n",
              "    }\n",
              "\n",
              "    .colab-df-convert:hover {\n",
              "      background-color: #E2EBFA;\n",
              "      box-shadow: 0px 1px 2px rgba(60, 64, 67, 0.3), 0px 1px 3px 1px rgba(60, 64, 67, 0.15);\n",
              "      fill: #174EA6;\n",
              "    }\n",
              "\n",
              "    [theme=dark] .colab-df-convert {\n",
              "      background-color: #3B4455;\n",
              "      fill: #D2E3FC;\n",
              "    }\n",
              "\n",
              "    [theme=dark] .colab-df-convert:hover {\n",
              "      background-color: #434B5C;\n",
              "      box-shadow: 0px 1px 3px 1px rgba(0, 0, 0, 0.15);\n",
              "      filter: drop-shadow(0px 1px 2px rgba(0, 0, 0, 0.3));\n",
              "      fill: #FFFFFF;\n",
              "    }\n",
              "  </style>\n",
              "\n",
              "      <script>\n",
              "        const buttonEl =\n",
              "          document.querySelector('#df-b8312d18-e68e-45e0-ae43-ddc7ce0e863d button.colab-df-convert');\n",
              "        buttonEl.style.display =\n",
              "          google.colab.kernel.accessAllowed ? 'block' : 'none';\n",
              "\n",
              "        async function convertToInteractive(key) {\n",
              "          const element = document.querySelector('#df-b8312d18-e68e-45e0-ae43-ddc7ce0e863d');\n",
              "          const dataTable =\n",
              "            await google.colab.kernel.invokeFunction('convertToInteractive',\n",
              "                                                     [key], {});\n",
              "          if (!dataTable) return;\n",
              "\n",
              "          const docLinkHtml = 'Like what you see? Visit the ' +\n",
              "            '<a target=\"_blank\" href=https://colab.research.google.com/notebooks/data_table.ipynb>data table notebook</a>'\n",
              "            + ' to learn more about interactive tables.';\n",
              "          element.innerHTML = '';\n",
              "          dataTable['output_type'] = 'display_data';\n",
              "          await google.colab.output.renderOutput(dataTable, element);\n",
              "          const docLink = document.createElement('div');\n",
              "          docLink.innerHTML = docLinkHtml;\n",
              "          element.appendChild(docLink);\n",
              "        }\n",
              "      </script>\n",
              "    </div>\n",
              "  </div>\n",
              "  "
            ]
          },
          "metadata": {},
          "execution_count": 158
        }
      ]
    },
    {
      "cell_type": "code",
      "source": [
        "forecast_days = 30\n",
        "# Model appears to be effective using data from around 105 days back\n",
        "\n",
        "def create_prediction_column(df):\n",
        "  crypto_df['forecast'] = crypto_df[['close']].shift(-forecast_days)\n",
        "\n",
        "  return crypto_df\n",
        "\n",
        "prediction_column = create_prediction_column(crypto_df)\n",
        "prediction_column.tail()"
      ],
      "metadata": {
        "colab": {
          "base_uri": "https://localhost:8080/",
          "height": 238
        },
        "id": "7F27gVJ3pMPD",
        "outputId": "44b4edf8-c558-45bb-cb8e-79ab9d49b826"
      },
      "execution_count": 159,
      "outputs": [
        {
          "output_type": "execute_result",
          "data": {
            "text/plain": [
              "               open     high      low    close        volume  forecast\n",
              "Date                                                                  \n",
              "2022-07-08  1237.49  1276.46  1193.15  1214.04  1.189518e+06       NaN\n",
              "2022-07-09  1214.03  1235.40  1204.67  1217.02  5.763372e+05       NaN\n",
              "2022-07-10  1217.02  1219.95  1153.00  1168.36  1.018039e+06       NaN\n",
              "2022-07-11  1168.37  1171.29  1091.71  1096.40  1.201652e+06       NaN\n",
              "2022-07-12  1096.37  1098.26  1086.66  1089.52  3.767182e+04       NaN"
            ],
            "text/html": [
              "\n",
              "  <div id=\"df-865fdbc4-9444-4b90-8fb5-e830044472cf\">\n",
              "    <div class=\"colab-df-container\">\n",
              "      <div>\n",
              "<style scoped>\n",
              "    .dataframe tbody tr th:only-of-type {\n",
              "        vertical-align: middle;\n",
              "    }\n",
              "\n",
              "    .dataframe tbody tr th {\n",
              "        vertical-align: top;\n",
              "    }\n",
              "\n",
              "    .dataframe thead th {\n",
              "        text-align: right;\n",
              "    }\n",
              "</style>\n",
              "<table border=\"1\" class=\"dataframe\">\n",
              "  <thead>\n",
              "    <tr style=\"text-align: right;\">\n",
              "      <th></th>\n",
              "      <th>open</th>\n",
              "      <th>high</th>\n",
              "      <th>low</th>\n",
              "      <th>close</th>\n",
              "      <th>volume</th>\n",
              "      <th>forecast</th>\n",
              "    </tr>\n",
              "    <tr>\n",
              "      <th>Date</th>\n",
              "      <th></th>\n",
              "      <th></th>\n",
              "      <th></th>\n",
              "      <th></th>\n",
              "      <th></th>\n",
              "      <th></th>\n",
              "    </tr>\n",
              "  </thead>\n",
              "  <tbody>\n",
              "    <tr>\n",
              "      <th>2022-07-08</th>\n",
              "      <td>1237.49</td>\n",
              "      <td>1276.46</td>\n",
              "      <td>1193.15</td>\n",
              "      <td>1214.04</td>\n",
              "      <td>1.189518e+06</td>\n",
              "      <td>NaN</td>\n",
              "    </tr>\n",
              "    <tr>\n",
              "      <th>2022-07-09</th>\n",
              "      <td>1214.03</td>\n",
              "      <td>1235.40</td>\n",
              "      <td>1204.67</td>\n",
              "      <td>1217.02</td>\n",
              "      <td>5.763372e+05</td>\n",
              "      <td>NaN</td>\n",
              "    </tr>\n",
              "    <tr>\n",
              "      <th>2022-07-10</th>\n",
              "      <td>1217.02</td>\n",
              "      <td>1219.95</td>\n",
              "      <td>1153.00</td>\n",
              "      <td>1168.36</td>\n",
              "      <td>1.018039e+06</td>\n",
              "      <td>NaN</td>\n",
              "    </tr>\n",
              "    <tr>\n",
              "      <th>2022-07-11</th>\n",
              "      <td>1168.37</td>\n",
              "      <td>1171.29</td>\n",
              "      <td>1091.71</td>\n",
              "      <td>1096.40</td>\n",
              "      <td>1.201652e+06</td>\n",
              "      <td>NaN</td>\n",
              "    </tr>\n",
              "    <tr>\n",
              "      <th>2022-07-12</th>\n",
              "      <td>1096.37</td>\n",
              "      <td>1098.26</td>\n",
              "      <td>1086.66</td>\n",
              "      <td>1089.52</td>\n",
              "      <td>3.767182e+04</td>\n",
              "      <td>NaN</td>\n",
              "    </tr>\n",
              "  </tbody>\n",
              "</table>\n",
              "</div>\n",
              "      <button class=\"colab-df-convert\" onclick=\"convertToInteractive('df-865fdbc4-9444-4b90-8fb5-e830044472cf')\"\n",
              "              title=\"Convert this dataframe to an interactive table.\"\n",
              "              style=\"display:none;\">\n",
              "        \n",
              "  <svg xmlns=\"http://www.w3.org/2000/svg\" height=\"24px\"viewBox=\"0 0 24 24\"\n",
              "       width=\"24px\">\n",
              "    <path d=\"M0 0h24v24H0V0z\" fill=\"none\"/>\n",
              "    <path d=\"M18.56 5.44l.94 2.06.94-2.06 2.06-.94-2.06-.94-.94-2.06-.94 2.06-2.06.94zm-11 1L8.5 8.5l.94-2.06 2.06-.94-2.06-.94L8.5 2.5l-.94 2.06-2.06.94zm10 10l.94 2.06.94-2.06 2.06-.94-2.06-.94-.94-2.06-.94 2.06-2.06.94z\"/><path d=\"M17.41 7.96l-1.37-1.37c-.4-.4-.92-.59-1.43-.59-.52 0-1.04.2-1.43.59L10.3 9.45l-7.72 7.72c-.78.78-.78 2.05 0 2.83L4 21.41c.39.39.9.59 1.41.59.51 0 1.02-.2 1.41-.59l7.78-7.78 2.81-2.81c.8-.78.8-2.07 0-2.86zM5.41 20L4 18.59l7.72-7.72 1.47 1.35L5.41 20z\"/>\n",
              "  </svg>\n",
              "      </button>\n",
              "      \n",
              "  <style>\n",
              "    .colab-df-container {\n",
              "      display:flex;\n",
              "      flex-wrap:wrap;\n",
              "      gap: 12px;\n",
              "    }\n",
              "\n",
              "    .colab-df-convert {\n",
              "      background-color: #E8F0FE;\n",
              "      border: none;\n",
              "      border-radius: 50%;\n",
              "      cursor: pointer;\n",
              "      display: none;\n",
              "      fill: #1967D2;\n",
              "      height: 32px;\n",
              "      padding: 0 0 0 0;\n",
              "      width: 32px;\n",
              "    }\n",
              "\n",
              "    .colab-df-convert:hover {\n",
              "      background-color: #E2EBFA;\n",
              "      box-shadow: 0px 1px 2px rgba(60, 64, 67, 0.3), 0px 1px 3px 1px rgba(60, 64, 67, 0.15);\n",
              "      fill: #174EA6;\n",
              "    }\n",
              "\n",
              "    [theme=dark] .colab-df-convert {\n",
              "      background-color: #3B4455;\n",
              "      fill: #D2E3FC;\n",
              "    }\n",
              "\n",
              "    [theme=dark] .colab-df-convert:hover {\n",
              "      background-color: #434B5C;\n",
              "      box-shadow: 0px 1px 3px 1px rgba(0, 0, 0, 0.15);\n",
              "      filter: drop-shadow(0px 1px 2px rgba(0, 0, 0, 0.3));\n",
              "      fill: #FFFFFF;\n",
              "    }\n",
              "  </style>\n",
              "\n",
              "      <script>\n",
              "        const buttonEl =\n",
              "          document.querySelector('#df-865fdbc4-9444-4b90-8fb5-e830044472cf button.colab-df-convert');\n",
              "        buttonEl.style.display =\n",
              "          google.colab.kernel.accessAllowed ? 'block' : 'none';\n",
              "\n",
              "        async function convertToInteractive(key) {\n",
              "          const element = document.querySelector('#df-865fdbc4-9444-4b90-8fb5-e830044472cf');\n",
              "          const dataTable =\n",
              "            await google.colab.kernel.invokeFunction('convertToInteractive',\n",
              "                                                     [key], {});\n",
              "          if (!dataTable) return;\n",
              "\n",
              "          const docLinkHtml = 'Like what you see? Visit the ' +\n",
              "            '<a target=\"_blank\" href=https://colab.research.google.com/notebooks/data_table.ipynb>data table notebook</a>'\n",
              "            + ' to learn more about interactive tables.';\n",
              "          element.innerHTML = '';\n",
              "          dataTable['output_type'] = 'display_data';\n",
              "          await google.colab.output.renderOutput(dataTable, element);\n",
              "          const docLink = document.createElement('div');\n",
              "          docLink.innerHTML = docLinkHtml;\n",
              "          element.appendChild(docLink);\n",
              "        }\n",
              "      </script>\n",
              "    </div>\n",
              "  </div>\n",
              "  "
            ]
          },
          "metadata": {},
          "execution_count": 159
        }
      ]
    },
    {
      "cell_type": "code",
      "source": [
        "def smooth_data(data, alpha):\n",
        "\n",
        "    return data.ewm(alpha=alpha).mean()\n",
        "\n",
        "expo_smooth = smooth_data(prediction_column, 0.65)\n"
      ],
      "metadata": {
        "id": "4H3XOZKhpu24"
      },
      "execution_count": 160,
      "outputs": []
    },
    {
      "cell_type": "code",
      "source": [
        "def independent_dataset(df):\n",
        "  X = np.array(prediction_column.close)\n",
        "  X = X[:-forecast_days]\n",
        "\n",
        "  return X\n",
        "\n",
        "x_dataset = independent_dataset(expo_smooth)"
      ],
      "metadata": {
        "id": "WE9Ly12aqN7t"
      },
      "execution_count": 161,
      "outputs": []
    },
    {
      "cell_type": "code",
      "source": [
        "x_dataset.shape"
      ],
      "metadata": {
        "id": "wADRq_jdyFaR",
        "outputId": "0106bf43-9108-447c-eb5e-5c09ca9c39bb",
        "colab": {
          "base_uri": "https://localhost:8080/"
        }
      },
      "execution_count": 162,
      "outputs": [
        {
          "output_type": "execute_result",
          "data": {
            "text/plain": [
              "(73,)"
            ]
          },
          "metadata": {},
          "execution_count": 162
        }
      ]
    },
    {
      "cell_type": "code",
      "source": [
        "def dependent_dataset(df):\n",
        "  y = prediction_column.forecast.values\n",
        "  y = y[:-forecast_days]\n",
        "\n",
        "  return y\n",
        "\n",
        "y_dataset = dependent_dataset(expo_smooth)"
      ],
      "metadata": {
        "id": "VbksKxUTq_nj"
      },
      "execution_count": 163,
      "outputs": []
    },
    {
      "cell_type": "code",
      "source": [
        "y_dataset.shape"
      ],
      "metadata": {
        "id": "f21n0ktSyHcZ",
        "outputId": "33ff5a72-ee84-4d8b-9f1a-eff43ebd249c",
        "colab": {
          "base_uri": "https://localhost:8080/"
        }
      },
      "execution_count": 164,
      "outputs": [
        {
          "output_type": "execute_result",
          "data": {
            "text/plain": [
              "(73,)"
            ]
          },
          "metadata": {},
          "execution_count": 164
        }
      ]
    },
    {
      "cell_type": "code",
      "source": [
        "def split_data(X_data, y_data, test_size):\n",
        "  X_train, X_test, y_train, y_test = train_test_split(x_dataset, y_dataset, test_size = 0.3)\n",
        "\n",
        "  return X_train.reshape(-1, 1), X_test.reshape(-1, 1), y_train, y_test\n",
        "\n",
        "X_train, X_test, y_train, y_test = split_data(x_dataset, y_dataset, test_size=0.3)"
      ],
      "metadata": {
        "id": "o1a3t0ukrb6T"
      },
      "execution_count": 165,
      "outputs": []
    },
    {
      "cell_type": "code",
      "source": [
        "X_train.shape, X_test.shape, y_train.shape, y_test.shape"
      ],
      "metadata": {
        "id": "oC8Slwxmx-3y",
        "outputId": "cd45ce10-3748-4dc1-97ec-33f8e7a0f015",
        "colab": {
          "base_uri": "https://localhost:8080/"
        }
      },
      "execution_count": 166,
      "outputs": [
        {
          "output_type": "execute_result",
          "data": {
            "text/plain": [
              "((51, 1), (22, 1), (51,), (22,))"
            ]
          },
          "metadata": {},
          "execution_count": 166
        }
      ]
    },
    {
      "cell_type": "code",
      "source": [
        "def regression_model(X_train, y_train, X_test, y_test):\n",
        "  lin_reg_model = LinearRegression()\n",
        "  lin_reg_model.fit(X_train, y_train)\n",
        "\n",
        "  score_acc = lin_reg_model.score(X_test, y_test)\n",
        "  score_acc = round(score_acc,2)\n",
        "  score_acc\n",
        "\n",
        "  return lin_reg_model, score_acc\n",
        "\n",
        "linear_regression_model, accuracy_score = regression_model(X_train, y_train, X_test, y_test)"
      ],
      "metadata": {
        "id": "6vh5ASc9ulvF"
      },
      "execution_count": 167,
      "outputs": []
    },
    {
      "cell_type": "code",
      "source": [
        "print(f'Model accuracy score: {accuracy_score}')"
      ],
      "metadata": {
        "id": "5CsGnlsjxWzq",
        "outputId": "c32d9ff2-7e50-4212-f27f-dd48c2184283",
        "colab": {
          "base_uri": "https://localhost:8080/"
        }
      },
      "execution_count": 168,
      "outputs": [
        {
          "output_type": "stream",
          "name": "stdout",
          "text": [
            "Model accuracy score: 0.92\n"
          ]
        }
      ]
    },
    {
      "cell_type": "code",
      "source": [
        "actual_price = np.array(crypto_df[['close']])[-forecast_days:]\n",
        "forecast_prediction = linear_regression_model.predict(actual_price)\n",
        "forecast_prediction"
      ],
      "metadata": {
        "colab": {
          "base_uri": "https://localhost:8080/"
        },
        "id": "kr0HSHAYxmQF",
        "outputId": "c952d87f-4cd4-4afb-a76e-768d8d19fcf9"
      },
      "execution_count": 169,
      "outputs": [
        {
          "output_type": "execute_result",
          "data": {
            "text/plain": [
              "array([611.07901342, 610.30063124, 634.51508541, 491.51274288,\n",
              "       507.11422907, 429.43676446, 542.30217976, 542.05682016,\n",
              "       540.03471864, 476.02124547, 556.0000139 , 623.93924065,\n",
              "       638.6100525 , 600.90082042, 596.43358359, 555.43314862,\n",
              "       518.34154587, 493.63637251, 484.09273019, 490.25210218,\n",
              "       496.38609214, 561.31331831, 545.66106806, 591.40794216,\n",
              "       634.48970338, 614.64941861, 617.1707    , 576.00105151,\n",
              "       515.11802839, 509.29708343])"
            ]
          },
          "metadata": {},
          "execution_count": 169
        }
      ]
    },
    {
      "cell_type": "code",
      "source": [
        "def get_future_dates(datetime):\n",
        "  future_dates = []\n",
        "\n",
        "  datetime = datetime\n",
        "\n",
        "  for i in range(forecast_days): \n",
        "    datetime += timedelta(days=1)\n",
        "    future_dates.append(datetime.strftime('%Y-%m-%d'))\n",
        "\n",
        "  return future_dates\n",
        "\n",
        "future_dates = get_future_dates(datetime.now())"
      ],
      "metadata": {
        "id": "7YW-MbUWPuSe"
      },
      "execution_count": 170,
      "outputs": []
    },
    {
      "cell_type": "code",
      "source": [
        "def datetime_index(forecast_df, crypto_df):\n",
        "\n",
        "  forecast_df = pd.DataFrame(forecast_prediction, columns=['forecast'])\n",
        "  forecast_df['Date'] = future_dates\n",
        "  forecast_df.set_index('Date', inplace=True)\n",
        "  forecast_df.index = pd.to_datetime(forecast_df.index)\n",
        "  crypto_df.index = pd.to_datetime(crypto_df.index)\n",
        "\n",
        "  return forecast_df, crypto_df\n",
        "\n",
        "forecast_df, crypto_df = datetime_index(forecast_df, crypto_df)"
      ],
      "metadata": {
        "id": "qltcKzv60_6P"
      },
      "execution_count": 171,
      "outputs": []
    },
    {
      "cell_type": "code",
      "source": [
        "print(forecast_df.head())"
      ],
      "metadata": {
        "id": "tA9oYU45yNXR",
        "outputId": "607c9bdc-5a95-4789-d593-a9dfc4f074bb",
        "colab": {
          "base_uri": "https://localhost:8080/"
        }
      },
      "execution_count": 172,
      "outputs": [
        {
          "output_type": "stream",
          "name": "stdout",
          "text": [
            "              forecast\n",
            "Date                  \n",
            "2022-07-13  611.079013\n",
            "2022-07-14  610.300631\n",
            "2022-07-15  634.515085\n",
            "2022-07-16  491.512743\n",
            "2022-07-17  507.114229\n"
          ]
        }
      ]
    },
    {
      "cell_type": "code",
      "source": [
        "import matplotlib.dates as mdates\n",
        "\n",
        "def plot_model():\n",
        "  plt.figure(figsize=(16,8))\n",
        "  plt.plot(forecast_df.forecast, color='orange', label = f'Prediction {score_acc}%')\n",
        "  plt.plot(crypto_df.close, color='cornflowerblue', label = 'Actual Prices')\n",
        "  plt.title(f'Cryptocurrency Price Prediction Model', fontsize=18)\n",
        "  plt.xlabel(f' Predicting {forecast_days} Days', fontsize=15)\n",
        "  plt.ylabel('Price', fontsize=18)\n",
        "  plt.legend(loc='upper right')\n",
        "  plt.gcf().autofmt_xdate()\n",
        "\n",
        "  plt.show()\n",
        "\n",
        "  return plt\n",
        "\n",
        "plot_model()"
      ],
      "metadata": {
        "colab": {
          "base_uri": "https://localhost:8080/",
          "height": 535
        },
        "id": "gmJIx3o_2VrX",
        "outputId": "8048e50d-95c1-4a14-e682-f0708b0855df"
      },
      "execution_count": 173,
      "outputs": [
        {
          "output_type": "display_data",
          "data": {
            "text/plain": [
              "<Figure size 1152x576 with 1 Axes>"
            ],
            "image/png": "[encoded data removed]"
          },
          "metadata": {}
        },
        {
          "output_type": "execute_result",
          "data": {
            "text/plain": [
              "<module 'matplotlib.pylab' from '/usr/local/lib/python3.7/dist-packages/matplotlib/pylab.py'>"
            ]
          },
          "metadata": {},
          "execution_count": 173
        }
      ]
    }
  ]
}