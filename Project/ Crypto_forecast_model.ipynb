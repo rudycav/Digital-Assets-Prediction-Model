{
  "nbformat": 4,
  "nbformat_minor": 0,
  "metadata": {
    "colab": {
      "name": "Crypto_forecast_model.ipynb",
      "provenance": [],
      "authorship_tag": "ABX9TyPeVczPakXrN/SrqHbnseuT",
      "include_colab_link": true
    },
    "kernelspec": {
      "name": "python3",
      "display_name": "Python 3"
    },
    "language_info": {
      "name": "python"
    }
  },
  "cells": [
    {
      "cell_type": "markdown",
      "metadata": {
        "id": "view-in-github",
        "colab_type": "text"
      },
      "source": [
        "<a href=\"https://colab.research.google.com/github/rudycav/Digital-Assets-Prediction-Model/blob/main/Project/%20Crypto_forecast_model.ipynb\" target=\"_parent\"><img src=\"https://colab.research.google.com/assets/colab-badge.svg\" alt=\"Open In Colab\"/></a>"
      ]
    },
    {
      "cell_type": "code",
      "execution_count": 185,
      "metadata": {
        "id": "1wtfXUYtpAhS"
      },
      "outputs": [],
      "source": [
        "import numpy as np\n",
        "import math\n",
        "import requests\n",
        "import pandas as pd\n",
        "import matplotlib.pylab as plt\n",
        "from datetime import datetime\n",
        "from datetime import datetime, timedelta\n",
        "plt.style.use('fivethirtyeight')\n",
        "from sklearn.preprocessing import MinMaxScaler\n",
        "from sklearn.model_selection import train_test_split\n",
        "from sklearn import datasets\n",
        "from sklearn.neighbors import KNeighborsClassifier\n",
        "from sklearn import metrics\n",
        "from sklearn.svm import SVC\n",
        "from sklearn import svm\n",
        "from sklearn.linear_model import LinearRegression\n",
        "from sklearn.model_selection import GridSearchCV\n",
        "from sklearn.model_selection import RandomizedSearchCV\n",
        "from sklearn.model_selection import cross_val_score\n",
        "from sklearn.model_selection import StratifiedKFold\n",
        "from imblearn.under_sampling import RandomUnderSampler\n",
        "from scipy.stats import sem"
      ]
    },
    {
      "cell_type": "code",
      "source": [
        "symbol = 'ETH'\n",
        "\n",
        "def get_crypto_price(symbol, exchange, start_date = None):\n",
        "    api_key = ' E7KN41UXPEIKWXIK'\n",
        "    api_url = f'https://www.alphavantage.co/query?function=DIGITAL_CURRENCY_DAILY&symbol={symbol}&market={exchange}&apikey={api_key}'\n",
        "    raw_df = requests.get(api_url).json()\n",
        "    df = pd.DataFrame(raw_df['Time Series (Digital Currency Daily)']).T\n",
        "    df = df.rename(columns = {'1a. open (USD)': 'open', '2a. high (USD)': 'high', '3a. low (USD)': 'low', '4a. close (USD)': 'close', '5. volume': 'volume'})\n",
        "    df.index.names = ['Date']\n",
        " \n",
        "\n",
        "    for i in df.columns:\n",
        "        df[i] = df[i].astype(float)\n",
        "    df.index = pd.to_datetime(df.index)\n",
        "    df = df.iloc[::-1].drop(['1b. open (USD)', '2b. high (USD)', '3b. low (USD)', '4b. close (USD)', '6. market cap (USD)'], axis = 1)\n",
        "\n",
        "    if start_date:\n",
        "        df = df[df.index >= start_date]\n",
        "    return df\n",
        "\n",
        "crypto_df = get_crypto_price(symbol = symbol, exchange = 'USD', start_date = '2019-05-01')\n",
        "crypto_df.head()"
      ],
      "metadata": {
        "colab": {
          "base_uri": "https://localhost:8080/",
          "height": 238
        },
        "id": "g0Ku2ab-pG2U",
        "outputId": "39813b29-7684-43ac-9d3c-a10ac33472ff"
      },
      "execution_count": 186,
      "outputs": [
        {
          "output_type": "execute_result",
          "data": {
            "text/plain": [
              "              open    high     low   close        volume\n",
              "Date                                                    \n",
              "2019-11-06  188.65  195.09  187.72  191.16  343219.92240\n",
              "2019-11-07  191.16  192.27  184.59  186.68  309882.08206\n",
              "2019-11-08  186.67  188.26  181.41  183.74  365029.75027\n",
              "2019-11-09  183.71  185.79  182.63  184.89  192073.38044\n",
              "2019-11-10  184.86  191.58  183.30  188.96  274940.53448"
            ],
            "text/html": [
              "\n",
              "  <div id=\"df-c1948ea4-a3ae-4ac4-bae8-e26a39ad5353\">\n",
              "    <div class=\"colab-df-container\">\n",
              "      <div>\n",
              "<style scoped>\n",
              "    .dataframe tbody tr th:only-of-type {\n",
              "        vertical-align: middle;\n",
              "    }\n",
              "\n",
              "    .dataframe tbody tr th {\n",
              "        vertical-align: top;\n",
              "    }\n",
              "\n",
              "    .dataframe thead th {\n",
              "        text-align: right;\n",
              "    }\n",
              "</style>\n",
              "<table border=\"1\" class=\"dataframe\">\n",
              "  <thead>\n",
              "    <tr style=\"text-align: right;\">\n",
              "      <th></th>\n",
              "      <th>open</th>\n",
              "      <th>high</th>\n",
              "      <th>low</th>\n",
              "      <th>close</th>\n",
              "      <th>volume</th>\n",
              "    </tr>\n",
              "    <tr>\n",
              "      <th>Date</th>\n",
              "      <th></th>\n",
              "      <th></th>\n",
              "      <th></th>\n",
              "      <th></th>\n",
              "      <th></th>\n",
              "    </tr>\n",
              "  </thead>\n",
              "  <tbody>\n",
              "    <tr>\n",
              "      <th>2019-11-06</th>\n",
              "      <td>188.65</td>\n",
              "      <td>195.09</td>\n",
              "      <td>187.72</td>\n",
              "      <td>191.16</td>\n",
              "      <td>343219.92240</td>\n",
              "    </tr>\n",
              "    <tr>\n",
              "      <th>2019-11-07</th>\n",
              "      <td>191.16</td>\n",
              "      <td>192.27</td>\n",
              "      <td>184.59</td>\n",
              "      <td>186.68</td>\n",
              "      <td>309882.08206</td>\n",
              "    </tr>\n",
              "    <tr>\n",
              "      <th>2019-11-08</th>\n",
              "      <td>186.67</td>\n",
              "      <td>188.26</td>\n",
              "      <td>181.41</td>\n",
              "      <td>183.74</td>\n",
              "      <td>365029.75027</td>\n",
              "    </tr>\n",
              "    <tr>\n",
              "      <th>2019-11-09</th>\n",
              "      <td>183.71</td>\n",
              "      <td>185.79</td>\n",
              "      <td>182.63</td>\n",
              "      <td>184.89</td>\n",
              "      <td>192073.38044</td>\n",
              "    </tr>\n",
              "    <tr>\n",
              "      <th>2019-11-10</th>\n",
              "      <td>184.86</td>\n",
              "      <td>191.58</td>\n",
              "      <td>183.30</td>\n",
              "      <td>188.96</td>\n",
              "      <td>274940.53448</td>\n",
              "    </tr>\n",
              "  </tbody>\n",
              "</table>\n",
              "</div>\n",
              "      <button class=\"colab-df-convert\" onclick=\"convertToInteractive('df-c1948ea4-a3ae-4ac4-bae8-e26a39ad5353')\"\n",
              "              title=\"Convert this dataframe to an interactive table.\"\n",
              "              style=\"display:none;\">\n",
              "        \n",
              "  <svg xmlns=\"http://www.w3.org/2000/svg\" height=\"24px\"viewBox=\"0 0 24 24\"\n",
              "       width=\"24px\">\n",
              "    <path d=\"M0 0h24v24H0V0z\" fill=\"none\"/>\n",
              "    <path d=\"M18.56 5.44l.94 2.06.94-2.06 2.06-.94-2.06-.94-.94-2.06-.94 2.06-2.06.94zm-11 1L8.5 8.5l.94-2.06 2.06-.94-2.06-.94L8.5 2.5l-.94 2.06-2.06.94zm10 10l.94 2.06.94-2.06 2.06-.94-2.06-.94-.94-2.06-.94 2.06-2.06.94z\"/><path d=\"M17.41 7.96l-1.37-1.37c-.4-.4-.92-.59-1.43-.59-.52 0-1.04.2-1.43.59L10.3 9.45l-7.72 7.72c-.78.78-.78 2.05 0 2.83L4 21.41c.39.39.9.59 1.41.59.51 0 1.02-.2 1.41-.59l7.78-7.78 2.81-2.81c.8-.78.8-2.07 0-2.86zM5.41 20L4 18.59l7.72-7.72 1.47 1.35L5.41 20z\"/>\n",
              "  </svg>\n",
              "      </button>\n",
              "      \n",
              "  <style>\n",
              "    .colab-df-container {\n",
              "      display:flex;\n",
              "      flex-wrap:wrap;\n",
              "      gap: 12px;\n",
              "    }\n",
              "\n",
              "    .colab-df-convert {\n",
              "      background-color: #E8F0FE;\n",
              "      border: none;\n",
              "      border-radius: 50%;\n",
              "      cursor: pointer;\n",
              "      display: none;\n",
              "      fill: #1967D2;\n",
              "      height: 32px;\n",
              "      padding: 0 0 0 0;\n",
              "      width: 32px;\n",
              "    }\n",
              "\n",
              "    .colab-df-convert:hover {\n",
              "      background-color: #E2EBFA;\n",
              "      box-shadow: 0px 1px 2px rgba(60, 64, 67, 0.3), 0px 1px 3px 1px rgba(60, 64, 67, 0.15);\n",
              "      fill: #174EA6;\n",
              "    }\n",
              "\n",
              "    [theme=dark] .colab-df-convert {\n",
              "      background-color: #3B4455;\n",
              "      fill: #D2E3FC;\n",
              "    }\n",
              "\n",
              "    [theme=dark] .colab-df-convert:hover {\n",
              "      background-color: #434B5C;\n",
              "      box-shadow: 0px 1px 3px 1px rgba(0, 0, 0, 0.15);\n",
              "      filter: drop-shadow(0px 1px 2px rgba(0, 0, 0, 0.3));\n",
              "      fill: #FFFFFF;\n",
              "    }\n",
              "  </style>\n",
              "\n",
              "      <script>\n",
              "        const buttonEl =\n",
              "          document.querySelector('#df-c1948ea4-a3ae-4ac4-bae8-e26a39ad5353 button.colab-df-convert');\n",
              "        buttonEl.style.display =\n",
              "          google.colab.kernel.accessAllowed ? 'block' : 'none';\n",
              "\n",
              "        async function convertToInteractive(key) {\n",
              "          const element = document.querySelector('#df-c1948ea4-a3ae-4ac4-bae8-e26a39ad5353');\n",
              "          const dataTable =\n",
              "            await google.colab.kernel.invokeFunction('convertToInteractive',\n",
              "                                                     [key], {});\n",
              "          if (!dataTable) return;\n",
              "\n",
              "          const docLinkHtml = 'Like what you see? Visit the ' +\n",
              "            '<a target=\"_blank\" href=https://colab.research.google.com/notebooks/data_table.ipynb>data table notebook</a>'\n",
              "            + ' to learn more about interactive tables.';\n",
              "          element.innerHTML = '';\n",
              "          dataTable['output_type'] = 'display_data';\n",
              "          await google.colab.output.renderOutput(dataTable, element);\n",
              "          const docLink = document.createElement('div');\n",
              "          docLink.innerHTML = docLinkHtml;\n",
              "          element.appendChild(docLink);\n",
              "        }\n",
              "      </script>\n",
              "    </div>\n",
              "  </div>\n",
              "  "
            ]
          },
          "metadata": {},
          "execution_count": 186
        }
      ]
    },
    {
      "cell_type": "code",
      "source": [
        "forecast_days = 7\n",
        "\n",
        "def create_prediction_column(df):\n",
        "  crypto_df['forecast'] = crypto_df[['high']].shift(-forecast_days)\n",
        "\n",
        "  return crypto_df\n",
        "\n",
        "prediction_column = create_prediction_column(crypto_df)\n",
        "prediction_column.tail()"
      ],
      "metadata": {
        "colab": {
          "base_uri": "https://localhost:8080/",
          "height": 238
        },
        "id": "7F27gVJ3pMPD",
        "outputId": "ab1fff46-2f6f-4837-f049-4328d87f625d"
      },
      "execution_count": 187,
      "outputs": [
        {
          "output_type": "execute_result",
          "data": {
            "text/plain": [
              "               open     high      low    close        volume  forecast\n",
              "Date                                                                  \n",
              "2022-07-28  1635.74  1784.79  1593.27  1724.52  1.578145e+06       NaN\n",
              "2022-07-29  1724.52  1765.99  1655.02  1721.68  1.205267e+06       NaN\n",
              "2022-07-30  1721.68  1744.85  1673.01  1697.00  7.351325e+05       NaN\n",
              "2022-07-31  1697.00  1754.69  1666.00  1678.12  6.963268e+05       NaN\n",
              "2022-08-01  1678.12  1690.58  1672.63  1683.20  2.448297e+04       NaN"
            ],
            "text/html": [
              "\n",
              "  <div id=\"df-1b7e9b92-61bf-4892-80c6-e9d2d77ce197\">\n",
              "    <div class=\"colab-df-container\">\n",
              "      <div>\n",
              "<style scoped>\n",
              "    .dataframe tbody tr th:only-of-type {\n",
              "        vertical-align: middle;\n",
              "    }\n",
              "\n",
              "    .dataframe tbody tr th {\n",
              "        vertical-align: top;\n",
              "    }\n",
              "\n",
              "    .dataframe thead th {\n",
              "        text-align: right;\n",
              "    }\n",
              "</style>\n",
              "<table border=\"1\" class=\"dataframe\">\n",
              "  <thead>\n",
              "    <tr style=\"text-align: right;\">\n",
              "      <th></th>\n",
              "      <th>open</th>\n",
              "      <th>high</th>\n",
              "      <th>low</th>\n",
              "      <th>close</th>\n",
              "      <th>volume</th>\n",
              "      <th>forecast</th>\n",
              "    </tr>\n",
              "    <tr>\n",
              "      <th>Date</th>\n",
              "      <th></th>\n",
              "      <th></th>\n",
              "      <th></th>\n",
              "      <th></th>\n",
              "      <th></th>\n",
              "      <th></th>\n",
              "    </tr>\n",
              "  </thead>\n",
              "  <tbody>\n",
              "    <tr>\n",
              "      <th>2022-07-28</th>\n",
              "      <td>1635.74</td>\n",
              "      <td>1784.79</td>\n",
              "      <td>1593.27</td>\n",
              "      <td>1724.52</td>\n",
              "      <td>1.578145e+06</td>\n",
              "      <td>NaN</td>\n",
              "    </tr>\n",
              "    <tr>\n",
              "      <th>2022-07-29</th>\n",
              "      <td>1724.52</td>\n",
              "      <td>1765.99</td>\n",
              "      <td>1655.02</td>\n",
              "      <td>1721.68</td>\n",
              "      <td>1.205267e+06</td>\n",
              "      <td>NaN</td>\n",
              "    </tr>\n",
              "    <tr>\n",
              "      <th>2022-07-30</th>\n",
              "      <td>1721.68</td>\n",
              "      <td>1744.85</td>\n",
              "      <td>1673.01</td>\n",
              "      <td>1697.00</td>\n",
              "      <td>7.351325e+05</td>\n",
              "      <td>NaN</td>\n",
              "    </tr>\n",
              "    <tr>\n",
              "      <th>2022-07-31</th>\n",
              "      <td>1697.00</td>\n",
              "      <td>1754.69</td>\n",
              "      <td>1666.00</td>\n",
              "      <td>1678.12</td>\n",
              "      <td>6.963268e+05</td>\n",
              "      <td>NaN</td>\n",
              "    </tr>\n",
              "    <tr>\n",
              "      <th>2022-08-01</th>\n",
              "      <td>1678.12</td>\n",
              "      <td>1690.58</td>\n",
              "      <td>1672.63</td>\n",
              "      <td>1683.20</td>\n",
              "      <td>2.448297e+04</td>\n",
              "      <td>NaN</td>\n",
              "    </tr>\n",
              "  </tbody>\n",
              "</table>\n",
              "</div>\n",
              "      <button class=\"colab-df-convert\" onclick=\"convertToInteractive('df-1b7e9b92-61bf-4892-80c6-e9d2d77ce197')\"\n",
              "              title=\"Convert this dataframe to an interactive table.\"\n",
              "              style=\"display:none;\">\n",
              "        \n",
              "  <svg xmlns=\"http://www.w3.org/2000/svg\" height=\"24px\"viewBox=\"0 0 24 24\"\n",
              "       width=\"24px\">\n",
              "    <path d=\"M0 0h24v24H0V0z\" fill=\"none\"/>\n",
              "    <path d=\"M18.56 5.44l.94 2.06.94-2.06 2.06-.94-2.06-.94-.94-2.06-.94 2.06-2.06.94zm-11 1L8.5 8.5l.94-2.06 2.06-.94-2.06-.94L8.5 2.5l-.94 2.06-2.06.94zm10 10l.94 2.06.94-2.06 2.06-.94-2.06-.94-.94-2.06-.94 2.06-2.06.94z\"/><path d=\"M17.41 7.96l-1.37-1.37c-.4-.4-.92-.59-1.43-.59-.52 0-1.04.2-1.43.59L10.3 9.45l-7.72 7.72c-.78.78-.78 2.05 0 2.83L4 21.41c.39.39.9.59 1.41.59.51 0 1.02-.2 1.41-.59l7.78-7.78 2.81-2.81c.8-.78.8-2.07 0-2.86zM5.41 20L4 18.59l7.72-7.72 1.47 1.35L5.41 20z\"/>\n",
              "  </svg>\n",
              "      </button>\n",
              "      \n",
              "  <style>\n",
              "    .colab-df-container {\n",
              "      display:flex;\n",
              "      flex-wrap:wrap;\n",
              "      gap: 12px;\n",
              "    }\n",
              "\n",
              "    .colab-df-convert {\n",
              "      background-color: #E8F0FE;\n",
              "      border: none;\n",
              "      border-radius: 50%;\n",
              "      cursor: pointer;\n",
              "      display: none;\n",
              "      fill: #1967D2;\n",
              "      height: 32px;\n",
              "      padding: 0 0 0 0;\n",
              "      width: 32px;\n",
              "    }\n",
              "\n",
              "    .colab-df-convert:hover {\n",
              "      background-color: #E2EBFA;\n",
              "      box-shadow: 0px 1px 2px rgba(60, 64, 67, 0.3), 0px 1px 3px 1px rgba(60, 64, 67, 0.15);\n",
              "      fill: #174EA6;\n",
              "    }\n",
              "\n",
              "    [theme=dark] .colab-df-convert {\n",
              "      background-color: #3B4455;\n",
              "      fill: #D2E3FC;\n",
              "    }\n",
              "\n",
              "    [theme=dark] .colab-df-convert:hover {\n",
              "      background-color: #434B5C;\n",
              "      box-shadow: 0px 1px 3px 1px rgba(0, 0, 0, 0.15);\n",
              "      filter: drop-shadow(0px 1px 2px rgba(0, 0, 0, 0.3));\n",
              "      fill: #FFFFFF;\n",
              "    }\n",
              "  </style>\n",
              "\n",
              "      <script>\n",
              "        const buttonEl =\n",
              "          document.querySelector('#df-1b7e9b92-61bf-4892-80c6-e9d2d77ce197 button.colab-df-convert');\n",
              "        buttonEl.style.display =\n",
              "          google.colab.kernel.accessAllowed ? 'block' : 'none';\n",
              "\n",
              "        async function convertToInteractive(key) {\n",
              "          const element = document.querySelector('#df-1b7e9b92-61bf-4892-80c6-e9d2d77ce197');\n",
              "          const dataTable =\n",
              "            await google.colab.kernel.invokeFunction('convertToInteractive',\n",
              "                                                     [key], {});\n",
              "          if (!dataTable) return;\n",
              "\n",
              "          const docLinkHtml = 'Like what you see? Visit the ' +\n",
              "            '<a target=\"_blank\" href=https://colab.research.google.com/notebooks/data_table.ipynb>data table notebook</a>'\n",
              "            + ' to learn more about interactive tables.';\n",
              "          element.innerHTML = '';\n",
              "          dataTable['output_type'] = 'display_data';\n",
              "          await google.colab.output.renderOutput(dataTable, element);\n",
              "          const docLink = document.createElement('div');\n",
              "          docLink.innerHTML = docLinkHtml;\n",
              "          element.appendChild(docLink);\n",
              "        }\n",
              "      </script>\n",
              "    </div>\n",
              "  </div>\n",
              "  "
            ]
          },
          "metadata": {},
          "execution_count": 187
        }
      ]
    },
    {
      "cell_type": "code",
      "source": [
        "def smooth_data(data, alpha):\n",
        "\n",
        "    return data.ewm(alpha=alpha).mean()\n",
        "\n",
        "expo_smooth = smooth_data(prediction_column, 0.65)\n"
      ],
      "metadata": {
        "id": "4H3XOZKhpu24"
      },
      "execution_count": 188,
      "outputs": []
    },
    {
      "cell_type": "code",
      "source": [
        "def independent_dataset(df):\n",
        "  X = np.array(prediction_column.close)\n",
        "  X = X[:-forecast_days]\n",
        "\n",
        "  return X\n",
        "\n",
        "x_dataset = independent_dataset(expo_smooth)"
      ],
      "metadata": {
        "id": "WE9Ly12aqN7t"
      },
      "execution_count": 189,
      "outputs": []
    },
    {
      "cell_type": "code",
      "source": [
        "x_dataset.shape"
      ],
      "metadata": {
        "colab": {
          "base_uri": "https://localhost:8080/"
        },
        "id": "wADRq_jdyFaR",
        "outputId": "744d87c5-7394-498a-cf3a-f72ec00dbc1c"
      },
      "execution_count": 190,
      "outputs": [
        {
          "output_type": "execute_result",
          "data": {
            "text/plain": [
              "(993,)"
            ]
          },
          "metadata": {},
          "execution_count": 190
        }
      ]
    },
    {
      "cell_type": "code",
      "source": [
        "def dependent_dataset(df):\n",
        "  y = prediction_column.forecast.values\n",
        "  y = y[:-forecast_days]\n",
        "\n",
        "  return y\n",
        "\n",
        "y_dataset = dependent_dataset(expo_smooth)"
      ],
      "metadata": {
        "id": "VbksKxUTq_nj"
      },
      "execution_count": 191,
      "outputs": []
    },
    {
      "cell_type": "code",
      "source": [
        "y_dataset.shape"
      ],
      "metadata": {
        "colab": {
          "base_uri": "https://localhost:8080/"
        },
        "id": "f21n0ktSyHcZ",
        "outputId": "4d7d051a-d536-472c-ec79-f5888d4bc086"
      },
      "execution_count": 192,
      "outputs": [
        {
          "output_type": "execute_result",
          "data": {
            "text/plain": [
              "(993,)"
            ]
          },
          "metadata": {},
          "execution_count": 192
        }
      ]
    },
    {
      "cell_type": "code",
      "source": [
        "def split_data(X_data, y_data, test_size):\n",
        "  X_train, X_test, y_train, y_test = train_test_split(x_dataset, y_dataset, test_size = 0.3)\n",
        "\n",
        "  return X_train.reshape(-1, 1), X_test.reshape(-1, 1), y_train, y_test\n",
        "\n",
        "X_train, X_test, y_train, y_test = split_data(x_dataset, y_dataset, test_size=0.3)"
      ],
      "metadata": {
        "id": "o1a3t0ukrb6T"
      },
      "execution_count": 193,
      "outputs": []
    },
    {
      "cell_type": "code",
      "source": [
        "X_train.shape, X_test.shape, y_train.shape, y_test.shape"
      ],
      "metadata": {
        "colab": {
          "base_uri": "https://localhost:8080/"
        },
        "id": "oC8Slwxmx-3y",
        "outputId": "66fbb957-8878-4898-d3cd-14827a47f63d"
      },
      "execution_count": 194,
      "outputs": [
        {
          "output_type": "execute_result",
          "data": {
            "text/plain": [
              "((695, 1), (298, 1), (695,), (298,))"
            ]
          },
          "metadata": {},
          "execution_count": 194
        }
      ]
    },
    {
      "cell_type": "code",
      "source": [
        "def regression_model(X_train, y_train, X_test, y_test):\n",
        "  lin_reg_model = LinearRegression()\n",
        "  lin_reg_model.fit(X_train, y_train)\n",
        "\n",
        "  score_acc = lin_reg_model.score(X_test, y_test)\n",
        "  score_acc = round(score_acc,2)\n",
        "  score_acc\n",
        "\n",
        "  return lin_reg_model, score_acc\n",
        "\n",
        "linear_regression_model, accuracy_score = regression_model(X_train, y_train, X_test, y_test)"
      ],
      "metadata": {
        "id": "6vh5ASc9ulvF"
      },
      "execution_count": 195,
      "outputs": []
    },
    {
      "cell_type": "code",
      "source": [
        "print(f'Model accuracy score: {accuracy_score}')"
      ],
      "metadata": {
        "colab": {
          "base_uri": "https://localhost:8080/"
        },
        "id": "5CsGnlsjxWzq",
        "outputId": "6861a68d-7c44-4395-c72f-d4c66cc4890b"
      },
      "execution_count": 196,
      "outputs": [
        {
          "output_type": "stream",
          "name": "stdout",
          "text": [
            "Model accuracy score: 0.97\n"
          ]
        }
      ]
    },
    {
      "cell_type": "code",
      "source": [
        "def model_results(df):\n",
        "  actual_price = np.array(crypto_df[['high']])\n",
        "  model_predictions = linear_regression_model.predict(actual_price)\n",
        "\n",
        "  model_predictions_df = pd.DataFrame(model_predictions, columns=['Model Results'])\n",
        "  model_predictions_df.index.name = 'Date'\n",
        "  model_predictions_df.index = crypto_df.index\n",
        "\n",
        "  return model_predictions_df\n",
        "\n",
        "model_predictions_df = (model_results(crypto_df))\n"
      ],
      "metadata": {
        "id": "M-olrF-3utFx"
      },
      "execution_count": 197,
      "outputs": []
    },
    {
      "cell_type": "code",
      "source": [
        "model_predictions_df.head()"
      ],
      "metadata": {
        "id": "PkohLdy4HjK_",
        "outputId": "ff1fa8a7-b596-4d81-dfbf-24809905bdad",
        "colab": {
          "base_uri": "https://localhost:8080/",
          "height": 238
        }
      },
      "execution_count": 198,
      "outputs": [
        {
          "output_type": "execute_result",
          "data": {
            "text/plain": [
              "            Model Results\n",
              "Date                     \n",
              "2019-11-06     247.318111\n",
              "2019-11-07     244.456341\n",
              "2019-11-08     240.386944\n",
              "2019-11-09     237.880358\n",
              "2019-11-10     243.756121"
            ],
            "text/html": [
              "\n",
              "  <div id=\"df-9226fb06-43ff-46a5-b200-fe601fc622fe\">\n",
              "    <div class=\"colab-df-container\">\n",
              "      <div>\n",
              "<style scoped>\n",
              "    .dataframe tbody tr th:only-of-type {\n",
              "        vertical-align: middle;\n",
              "    }\n",
              "\n",
              "    .dataframe tbody tr th {\n",
              "        vertical-align: top;\n",
              "    }\n",
              "\n",
              "    .dataframe thead th {\n",
              "        text-align: right;\n",
              "    }\n",
              "</style>\n",
              "<table border=\"1\" class=\"dataframe\">\n",
              "  <thead>\n",
              "    <tr style=\"text-align: right;\">\n",
              "      <th></th>\n",
              "      <th>Model Results</th>\n",
              "    </tr>\n",
              "    <tr>\n",
              "      <th>Date</th>\n",
              "      <th></th>\n",
              "    </tr>\n",
              "  </thead>\n",
              "  <tbody>\n",
              "    <tr>\n",
              "      <th>2019-11-06</th>\n",
              "      <td>247.318111</td>\n",
              "    </tr>\n",
              "    <tr>\n",
              "      <th>2019-11-07</th>\n",
              "      <td>244.456341</td>\n",
              "    </tr>\n",
              "    <tr>\n",
              "      <th>2019-11-08</th>\n",
              "      <td>240.386944</td>\n",
              "    </tr>\n",
              "    <tr>\n",
              "      <th>2019-11-09</th>\n",
              "      <td>237.880358</td>\n",
              "    </tr>\n",
              "    <tr>\n",
              "      <th>2019-11-10</th>\n",
              "      <td>243.756121</td>\n",
              "    </tr>\n",
              "  </tbody>\n",
              "</table>\n",
              "</div>\n",
              "      <button class=\"colab-df-convert\" onclick=\"convertToInteractive('df-9226fb06-43ff-46a5-b200-fe601fc622fe')\"\n",
              "              title=\"Convert this dataframe to an interactive table.\"\n",
              "              style=\"display:none;\">\n",
              "        \n",
              "  <svg xmlns=\"http://www.w3.org/2000/svg\" height=\"24px\"viewBox=\"0 0 24 24\"\n",
              "       width=\"24px\">\n",
              "    <path d=\"M0 0h24v24H0V0z\" fill=\"none\"/>\n",
              "    <path d=\"M18.56 5.44l.94 2.06.94-2.06 2.06-.94-2.06-.94-.94-2.06-.94 2.06-2.06.94zm-11 1L8.5 8.5l.94-2.06 2.06-.94-2.06-.94L8.5 2.5l-.94 2.06-2.06.94zm10 10l.94 2.06.94-2.06 2.06-.94-2.06-.94-.94-2.06-.94 2.06-2.06.94z\"/><path d=\"M17.41 7.96l-1.37-1.37c-.4-.4-.92-.59-1.43-.59-.52 0-1.04.2-1.43.59L10.3 9.45l-7.72 7.72c-.78.78-.78 2.05 0 2.83L4 21.41c.39.39.9.59 1.41.59.51 0 1.02-.2 1.41-.59l7.78-7.78 2.81-2.81c.8-.78.8-2.07 0-2.86zM5.41 20L4 18.59l7.72-7.72 1.47 1.35L5.41 20z\"/>\n",
              "  </svg>\n",
              "      </button>\n",
              "      \n",
              "  <style>\n",
              "    .colab-df-container {\n",
              "      display:flex;\n",
              "      flex-wrap:wrap;\n",
              "      gap: 12px;\n",
              "    }\n",
              "\n",
              "    .colab-df-convert {\n",
              "      background-color: #E8F0FE;\n",
              "      border: none;\n",
              "      border-radius: 50%;\n",
              "      cursor: pointer;\n",
              "      display: none;\n",
              "      fill: #1967D2;\n",
              "      height: 32px;\n",
              "      padding: 0 0 0 0;\n",
              "      width: 32px;\n",
              "    }\n",
              "\n",
              "    .colab-df-convert:hover {\n",
              "      background-color: #E2EBFA;\n",
              "      box-shadow: 0px 1px 2px rgba(60, 64, 67, 0.3), 0px 1px 3px 1px rgba(60, 64, 67, 0.15);\n",
              "      fill: #174EA6;\n",
              "    }\n",
              "\n",
              "    [theme=dark] .colab-df-convert {\n",
              "      background-color: #3B4455;\n",
              "      fill: #D2E3FC;\n",
              "    }\n",
              "\n",
              "    [theme=dark] .colab-df-convert:hover {\n",
              "      background-color: #434B5C;\n",
              "      box-shadow: 0px 1px 3px 1px rgba(0, 0, 0, 0.15);\n",
              "      filter: drop-shadow(0px 1px 2px rgba(0, 0, 0, 0.3));\n",
              "      fill: #FFFFFF;\n",
              "    }\n",
              "  </style>\n",
              "\n",
              "      <script>\n",
              "        const buttonEl =\n",
              "          document.querySelector('#df-9226fb06-43ff-46a5-b200-fe601fc622fe button.colab-df-convert');\n",
              "        buttonEl.style.display =\n",
              "          google.colab.kernel.accessAllowed ? 'block' : 'none';\n",
              "\n",
              "        async function convertToInteractive(key) {\n",
              "          const element = document.querySelector('#df-9226fb06-43ff-46a5-b200-fe601fc622fe');\n",
              "          const dataTable =\n",
              "            await google.colab.kernel.invokeFunction('convertToInteractive',\n",
              "                                                     [key], {});\n",
              "          if (!dataTable) return;\n",
              "\n",
              "          const docLinkHtml = 'Like what you see? Visit the ' +\n",
              "            '<a target=\"_blank\" href=https://colab.research.google.com/notebooks/data_table.ipynb>data table notebook</a>'\n",
              "            + ' to learn more about interactive tables.';\n",
              "          element.innerHTML = '';\n",
              "          dataTable['output_type'] = 'display_data';\n",
              "          await google.colab.output.renderOutput(dataTable, element);\n",
              "          const docLink = document.createElement('div');\n",
              "          docLink.innerHTML = docLinkHtml;\n",
              "          element.appendChild(docLink);\n",
              "        }\n",
              "      </script>\n",
              "    </div>\n",
              "  </div>\n",
              "  "
            ]
          },
          "metadata": {},
          "execution_count": 198
        }
      ]
    },
    {
      "cell_type": "code",
      "source": [
        "def create_prediction(df):\n",
        "  actual_price = np.array(crypto_df[['high']])[-forecast_days:]\n",
        "  forecast_prediction = linear_regression_model.predict(actual_price)\n",
        "\n",
        "  return forecast_prediction\n",
        "\n",
        "forecast_prediction = (create_prediction(crypto_df))\n"
      ],
      "metadata": {
        "id": "kr0HSHAYxmQF"
      },
      "execution_count": 199,
      "outputs": []
    },
    {
      "cell_type": "code",
      "source": [
        "forecast_prediction"
      ],
      "metadata": {
        "colab": {
          "base_uri": "https://localhost:8080/"
        },
        "id": "5FEYCgAEPiem",
        "outputId": "29a79e7c-4d7c-47d7-b838-abf02ecf2bf5"
      },
      "execution_count": 200,
      "outputs": [
        {
          "output_type": "execute_result",
          "data": {
            "text/plain": [
              "array([1524.98698469, 1718.13619331, 1860.5650875 , 1841.48661788,\n",
              "       1820.03348769, 1830.01923987, 1764.95962885])"
            ]
          },
          "metadata": {},
          "execution_count": 200
        }
      ]
    },
    {
      "cell_type": "code",
      "source": [
        "def get_future_dates(datetime):\n",
        "  future_dates = []\n",
        "\n",
        "  datetime = datetime\n",
        "\n",
        "  for i in range(forecast_days): \n",
        "    datetime += timedelta(days=1)\n",
        "    future_dates.append(datetime.strftime('%Y-%m-%d'))\n",
        "\n",
        "  return future_dates\n",
        "\n",
        "future_dates = get_future_dates(datetime.now())"
      ],
      "metadata": {
        "id": "7YW-MbUWPuSe"
      },
      "execution_count": 201,
      "outputs": []
    },
    {
      "cell_type": "code",
      "source": [
        "def datetime_index(forecast_df, crypto_df):\n",
        "\n",
        "  forecast_df = pd.DataFrame(forecast_prediction, columns=['forecast'])\n",
        "  forecast_df['Date'] = future_dates\n",
        "  forecast_df.set_index('Date', inplace=True)\n",
        "  forecast_df.index = pd.to_datetime(forecast_df.index)\n",
        "  crypto_df.index = pd.to_datetime(crypto_df.index)\n",
        "\n",
        "  return forecast_df, crypto_df\n",
        "\n",
        "forecast_df, crypto_df = datetime_index(future_dates, crypto_df)"
      ],
      "metadata": {
        "id": "qltcKzv60_6P"
      },
      "execution_count": 202,
      "outputs": []
    },
    {
      "cell_type": "code",
      "source": [
        "print(forecast_df.head())"
      ],
      "metadata": {
        "colab": {
          "base_uri": "https://localhost:8080/"
        },
        "id": "tA9oYU45yNXR",
        "outputId": "2892b633-201c-43fe-8574-880a9e5dd401"
      },
      "execution_count": 203,
      "outputs": [
        {
          "output_type": "stream",
          "name": "stdout",
          "text": [
            "               forecast\n",
            "Date                   \n",
            "2022-08-02  1524.986985\n",
            "2022-08-03  1718.136193\n",
            "2022-08-04  1860.565087\n",
            "2022-08-05  1841.486618\n",
            "2022-08-06  1820.033488\n"
          ]
        }
      ]
    },
    {
      "cell_type": "code",
      "source": [
        "import matplotlib.dates as mdates\n",
        "\n",
        "def plot_model():\n",
        "  plt.figure(figsize=(23,14))\n",
        "  plt.plot(forecast_df.forecast, color='limegreen', label = f'Prediction(Future) {accuracy_score}%')\n",
        "  plt.plot(model_predictions_df, color='orange', label = 'Prediction Results')\n",
        "  plt.plot(crypto_df.close, color='cornflowerblue', label = f'{symbol} Actual Prices')\n",
        "  plt.title(f'{symbol} Price Prediction Model', fontsize=18)\n",
        "  plt.xlabel(f' Predicting {forecast_days} Days', fontsize=15)\n",
        "  plt.ylabel('Price (USD)', fontsize=18)\n",
        "  plt.legend(loc='upper right')\n",
        "  plt.gcf().autofmt_xdate()\n",
        "\n",
        "  plt.show()\n",
        "\n",
        "  return plt\n",
        "\n",
        "plot_model()"
      ],
      "metadata": {
        "colab": {
          "base_uri": "https://localhost:8080/",
          "height": 817
        },
        "id": "gmJIx3o_2VrX",
        "outputId": "4b016ef6-b05f-47ff-d01b-e43319896fda"
      },
      "execution_count": 207,
      "outputs": [
        {
          "output_type": "display_data",
          "data": {
            "text/plain": [
              "<Figure size 1656x1008 with 1 Axes>"
            ],
            "image/png": "[encoded data removed]"
          },
          "metadata": {}
        },
        {
          "output_type": "execute_result",
          "data": {
            "text/plain": [
              "<module 'matplotlib.pylab' from '/usr/local/lib/python3.7/dist-packages/matplotlib/pylab.py'>"
            ]
          },
          "metadata": {},
          "execution_count": 207
        }
      ]
    },
    {
      "cell_type": "code",
      "source": [
        "forecast_df.style.background_gradient(axis=None, low=0.75, high=2)"
      ],
      "metadata": {
        "colab": {
          "base_uri": "https://localhost:8080/",
          "height": 300
        },
        "id": "yTgL8tfzGC1f",
        "outputId": "028fc7e2-922d-4610-ad30-d0da8d45629a"
      },
      "execution_count": 205,
      "outputs": [
        {
          "output_type": "execute_result",
          "data": {
            "text/plain": [
              "<pandas.io.formats.style.Styler at 0x7f1cd193ced0>"
            ],
            "text/html": [
              "<style type=\"text/css\">\n",
              "#T_5c1fc_row0_col0 {\n",
              "  background-color: #dbdaeb;\n",
              "  color: #000000;\n",
              "}\n",
              "#T_5c1fc_row1_col0 {\n",
              "  background-color: #adc1dd;\n",
              "  color: #000000;\n",
              "}\n",
              "#T_5c1fc_row2_col0 {\n",
              "  background-color: #81aed2;\n",
              "  color: #f1f1f1;\n",
              "}\n",
              "#T_5c1fc_row3_col0 {\n",
              "  background-color: #88b1d4;\n",
              "  color: #000000;\n",
              "}\n",
              "#T_5c1fc_row4_col0 {\n",
              "  background-color: #8eb3d5;\n",
              "  color: #000000;\n",
              "}\n",
              "#T_5c1fc_row5_col0 {\n",
              "  background-color: #8bb2d4;\n",
              "  color: #000000;\n",
              "}\n",
              "#T_5c1fc_row6_col0 {\n",
              "  background-color: #9fbad9;\n",
              "  color: #000000;\n",
              "}\n",
              "</style>\n",
              "<table id=\"T_5c1fc_\" class=\"dataframe\">\n",
              "  <thead>\n",
              "    <tr>\n",
              "      <th class=\"blank level0\" >&nbsp;</th>\n",
              "      <th class=\"col_heading level0 col0\" >forecast</th>\n",
              "    </tr>\n",
              "    <tr>\n",
              "      <th class=\"index_name level0\" >Date</th>\n",
              "      <th class=\"blank col0\" >&nbsp;</th>\n",
              "    </tr>\n",
              "  </thead>\n",
              "  <tbody>\n",
              "    <tr>\n",
              "      <th id=\"T_5c1fc_level0_row0\" class=\"row_heading level0 row0\" >2022-08-02 00:00:00</th>\n",
              "      <td id=\"T_5c1fc_row0_col0\" class=\"data row0 col0\" >1524.986985</td>\n",
              "    </tr>\n",
              "    <tr>\n",
              "      <th id=\"T_5c1fc_level0_row1\" class=\"row_heading level0 row1\" >2022-08-03 00:00:00</th>\n",
              "      <td id=\"T_5c1fc_row1_col0\" class=\"data row1 col0\" >1718.136193</td>\n",
              "    </tr>\n",
              "    <tr>\n",
              "      <th id=\"T_5c1fc_level0_row2\" class=\"row_heading level0 row2\" >2022-08-04 00:00:00</th>\n",
              "      <td id=\"T_5c1fc_row2_col0\" class=\"data row2 col0\" >1860.565087</td>\n",
              "    </tr>\n",
              "    <tr>\n",
              "      <th id=\"T_5c1fc_level0_row3\" class=\"row_heading level0 row3\" >2022-08-05 00:00:00</th>\n",
              "      <td id=\"T_5c1fc_row3_col0\" class=\"data row3 col0\" >1841.486618</td>\n",
              "    </tr>\n",
              "    <tr>\n",
              "      <th id=\"T_5c1fc_level0_row4\" class=\"row_heading level0 row4\" >2022-08-06 00:00:00</th>\n",
              "      <td id=\"T_5c1fc_row4_col0\" class=\"data row4 col0\" >1820.033488</td>\n",
              "    </tr>\n",
              "    <tr>\n",
              "      <th id=\"T_5c1fc_level0_row5\" class=\"row_heading level0 row5\" >2022-08-07 00:00:00</th>\n",
              "      <td id=\"T_5c1fc_row5_col0\" class=\"data row5 col0\" >1830.019240</td>\n",
              "    </tr>\n",
              "    <tr>\n",
              "      <th id=\"T_5c1fc_level0_row6\" class=\"row_heading level0 row6\" >2022-08-08 00:00:00</th>\n",
              "      <td id=\"T_5c1fc_row6_col0\" class=\"data row6 col0\" >1764.959629</td>\n",
              "    </tr>\n",
              "  </tbody>\n",
              "</table>\n"
            ]
          },
          "metadata": {},
          "execution_count": 205
        }
      ]
    }
  ]
}