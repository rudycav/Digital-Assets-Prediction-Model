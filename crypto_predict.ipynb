{
  "nbformat": 4,
  "nbformat_minor": 0,
  "metadata": {
    "colab": {
      "name": "crypto_predict.ipynb",
      "provenance": [],
      "authorship_tag": "ABX9TyNM9AJyOwP67zPfLib18BWY",
      "include_colab_link": true
    },
    "kernelspec": {
      "name": "python3",
      "display_name": "Python 3"
    },
    "language_info": {
      "name": "python"
    }
  },
  "cells": [
    {
      "cell_type": "markdown",
      "metadata": {
        "id": "view-in-github",
        "colab_type": "text"
      },
      "source": [
        "<a href=\"https://colab.research.google.com/github/cavrudy/Crypto-Prediction-Model/blob/main/crypto_predict.ipynb\" target=\"_parent\"><img src=\"https://colab.research.google.com/assets/colab-badge.svg\" alt=\"Open In Colab\"/></a>"
      ]
    },
    {
      "cell_type": "code",
      "execution_count": 40,
      "metadata": {
        "colab": {
          "base_uri": "https://localhost:8080/"
        },
        "id": "IDXHprAl61e-",
        "outputId": "b511a68c-5abd-47b6-b07d-04c18f8f88c2"
      },
      "outputs": [
        {
          "output_type": "stream",
          "name": "stdout",
          "text": [
            "Looking in indexes: https://pypi.org/simple, https://us-python.pkg.dev/colab-wheels/public/simple/\n",
            "Requirement already satisfied: yfinance in /usr/local/lib/python3.7/dist-packages (0.1.72)\n",
            "Requirement already satisfied: lxml>=4.5.1 in /usr/local/lib/python3.7/dist-packages (from yfinance) (4.9.1)\n",
            "Requirement already satisfied: pandas>=0.24.0 in /usr/local/lib/python3.7/dist-packages (from yfinance) (1.1.5)\n",
            "Requirement already satisfied: multitasking>=0.0.7 in /usr/local/lib/python3.7/dist-packages (from yfinance) (0.0.10)\n",
            "Requirement already satisfied: numpy>=1.15 in /usr/local/lib/python3.7/dist-packages (from yfinance) (1.21.6)\n",
            "Requirement already satisfied: requests>=2.26 in /usr/local/lib/python3.7/dist-packages (from yfinance) (2.28.1)\n",
            "Requirement already satisfied: python-dateutil>=2.7.3 in /usr/local/lib/python3.7/dist-packages (from pandas>=0.24.0->yfinance) (2.8.2)\n",
            "Requirement already satisfied: pytz>=2017.2 in /usr/local/lib/python3.7/dist-packages (from pandas>=0.24.0->yfinance) (2022.1)\n",
            "Requirement already satisfied: six>=1.5 in /usr/local/lib/python3.7/dist-packages (from python-dateutil>=2.7.3->pandas>=0.24.0->yfinance) (1.15.0)\n",
            "Requirement already satisfied: urllib3<1.27,>=1.21.1 in /usr/local/lib/python3.7/dist-packages (from requests>=2.26->yfinance) (1.26.10)\n",
            "Requirement already satisfied: idna<4,>=2.5 in /usr/local/lib/python3.7/dist-packages (from requests>=2.26->yfinance) (2.10)\n",
            "Requirement already satisfied: charset-normalizer<3,>=2 in /usr/local/lib/python3.7/dist-packages (from requests>=2.26->yfinance) (2.1.0)\n",
            "Requirement already satisfied: certifi>=2017.4.17 in /usr/local/lib/python3.7/dist-packages (from requests>=2.26->yfinance) (2022.6.15)\n",
            "Looking in indexes: https://pypi.org/simple, https://us-python.pkg.dev/colab-wheels/public/simple/\n",
            "Requirement already satisfied: finta in /usr/local/lib/python3.7/dist-packages (1.3)\n",
            "Requirement already satisfied: numpy in /usr/local/lib/python3.7/dist-packages (from finta) (1.21.6)\n",
            "Requirement already satisfied: pandas in /usr/local/lib/python3.7/dist-packages (from finta) (1.1.5)\n",
            "Requirement already satisfied: pytz>=2017.2 in /usr/local/lib/python3.7/dist-packages (from pandas->finta) (2022.1)\n",
            "Requirement already satisfied: python-dateutil>=2.7.3 in /usr/local/lib/python3.7/dist-packages (from pandas->finta) (2.8.2)\n",
            "Requirement already satisfied: six>=1.5 in /usr/local/lib/python3.7/dist-packages (from python-dateutil>=2.7.3->pandas->finta) (1.15.0)\n"
          ]
        }
      ],
      "source": [
        "!pip install yfinance\n",
        "!pip install finta"
      ]
    },
    {
      "cell_type": "code",
      "source": [
        "import yfinance as yf\n",
        "import datetime\n",
        "import pandas as pd\n",
        "import numpy as np\n",
        "from finta import TA\n",
        "import matplotlib.pyplot as plt\n",
        "\n",
        "from sklearn import svm\n",
        "from sklearn.ensemble import RandomForestClassifier\n",
        "from sklearn.neighbors import KNeighborsClassifier\n",
        "from sklearn.ensemble import AdaBoostClassifier\n",
        "from sklearn.ensemble import GradientBoostingClassifier\n",
        "from sklearn.ensemble import VotingClassifier\n",
        "from sklearn.model_selection import train_test_split, GridSearchCV\n",
        "from sklearn.metrics import confusion_matrix, classification_report\n",
        "from sklearn import metrics\n",
        "\n",
        "# Indicators used for the model\n",
        "indicators = ['RSI', 'TEMA']\n",
        "\n",
        "\n",
        "def ticker_data(past_days, timeframe, ticker):\n",
        "    start = (datetime.date.today() - datetime.timedelta(past_days))\n",
        "    end = datetime.datetime.today()\n",
        "\n",
        "    # Loading start, end time, and interval into YF package\n",
        "    ticker_data = yf.download(ticker, start=start, end=end, interval=timeframe)\n",
        "    ticker_data.rename(columns={\"Close\": 'close', \"High\": 'high', \"Low\": 'low', 'Volume': 'volume', 'Open': 'open'}, inplace=True)\n",
        "\n",
        "    return ticker_data.head()\n",
        "\n",
        "data = ticker_data(10, '1d', 'SPY')\n",
        "\n",
        "\n",
        "def exponential_weight(data, alpha):\n",
        "  # Exponential weight collects more accurate float integers\n",
        "  return data.ewm(alpha=alpha).mean()\n",
        "\n",
        "exp_weight = exponential_weight(data, 0.65)\n",
        "\n",
        "exp_weight.head()"
      ],
      "metadata": {
        "colab": {
          "base_uri": "https://localhost:8080/",
          "height": 255
        },
        "id": "yUeLm3XR7yo_",
        "outputId": "b7f4cf84-3197-4e50-a172-1aa093e9d40a"
      },
      "execution_count": 69,
      "outputs": [
        {
          "output_type": "stream",
          "name": "stdout",
          "text": [
            "\r[*********************100%***********************]  1 of 1 completed\n"
          ]
        },
        {
          "output_type": "execute_result",
          "data": {
            "text/plain": [
              "                  open        high         low       close   Adj Close  \\\n",
              "Date                                                                     \n",
              "2022-06-28  390.230011  393.160004  380.529999  380.649994  380.649994   \n",
              "2022-06-29  383.563344  385.093326  378.967047  380.420366  380.420366   \n",
              "2022-06-30  378.589929  382.082581  374.615910  378.267316  378.267316   \n",
              "2022-07-01  377.250372  381.830123  374.077481  380.228992  380.228992   \n",
              "2022-07-05  376.354930  381.928065  373.308073  381.360082  381.360082   \n",
              "\n",
              "                  volume  \n",
              "Date                      \n",
              "2022-06-28  8.654890e+07  \n",
              "2022-06-29  7.108749e+07  \n",
              "2022-06-30  9.921707e+07  \n",
              "2022-07-01  8.309897e+07  \n",
              "2022-07-05  8.201364e+07  "
            ],
            "text/html": [
              "\n",
              "  <div id=\"df-b2b287ca-4044-4bc8-a7ed-ac268c62bb64\">\n",
              "    <div class=\"colab-df-container\">\n",
              "      <div>\n",
              "<style scoped>\n",
              "    .dataframe tbody tr th:only-of-type {\n",
              "        vertical-align: middle;\n",
              "    }\n",
              "\n",
              "    .dataframe tbody tr th {\n",
              "        vertical-align: top;\n",
              "    }\n",
              "\n",
              "    .dataframe thead th {\n",
              "        text-align: right;\n",
              "    }\n",
              "</style>\n",
              "<table border=\"1\" class=\"dataframe\">\n",
              "  <thead>\n",
              "    <tr style=\"text-align: right;\">\n",
              "      <th></th>\n",
              "      <th>open</th>\n",
              "      <th>high</th>\n",
              "      <th>low</th>\n",
              "      <th>close</th>\n",
              "      <th>Adj Close</th>\n",
              "      <th>volume</th>\n",
              "    </tr>\n",
              "    <tr>\n",
              "      <th>Date</th>\n",
              "      <th></th>\n",
              "      <th></th>\n",
              "      <th></th>\n",
              "      <th></th>\n",
              "      <th></th>\n",
              "      <th></th>\n",
              "    </tr>\n",
              "  </thead>\n",
              "  <tbody>\n",
              "    <tr>\n",
              "      <th>2022-06-28</th>\n",
              "      <td>390.230011</td>\n",
              "      <td>393.160004</td>\n",
              "      <td>380.529999</td>\n",
              "      <td>380.649994</td>\n",
              "      <td>380.649994</td>\n",
              "      <td>8.654890e+07</td>\n",
              "    </tr>\n",
              "    <tr>\n",
              "      <th>2022-06-29</th>\n",
              "      <td>383.563344</td>\n",
              "      <td>385.093326</td>\n",
              "      <td>378.967047</td>\n",
              "      <td>380.420366</td>\n",
              "      <td>380.420366</td>\n",
              "      <td>7.108749e+07</td>\n",
              "    </tr>\n",
              "    <tr>\n",
              "      <th>2022-06-30</th>\n",
              "      <td>378.589929</td>\n",
              "      <td>382.082581</td>\n",
              "      <td>374.615910</td>\n",
              "      <td>378.267316</td>\n",
              "      <td>378.267316</td>\n",
              "      <td>9.921707e+07</td>\n",
              "    </tr>\n",
              "    <tr>\n",
              "      <th>2022-07-01</th>\n",
              "      <td>377.250372</td>\n",
              "      <td>381.830123</td>\n",
              "      <td>374.077481</td>\n",
              "      <td>380.228992</td>\n",
              "      <td>380.228992</td>\n",
              "      <td>8.309897e+07</td>\n",
              "    </tr>\n",
              "    <tr>\n",
              "      <th>2022-07-05</th>\n",
              "      <td>376.354930</td>\n",
              "      <td>381.928065</td>\n",
              "      <td>373.308073</td>\n",
              "      <td>381.360082</td>\n",
              "      <td>381.360082</td>\n",
              "      <td>8.201364e+07</td>\n",
              "    </tr>\n",
              "  </tbody>\n",
              "</table>\n",
              "</div>\n",
              "      <button class=\"colab-df-convert\" onclick=\"convertToInteractive('df-b2b287ca-4044-4bc8-a7ed-ac268c62bb64')\"\n",
              "              title=\"Convert this dataframe to an interactive table.\"\n",
              "              style=\"display:none;\">\n",
              "        \n",
              "  <svg xmlns=\"http://www.w3.org/2000/svg\" height=\"24px\"viewBox=\"0 0 24 24\"\n",
              "       width=\"24px\">\n",
              "    <path d=\"M0 0h24v24H0V0z\" fill=\"none\"/>\n",
              "    <path d=\"M18.56 5.44l.94 2.06.94-2.06 2.06-.94-2.06-.94-.94-2.06-.94 2.06-2.06.94zm-11 1L8.5 8.5l.94-2.06 2.06-.94-2.06-.94L8.5 2.5l-.94 2.06-2.06.94zm10 10l.94 2.06.94-2.06 2.06-.94-2.06-.94-.94-2.06-.94 2.06-2.06.94z\"/><path d=\"M17.41 7.96l-1.37-1.37c-.4-.4-.92-.59-1.43-.59-.52 0-1.04.2-1.43.59L10.3 9.45l-7.72 7.72c-.78.78-.78 2.05 0 2.83L4 21.41c.39.39.9.59 1.41.59.51 0 1.02-.2 1.41-.59l7.78-7.78 2.81-2.81c.8-.78.8-2.07 0-2.86zM5.41 20L4 18.59l7.72-7.72 1.47 1.35L5.41 20z\"/>\n",
              "  </svg>\n",
              "      </button>\n",
              "      \n",
              "  <style>\n",
              "    .colab-df-container {\n",
              "      display:flex;\n",
              "      flex-wrap:wrap;\n",
              "      gap: 12px;\n",
              "    }\n",
              "\n",
              "    .colab-df-convert {\n",
              "      background-color: #E8F0FE;\n",
              "      border: none;\n",
              "      border-radius: 50%;\n",
              "      cursor: pointer;\n",
              "      display: none;\n",
              "      fill: #1967D2;\n",
              "      height: 32px;\n",
              "      padding: 0 0 0 0;\n",
              "      width: 32px;\n",
              "    }\n",
              "\n",
              "    .colab-df-convert:hover {\n",
              "      background-color: #E2EBFA;\n",
              "      box-shadow: 0px 1px 2px rgba(60, 64, 67, 0.3), 0px 1px 3px 1px rgba(60, 64, 67, 0.15);\n",
              "      fill: #174EA6;\n",
              "    }\n",
              "\n",
              "    [theme=dark] .colab-df-convert {\n",
              "      background-color: #3B4455;\n",
              "      fill: #D2E3FC;\n",
              "    }\n",
              "\n",
              "    [theme=dark] .colab-df-convert:hover {\n",
              "      background-color: #434B5C;\n",
              "      box-shadow: 0px 1px 3px 1px rgba(0, 0, 0, 0.15);\n",
              "      filter: drop-shadow(0px 1px 2px rgba(0, 0, 0, 0.3));\n",
              "      fill: #FFFFFF;\n",
              "    }\n",
              "  </style>\n",
              "\n",
              "      <script>\n",
              "        const buttonEl =\n",
              "          document.querySelector('#df-b2b287ca-4044-4bc8-a7ed-ac268c62bb64 button.colab-df-convert');\n",
              "        buttonEl.style.display =\n",
              "          google.colab.kernel.accessAllowed ? 'block' : 'none';\n",
              "\n",
              "        async function convertToInteractive(key) {\n",
              "          const element = document.querySelector('#df-b2b287ca-4044-4bc8-a7ed-ac268c62bb64');\n",
              "          const dataTable =\n",
              "            await google.colab.kernel.invokeFunction('convertToInteractive',\n",
              "                                                     [key], {});\n",
              "          if (!dataTable) return;\n",
              "\n",
              "          const docLinkHtml = 'Like what you see? Visit the ' +\n",
              "            '<a target=\"_blank\" href=https://colab.research.google.com/notebooks/data_table.ipynb>data table notebook</a>'\n",
              "            + ' to learn more about interactive tables.';\n",
              "          element.innerHTML = '';\n",
              "          dataTable['output_type'] = 'display_data';\n",
              "          await google.colab.output.renderOutput(dataTable, element);\n",
              "          const docLink = document.createElement('div');\n",
              "          docLink.innerHTML = docLinkHtml;\n",
              "          element.appendChild(docLink);\n",
              "        }\n",
              "      </script>\n",
              "    </div>\n",
              "  </div>\n",
              "  "
            ]
          },
          "metadata": {},
          "execution_count": 69
        }
      ]
    },
    {
      "cell_type": "code",
      "source": [
        "def indicator_data(data):\n",
        "  \n",
        "  for ind in indicators:\n",
        "    return ind\n",
        "indicator_data(exponential_weight)\n",
        "'''data['ema300'] = data['close'] / data['close'].ewm(300).mean()\n",
        "  data['ema200'] = data['close'] / data['close'].ewm(200).mean()\n",
        "  data['ema50'] = data['close'] / data['close'].ewm(50).mean()\n",
        "  data['ema20'] = data['close'] / data['close'].ewm(20).mean()\n",
        "  data['ema9'] = data['close'] / data['close'].ewm(9).mean()\n",
        "\n",
        "  data['MA_volume'] = data['volume'] / data['volume'].ewm(5).mean()\n",
        "\n",
        "  del (data['open'])\n",
        "  del (data['high'])\n",
        "  del (data['low'])\n",
        "  del (data['volume'])\n",
        "  del (data['Adj Close'])\n",
        "\n",
        "  return data\n",
        "\n",
        "indicator_data = indicator_data(exponential_weight)\n",
        "indicator_data'''"
      ],
      "metadata": {
        "id": "EqnGGR6X7r33",
        "colab": {
          "base_uri": "https://localhost:8080/",
          "height": 87
        },
        "outputId": "46f65fc0-7ed6-4f71-9b66-382c758d76a6"
      },
      "execution_count": 59,
      "outputs": [
        {
          "output_type": "execute_result",
          "data": {
            "text/plain": [
              "\"data['ema300'] = data['close'] / data['close'].ewm(300).mean()\\n  data['ema200'] = data['close'] / data['close'].ewm(200).mean()\\n  data['ema50'] = data['close'] / data['close'].ewm(50).mean()\\n  data['ema20'] = data['close'] / data['close'].ewm(20).mean()\\n  data['ema9'] = data['close'] / data['close'].ewm(9).mean()\\n\\n  data['MA_volume'] = data['volume'] / data['volume'].ewm(5).mean()\\n\\n  del (data['open'])\\n  del (data['high'])\\n  del (data['low'])\\n  del (data['volume'])\\n  del (data['Adj Close'])\\n\\n  return data\\n\\nindicator_data = indicator_data(exponential_weight)\\nindicator_data\""
            ],
            "application/vnd.google.colaboratory.intrinsic+json": {
              "type": "string"
            }
          },
          "metadata": {},
          "execution_count": 59
        }
      ]
    },
    {
      "cell_type": "code",
      "source": [
        "print(TA.RSI(exp_weight, 14))\n"
      ],
      "metadata": {
        "colab": {
          "base_uri": "https://localhost:8080/"
        },
        "id": "CRxAN6_YpYUh",
        "outputId": "53569e5b-4b4c-44bd-ecaa-fc962d09cf50"
      },
      "execution_count": 78,
      "outputs": [
        {
          "output_type": "stream",
          "name": "stdout",
          "text": [
            "Date\n",
            "2022-06-28          NaN\n",
            "2022-06-29     0.000000\n",
            "2022-06-30     0.000000\n",
            "2022-07-01    47.167776\n",
            "2022-07-05    59.136244\n",
            "Name: 14 period RSI, dtype: float64\n"
          ]
        }
      ]
    }
  ]
}